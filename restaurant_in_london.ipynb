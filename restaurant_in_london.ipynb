{
 "cells": [
  {
   "cell_type": "markdown",
   "metadata": {},
   "source": [
    "# Opening a Chinese restaurant in London"
   ]
  },
  {
   "cell_type": "markdown",
   "metadata": {},
   "source": [
    "**Business Problem**: A client from China is exploring the option of opening a restaurant in London. The client is unfortunately not very familiar with London and is only aware of the city having a significant Chinese population. As the client plans to open a traditional restaurant, it's important that the establishment would be in a neighbourhood of notable Chinese population. The client envisages to bring 'home' (the flavours at least) a bit closer to the local Chinese communities by providing truly authentic cuisine.\n",
    "\n",
    "Although the client is not afraid of some competition, doesn't want to select a neighbourhood that already has a lot of popular Chinese restaurants."
   ]
  },
  {
   "cell_type": "markdown",
   "metadata": {},
   "source": [
    "**Data**: The exercise will use four datasets and Foursquare.\n",
    "\n",
    "* **2011 Census dataset - London**: This dataset contains detailed ethnicity data down to Output Areas (OAs), a level of detail which is not necessary in this case. Instead the research will use Middle Layer Super Output Areas (MSOAs) which is second to boroughs (local authorities). The data can be downloaded from the website of the Office of National Statistics [here](https://www.ons.gov.uk/peoplepopulationandcommunity/populationandmigration/populationestimates/datasets/2011censuskeystatisticsandquickstatisticsforwardsandoutputareasinenglandandwales).\n",
    "* **Middle Layer Super Output Areas (December 2011) Population Weighted Centroids**: As the dataset above doesn't contain detailed location data, another dataset is needed to find the centroids of the MSOAs. This step will make it possible to use Foursquare to find nearby restaurants. The data can be downloaded from the website of the Office of National Statistics  [here](https://geoportal.statistics.gov.uk/datasets/middle-layer-super-output-areas-december-2011-population-weighted-centroids).\n",
    "* **Digital Vector Boundaries for Middle Layer Super Output Areas for England and Wales**: Contains the coordinates of shapes that can be used with Folium to visualise the data on a map, it can be found [here](https://geoportal.statistics.gov.uk/datasets/826dc85fb600440889480f4d9dbb1a24_0). It was filtered for London MSAOs outside of Jupyter Nootbook because of performance issues.\n",
    "* **Land Area and Population Density**: To help filter regions for the right properties, the dataset can be found [here](https://data.london.gov.uk/dataset/super-output-area-population-lsoa-msoa-london).\n",
    "* **Foursquare**: Last but not least Foursquare location data will help to profile restaurants around the centroids of the selected MSAOs with high Chinese population."
   ]
  },
  {
   "cell_type": "markdown",
   "metadata": {},
   "source": [
    "**Methodology**: The research uses exploratory data analysis and k-means clustering to find neighbourhoods with high Chinese population and then k-means clustering once again to group the MSOAs based on restaurant types. For the client an ideal neighbourhood would not only mean it has a few Chinese restaurants but in general Far Eastern restaurants are not super popular."
   ]
  },
  {
   "cell_type": "code",
   "execution_count": 39,
   "metadata": {},
   "outputs": [],
   "source": [
    "# import libraries\n",
    "import pandas as pd\n",
    "import numpy as np\n",
    "import folium\n",
    "import json\n",
    "import requests\n",
    "import geopandas\n",
    "from geopy.geocoders import Nominatim\n",
    "import matplotlib.pyplot as plt\n",
    "from sklearn.cluster import KMeans\n",
    "import branca.colormap as cm\n",
    "from sklearn.preprocessing import Normalizer"
   ]
  },
  {
   "cell_type": "code",
   "execution_count": null,
   "metadata": {
    "tags": []
   },
   "outputs": [],
   "source": [
    "# adding dotenv to hide keys\n",
    "%load_ext dotenv\n",
    "%dotenv"
   ]
  },
  {
   "cell_type": "code",
   "execution_count": 40,
   "metadata": {},
   "outputs": [],
   "source": [
    "# create a .env file with your credentials\n",
    "\n",
    "# get api key\n",
    "client_id = %env CLIENT_ID\n",
    "cliend_secret = %env CLIENT_SECRET\n",
    "version = '20191101'"
   ]
  },
  {
   "cell_type": "markdown",
   "metadata": {},
   "source": [
    "## Loading and formatting datasets\n",
    "In this section we are doing a bit of data wrangling to make our datasets more suitable for analysis."
   ]
  },
  {
   "cell_type": "code",
   "execution_count": 41,
   "metadata": {},
   "outputs": [
    {
     "output_type": "execute_result",
     "data": {
      "text/plain": [
       "  Region code Region name Local authority code Local authority name  \\\n",
       "0   E12000007      LONDON            E09000007               Camden   \n",
       "1   E12000007      LONDON            E09000007               Camden   \n",
       "2   E12000007      LONDON            E09000007               Camden   \n",
       "3   E12000007      LONDON            E09000007               Camden   \n",
       "4   E12000007      LONDON            E09000007               Camden   \n",
       "\n",
       "   MSOA Code   MSOA Name All categories: Ethnic group (detailed)  \\\n",
       "0  E02000166  Camden 001                                    7924   \n",
       "1  E02000167  Camden 002                                    7944   \n",
       "2  E02000168  Camden 003                                    8172   \n",
       "3  E02000169  Camden 004                                    7637   \n",
       "4  E02000170  Camden 005                                    8338   \n",
       "\n",
       "  White: English/Welsh/Scottish/Northern Irish/British White: Irish  \\\n",
       "0                                               4764            317   \n",
       "1                                               4606            162   \n",
       "2                                               4879            346   \n",
       "3                                               3663            174   \n",
       "4                                               4041            336   \n",
       "\n",
       "  White: Gypsy or Irish Traveller  ... Other ethnic group: Punjabi  \\\n",
       "0                               7  ...                           0   \n",
       "1                               7  ...                           0   \n",
       "2                               2  ...                           0   \n",
       "3                               1  ...                           0   \n",
       "4                               2  ...                           0   \n",
       "\n",
       "  Other ethnic group: Somali Other ethnic group: Somalilander  \\\n",
       "0                          0                                0   \n",
       "1                          0                                0   \n",
       "2                          6                                0   \n",
       "3                          0                                1   \n",
       "4                          5                                0   \n",
       "\n",
       "  Other ethnic group: Sri Lankan Other ethnic group: Tamil  \\\n",
       "0                              0                         0   \n",
       "1                              0                         0   \n",
       "2                              0                         0   \n",
       "3                              0                         0   \n",
       "4                              0                         0   \n",
       "\n",
       "  Other ethnic group: Thai Other ethnic group: Turkish  \\\n",
       "0                        0                           4   \n",
       "1                        0                           1   \n",
       "2                        1                           3   \n",
       "3                        0                           4   \n",
       "4                        0                           2   \n",
       "\n",
       "  Other ethnic group: Turkish Cypriot Other ethnic group: Vietnamese  \\\n",
       "0                                   2                              0   \n",
       "1                                   0                              0   \n",
       "2                                   0                              1   \n",
       "3                                   0                              0   \n",
       "4                                   0                              0   \n",
       "\n",
       "  Other ethnic group: Any other ethnic group  \n",
       "0                                         51  \n",
       "1                                         31  \n",
       "2                                         32  \n",
       "3                                         48  \n",
       "4                                         39  \n",
       "\n",
       "[5 rows x 257 columns]"
      ],
      "text/html": "<div>\n<style scoped>\n    .dataframe tbody tr th:only-of-type {\n        vertical-align: middle;\n    }\n\n    .dataframe tbody tr th {\n        vertical-align: top;\n    }\n\n    .dataframe thead th {\n        text-align: right;\n    }\n</style>\n<table border=\"1\" class=\"dataframe\">\n  <thead>\n    <tr style=\"text-align: right;\">\n      <th></th>\n      <th>Region code</th>\n      <th>Region name</th>\n      <th>Local authority code</th>\n      <th>Local authority name</th>\n      <th>MSOA Code</th>\n      <th>MSOA Name</th>\n      <th>All categories: Ethnic group (detailed)</th>\n      <th>White: English/Welsh/Scottish/Northern Irish/British</th>\n      <th>White: Irish</th>\n      <th>White: Gypsy or Irish Traveller</th>\n      <th>...</th>\n      <th>Other ethnic group: Punjabi</th>\n      <th>Other ethnic group: Somali</th>\n      <th>Other ethnic group: Somalilander</th>\n      <th>Other ethnic group: Sri Lankan</th>\n      <th>Other ethnic group: Tamil</th>\n      <th>Other ethnic group: Thai</th>\n      <th>Other ethnic group: Turkish</th>\n      <th>Other ethnic group: Turkish Cypriot</th>\n      <th>Other ethnic group: Vietnamese</th>\n      <th>Other ethnic group: Any other ethnic group</th>\n    </tr>\n  </thead>\n  <tbody>\n    <tr>\n      <th>0</th>\n      <td>E12000007</td>\n      <td>LONDON</td>\n      <td>E09000007</td>\n      <td>Camden</td>\n      <td>E02000166</td>\n      <td>Camden 001</td>\n      <td>7924</td>\n      <td>4764</td>\n      <td>317</td>\n      <td>7</td>\n      <td>...</td>\n      <td>0</td>\n      <td>0</td>\n      <td>0</td>\n      <td>0</td>\n      <td>0</td>\n      <td>0</td>\n      <td>4</td>\n      <td>2</td>\n      <td>0</td>\n      <td>51</td>\n    </tr>\n    <tr>\n      <th>1</th>\n      <td>E12000007</td>\n      <td>LONDON</td>\n      <td>E09000007</td>\n      <td>Camden</td>\n      <td>E02000167</td>\n      <td>Camden 002</td>\n      <td>7944</td>\n      <td>4606</td>\n      <td>162</td>\n      <td>7</td>\n      <td>...</td>\n      <td>0</td>\n      <td>0</td>\n      <td>0</td>\n      <td>0</td>\n      <td>0</td>\n      <td>0</td>\n      <td>1</td>\n      <td>0</td>\n      <td>0</td>\n      <td>31</td>\n    </tr>\n    <tr>\n      <th>2</th>\n      <td>E12000007</td>\n      <td>LONDON</td>\n      <td>E09000007</td>\n      <td>Camden</td>\n      <td>E02000168</td>\n      <td>Camden 003</td>\n      <td>8172</td>\n      <td>4879</td>\n      <td>346</td>\n      <td>2</td>\n      <td>...</td>\n      <td>0</td>\n      <td>6</td>\n      <td>0</td>\n      <td>0</td>\n      <td>0</td>\n      <td>1</td>\n      <td>3</td>\n      <td>0</td>\n      <td>1</td>\n      <td>32</td>\n    </tr>\n    <tr>\n      <th>3</th>\n      <td>E12000007</td>\n      <td>LONDON</td>\n      <td>E09000007</td>\n      <td>Camden</td>\n      <td>E02000169</td>\n      <td>Camden 004</td>\n      <td>7637</td>\n      <td>3663</td>\n      <td>174</td>\n      <td>1</td>\n      <td>...</td>\n      <td>0</td>\n      <td>0</td>\n      <td>1</td>\n      <td>0</td>\n      <td>0</td>\n      <td>0</td>\n      <td>4</td>\n      <td>0</td>\n      <td>0</td>\n      <td>48</td>\n    </tr>\n    <tr>\n      <th>4</th>\n      <td>E12000007</td>\n      <td>LONDON</td>\n      <td>E09000007</td>\n      <td>Camden</td>\n      <td>E02000170</td>\n      <td>Camden 005</td>\n      <td>8338</td>\n      <td>4041</td>\n      <td>336</td>\n      <td>2</td>\n      <td>...</td>\n      <td>0</td>\n      <td>5</td>\n      <td>0</td>\n      <td>0</td>\n      <td>0</td>\n      <td>0</td>\n      <td>2</td>\n      <td>0</td>\n      <td>0</td>\n      <td>39</td>\n    </tr>\n  </tbody>\n</table>\n<p>5 rows × 257 columns</p>\n</div>"
     },
     "metadata": {},
     "execution_count": 41
    }
   ],
   "source": [
    "# !!! the report doesn't have the data files, download them first and put them into your data folder !!!\n",
    "\n",
    "# reading in London only census data\n",
    "census_df = pd.read_excel('data/R2_2_EW__RT__Table_QS211__OA_London_v1.xlsx', 'MSOA', skiprows=9)\n",
    "\n",
    "# dropping empty column\n",
    "census_df.drop(census_df.columns[6], axis=1, inplace=True)\n",
    "\n",
    "# correct column labels are in different rows, extracting the first part\n",
    "column_names_first = census_df.columns[0:6].tolist()\n",
    "\n",
    "# extracting the second part\n",
    "column_names_second = census_df.iloc[0,6:].tolist()\n",
    "\n",
    "# creating and assigning new column labels\n",
    "new_column_name = column_names_first + column_names_second\n",
    "census_df.columns = new_column_name\n",
    "\n",
    "# dropping redundant rows\n",
    "census_df.drop([0,1,2], inplace=True)\n",
    "\n",
    "# resetting index\n",
    "census_df.reset_index(inplace=True, drop=True)\n",
    "\n",
    "census_df.head()"
   ]
  },
  {
   "cell_type": "code",
   "execution_count": 42,
   "metadata": {
    "tags": []
   },
   "outputs": [
    {
     "output_type": "stream",
     "name": "stdout",
     "text": [
      "Total                 8173941.0\nChinese Population     129108.0\ndtype: float64\n"
     ]
    },
    {
     "output_type": "execute_result",
     "data": {
      "text/plain": [
       "   MSOA Code   MSOA Name Total Chinese Population\n",
       "0  E02000166  Camden 001  7924                 83\n",
       "1  E02000167  Camden 002  7944                137\n",
       "2  E02000168  Camden 003  8172                 72\n",
       "3  E02000169  Camden 004  7637                177\n",
       "4  E02000170  Camden 005  8338                155"
      ],
      "text/html": "<div>\n<style scoped>\n    .dataframe tbody tr th:only-of-type {\n        vertical-align: middle;\n    }\n\n    .dataframe tbody tr th {\n        vertical-align: top;\n    }\n\n    .dataframe thead th {\n        text-align: right;\n    }\n</style>\n<table border=\"1\" class=\"dataframe\">\n  <thead>\n    <tr style=\"text-align: right;\">\n      <th></th>\n      <th>MSOA Code</th>\n      <th>MSOA Name</th>\n      <th>Total</th>\n      <th>Chinese Population</th>\n    </tr>\n  </thead>\n  <tbody>\n    <tr>\n      <th>0</th>\n      <td>E02000166</td>\n      <td>Camden 001</td>\n      <td>7924</td>\n      <td>83</td>\n    </tr>\n    <tr>\n      <th>1</th>\n      <td>E02000167</td>\n      <td>Camden 002</td>\n      <td>7944</td>\n      <td>137</td>\n    </tr>\n    <tr>\n      <th>2</th>\n      <td>E02000168</td>\n      <td>Camden 003</td>\n      <td>8172</td>\n      <td>72</td>\n    </tr>\n    <tr>\n      <th>3</th>\n      <td>E02000169</td>\n      <td>Camden 004</td>\n      <td>7637</td>\n      <td>177</td>\n    </tr>\n    <tr>\n      <th>4</th>\n      <td>E02000170</td>\n      <td>Camden 005</td>\n      <td>8338</td>\n      <td>155</td>\n    </tr>\n  </tbody>\n</table>\n</div>"
     },
     "metadata": {},
     "execution_count": 42
    }
   ],
   "source": [
    "# checking for relevant columns by searching for 'chinese' in headings\n",
    "chinese_columns = [col for col in census_df.columns if 'chinese' in col.lower()]\n",
    "\n",
    "# creating new dataset with relevant columns\n",
    "cn_df = census_df[['MSOA Code', 'MSOA Name', 'All categories: Ethnic group (detailed)'] + chinese_columns]\n",
    "\n",
    "# extracting new column names as it's easier to read them from a list\n",
    "cn_columns = cn_df.columns.tolist()\n",
    "\n",
    "# adding up Chinese related ethnic groups\n",
    "cn_df['Chinese Population'] = cn_df[cn_columns[3]] + cn_df[cn_columns[4]] + cn_df[cn_columns[5]] + cn_df[cn_columns[6]]\n",
    "\n",
    "# keep necessary rows\n",
    "cn_df = cn_df.drop(columns = [cn_columns[3], cn_columns[4], cn_columns[5], cn_columns[6]])\n",
    "\n",
    "# rename columns\n",
    "cn_df.rename(columns={'All categories: Ethnic group (detailed)': 'Total'}, inplace=True)\n",
    "\n",
    "# total population / chinese population\n",
    "print(cn_df[['Total', 'Chinese Population']].sum())\n",
    "cn_df.head()\n"
   ]
  },
  {
   "source": [
    "# # API call for population weighted centroids\n",
    "# response = requests.get(\"https://opendata.arcgis.com/datasets/b0a6d8a3dc5d4718b3fd62c548d60f81_0.geojson\")\n",
    "\n",
    "# # Read json\n",
    "# lon_geojson = json.loads(response.text)\n",
    "\n",
    "# open the downloaded file for MSOA population weighted centroids of the UK\n",
    "with open(\"data/Middle_Layer_Super_Output_Areas__December_2011__Population_Weighted_Centroids.geojson\", \"r\") as read_file:\n",
    "    centroids_df = json.load(read_file)\n",
    "\n",
    "# getting London MSOA codes to filter centroids\n",
    "london_msoas = cn_df['MSOA Code'].values.tolist()\n",
    "\n",
    "# filter centroids for London MSOAs\n",
    "london_centroids_df = pd.DataFrame([(x['properties']['msoa11cd'], \n",
    "                               x['geometry']['coordinates'][1],\n",
    "                               x['geometry']['coordinates'][0]) for x in centroids_df['features'] if x['properties']['msoa11cd'] in london_msoas])\n",
    "\n",
    "# renaming columns\n",
    "london_centroids_df.columns = ['MSOA Code', 'Latitude', 'Longitude']\n",
    "london_centroids_df.head()\n"
   ],
   "cell_type": "code",
   "metadata": {},
   "execution_count": 43,
   "outputs": [
    {
     "output_type": "execute_result",
     "data": {
      "text/plain": [
       "   MSOA Code   Latitude  Longitude\n",
       "0  E02000246  51.535363  -0.395945\n",
       "1  E02000247  51.533821  -0.369571\n",
       "2  E02000244  51.536529  -0.327992\n",
       "3  E02000242  51.540434  -0.311618\n",
       "4  E02000243  51.537928  -0.346903"
      ],
      "text/html": "<div>\n<style scoped>\n    .dataframe tbody tr th:only-of-type {\n        vertical-align: middle;\n    }\n\n    .dataframe tbody tr th {\n        vertical-align: top;\n    }\n\n    .dataframe thead th {\n        text-align: right;\n    }\n</style>\n<table border=\"1\" class=\"dataframe\">\n  <thead>\n    <tr style=\"text-align: right;\">\n      <th></th>\n      <th>MSOA Code</th>\n      <th>Latitude</th>\n      <th>Longitude</th>\n    </tr>\n  </thead>\n  <tbody>\n    <tr>\n      <th>0</th>\n      <td>E02000246</td>\n      <td>51.535363</td>\n      <td>-0.395945</td>\n    </tr>\n    <tr>\n      <th>1</th>\n      <td>E02000247</td>\n      <td>51.533821</td>\n      <td>-0.369571</td>\n    </tr>\n    <tr>\n      <th>2</th>\n      <td>E02000244</td>\n      <td>51.536529</td>\n      <td>-0.327992</td>\n    </tr>\n    <tr>\n      <th>3</th>\n      <td>E02000242</td>\n      <td>51.540434</td>\n      <td>-0.311618</td>\n    </tr>\n    <tr>\n      <th>4</th>\n      <td>E02000243</td>\n      <td>51.537928</td>\n      <td>-0.346903</td>\n    </tr>\n  </tbody>\n</table>\n</div>"
     },
     "metadata": {},
     "execution_count": 43
    }
   ]
  },
  {
   "cell_type": "code",
   "execution_count": 44,
   "metadata": {},
   "outputs": [
    {
     "output_type": "execute_result",
     "data": {
      "text/plain": [
       "   MSOA Code   MSOA Name Total Chinese Population   Latitude  Longitude  \\\n",
       "0  E02000166  Camden 001  7924                 83  51.562958  -0.147053   \n",
       "1  E02000167  Camden 002  7944                137  51.557260  -0.173302   \n",
       "2  E02000168  Camden 003  8172                 72  51.555674  -0.141545   \n",
       "3  E02000169  Camden 004  7637                177  51.556033  -0.186380   \n",
       "4  E02000170  Camden 005  8338                155  51.553458  -0.199960   \n",
       "\n",
       "   Area Sq Km  \n",
       "0      3.0239  \n",
       "1      2.0813  \n",
       "2      0.6806  \n",
       "3      1.1226  \n",
       "4      0.7713  "
      ],
      "text/html": "<div>\n<style scoped>\n    .dataframe tbody tr th:only-of-type {\n        vertical-align: middle;\n    }\n\n    .dataframe tbody tr th {\n        vertical-align: top;\n    }\n\n    .dataframe thead th {\n        text-align: right;\n    }\n</style>\n<table border=\"1\" class=\"dataframe\">\n  <thead>\n    <tr style=\"text-align: right;\">\n      <th></th>\n      <th>MSOA Code</th>\n      <th>MSOA Name</th>\n      <th>Total</th>\n      <th>Chinese Population</th>\n      <th>Latitude</th>\n      <th>Longitude</th>\n      <th>Area Sq Km</th>\n    </tr>\n  </thead>\n  <tbody>\n    <tr>\n      <th>0</th>\n      <td>E02000166</td>\n      <td>Camden 001</td>\n      <td>7924</td>\n      <td>83</td>\n      <td>51.562958</td>\n      <td>-0.147053</td>\n      <td>3.0239</td>\n    </tr>\n    <tr>\n      <th>1</th>\n      <td>E02000167</td>\n      <td>Camden 002</td>\n      <td>7944</td>\n      <td>137</td>\n      <td>51.557260</td>\n      <td>-0.173302</td>\n      <td>2.0813</td>\n    </tr>\n    <tr>\n      <th>2</th>\n      <td>E02000168</td>\n      <td>Camden 003</td>\n      <td>8172</td>\n      <td>72</td>\n      <td>51.555674</td>\n      <td>-0.141545</td>\n      <td>0.6806</td>\n    </tr>\n    <tr>\n      <th>3</th>\n      <td>E02000169</td>\n      <td>Camden 004</td>\n      <td>7637</td>\n      <td>177</td>\n      <td>51.556033</td>\n      <td>-0.186380</td>\n      <td>1.1226</td>\n    </tr>\n    <tr>\n      <th>4</th>\n      <td>E02000170</td>\n      <td>Camden 005</td>\n      <td>8338</td>\n      <td>155</td>\n      <td>51.553458</td>\n      <td>-0.199960</td>\n      <td>0.7713</td>\n    </tr>\n  </tbody>\n</table>\n</div>"
     },
     "metadata": {},
     "execution_count": 44
    }
   ],
   "source": [
    "# let's add the population weighted centroids to our dataframe\n",
    "cn_centroids_df = pd.merge(cn_df, london_centroids_df, on='MSOA Code')\n",
    "\n",
    "# loading in the dataset containing the area sq km of the MSOAs\n",
    "msoa_areas = pd.read_excel(\"data/land-area-population-density-lsoa11-msoa11.xlsx\", usecols=(0,5))\n",
    "\n",
    "# merging the datasets\n",
    "final_pop_df = pd.merge(cn_centroids_df, msoa_areas, left_on='MSOA Code', right_on='MSOA11 Code').drop(columns='MSOA11 Code')\n",
    "\n",
    "final_pop_df.head()"
   ]
  },
  {
   "source": [
    "## Initial exploratory data analysis\n",
    "Now that we have all the required data in one dataframe, let's explore it a bit and do some initial analysis\n",
    "- First, let's run panda's describe function to get an overall grip of our data. This is quite a useful step because we want to do a histogram to see the distribution of the data and it greatly helps to identify the most appropriate bin size and tick frequency.\n",
    "- Then, let's put the data on a map and visually see the distribution of the Chinese population."
   ],
   "cell_type": "markdown",
   "metadata": {}
  },
  {
   "cell_type": "code",
   "execution_count": 45,
   "metadata": {},
   "outputs": [
    {
     "output_type": "execute_result",
     "data": {
      "text/plain": [
       "         Total  Chinese Population\n",
       "count    983.0               983.0\n",
       "mean    8315.3               131.3\n",
       "std     1448.4               110.1\n",
       "min     5184.0                 3.0\n",
       "25%     7337.5                67.0\n",
       "50%     8156.0               101.0\n",
       "75%     9110.0               157.0\n",
       "max    14719.0              1203.0"
      ],
      "text/html": "<div>\n<style scoped>\n    .dataframe tbody tr th:only-of-type {\n        vertical-align: middle;\n    }\n\n    .dataframe tbody tr th {\n        vertical-align: top;\n    }\n\n    .dataframe thead th {\n        text-align: right;\n    }\n</style>\n<table border=\"1\" class=\"dataframe\">\n  <thead>\n    <tr style=\"text-align: right;\">\n      <th></th>\n      <th>Total</th>\n      <th>Chinese Population</th>\n    </tr>\n  </thead>\n  <tbody>\n    <tr>\n      <th>count</th>\n      <td>983.0</td>\n      <td>983.0</td>\n    </tr>\n    <tr>\n      <th>mean</th>\n      <td>8315.3</td>\n      <td>131.3</td>\n    </tr>\n    <tr>\n      <th>std</th>\n      <td>1448.4</td>\n      <td>110.1</td>\n    </tr>\n    <tr>\n      <th>min</th>\n      <td>5184.0</td>\n      <td>3.0</td>\n    </tr>\n    <tr>\n      <th>25%</th>\n      <td>7337.5</td>\n      <td>67.0</td>\n    </tr>\n    <tr>\n      <th>50%</th>\n      <td>8156.0</td>\n      <td>101.0</td>\n    </tr>\n    <tr>\n      <th>75%</th>\n      <td>9110.0</td>\n      <td>157.0</td>\n    </tr>\n    <tr>\n      <th>max</th>\n      <td>14719.0</td>\n      <td>1203.0</td>\n    </tr>\n  </tbody>\n</table>\n</div>"
     },
     "metadata": {},
     "execution_count": 45
    }
   ],
   "source": [
    "final_pop_df.iloc[:,2:4].astype('int').describe().round(1)"
   ]
  },
  {
   "cell_type": "code",
   "execution_count": 46,
   "metadata": {},
   "outputs": [
    {
     "output_type": "execute_result",
     "data": {
      "text/plain": [
       "Total                 8173941\n",
       "Chinese Population     129108\n",
       "dtype: int64"
      ]
     },
     "metadata": {},
     "execution_count": 46
    }
   ],
   "source": [
    "final_pop_df.iloc[:,2:4].astype('int').sum()"
   ]
  },
  {
   "cell_type": "code",
   "execution_count": 47,
   "metadata": {},
   "outputs": [
    {
     "output_type": "execute_result",
     "data": {
      "text/plain": [
       "Text(0.5, 1.0, 'Histogram of Chinese population in MSOAs')"
      ]
     },
     "metadata": {},
     "execution_count": 47
    },
    {
     "output_type": "display_data",
     "data": {
      "text/plain": "<Figure size 1440x360 with 1 Axes>",
      "image/svg+xml": "<?xml version=\"1.0\" encoding=\"utf-8\" standalone=\"no\"?>\r\n<!DOCTYPE svg PUBLIC \"-//W3C//DTD SVG 1.1//EN\"\r\n  \"http://www.w3.org/Graphics/SVG/1.1/DTD/svg11.dtd\">\r\n<!-- Created with matplotlib (https://matplotlib.org/) -->\r\n<svg height=\"331.674375pt\" version=\"1.1\" viewBox=\"0 0 1170.165625 331.674375\" width=\"1170.165625pt\" xmlns=\"http://www.w3.org/2000/svg\" xmlns:xlink=\"http://www.w3.org/1999/xlink\">\r\n <metadata>\r\n  <rdf:RDF xmlns:cc=\"http://creativecommons.org/ns#\" xmlns:dc=\"http://purl.org/dc/elements/1.1/\" xmlns:rdf=\"http://www.w3.org/1999/02/22-rdf-syntax-ns#\">\r\n   <cc:Work>\r\n    <dc:type rdf:resource=\"http://purl.org/dc/dcmitype/StillImage\"/>\r\n    <dc:date>2020-10-17T17:37:05.789086</dc:date>\r\n    <dc:format>image/svg+xml</dc:format>\r\n    <dc:creator>\r\n     <cc:Agent>\r\n      <dc:title>Matplotlib v3.3.1, https://matplotlib.org/</dc:title>\r\n     </cc:Agent>\r\n    </dc:creator>\r\n   </cc:Work>\r\n  </rdf:RDF>\r\n </metadata>\r\n <defs>\r\n  <style type=\"text/css\">*{stroke-linecap:butt;stroke-linejoin:round;}</style>\r\n </defs>\r\n <g id=\"figure_1\">\r\n  <g id=\"patch_1\">\r\n   <path d=\"M 0 331.674375 \r\nL 1170.165625 331.674375 \r\nL 1170.165625 0 \r\nL 0 0 \r\nz\r\n\" style=\"fill:none;\"/>\r\n  </g>\r\n  <g id=\"axes_1\">\r\n   <g id=\"patch_2\">\r\n    <path d=\"M 46.965625 294.118125 \r\nL 1162.965625 294.118125 \r\nL 1162.965625 22.318125 \r\nL 46.965625 22.318125 \r\nz\r\n\" style=\"fill:#eeeeee;\"/>\r\n   </g>\r\n   <g id=\"matplotlib.axis_1\">\r\n    <g id=\"xtick_1\">\r\n     <g id=\"line2d_1\">\r\n      <path clip-path=\"url(#p311ea27f08)\" d=\"M 97.692898 294.118125 \r\nL 97.692898 22.318125 \r\n\" style=\"fill:none;stroke:#ffffff;stroke-linecap:square;stroke-width:0.8;\"/>\r\n     </g>\r\n     <g id=\"line2d_2\">\r\n      <defs>\r\n       <path d=\"M 0 0 \r\nL 0 3.5 \r\n\" id=\"m7a903a7c2f\" style=\"stroke:#000000;stroke-width:0.8;\"/>\r\n      </defs>\r\n      <g>\r\n       <use style=\"stroke:#000000;stroke-width:0.8;\" x=\"97.692898\" xlink:href=\"#m7a903a7c2f\" y=\"294.118125\"/>\r\n      </g>\r\n     </g>\r\n     <g id=\"text_1\">\r\n      <!-- 0 -->\r\n      <g transform=\"translate(94.511648 308.716563)scale(0.1 -0.1)\">\r\n       <defs>\r\n        <path d=\"M 31.78125 66.40625 \r\nQ 24.171875 66.40625 20.328125 58.90625 \r\nQ 16.5 51.421875 16.5 36.375 \r\nQ 16.5 21.390625 20.328125 13.890625 \r\nQ 24.171875 6.390625 31.78125 6.390625 \r\nQ 39.453125 6.390625 43.28125 13.890625 \r\nQ 47.125 21.390625 47.125 36.375 \r\nQ 47.125 51.421875 43.28125 58.90625 \r\nQ 39.453125 66.40625 31.78125 66.40625 \r\nz\r\nM 31.78125 74.21875 \r\nQ 44.046875 74.21875 50.515625 64.515625 \r\nQ 56.984375 54.828125 56.984375 36.375 \r\nQ 56.984375 17.96875 50.515625 8.265625 \r\nQ 44.046875 -1.421875 31.78125 -1.421875 \r\nQ 19.53125 -1.421875 13.0625 8.265625 \r\nQ 6.59375 17.96875 6.59375 36.375 \r\nQ 6.59375 54.828125 13.0625 64.515625 \r\nQ 19.53125 74.21875 31.78125 74.21875 \r\nz\r\n\" id=\"DejaVuSans-48\"/>\r\n       </defs>\r\n       <use xlink:href=\"#DejaVuSans-48\"/>\r\n      </g>\r\n     </g>\r\n    </g>\r\n    <g id=\"xtick_2\">\r\n     <g id=\"line2d_3\">\r\n      <path clip-path=\"url(#p311ea27f08)\" d=\"M 175.734856 294.118125 \r\nL 175.734856 22.318125 \r\n\" style=\"fill:none;stroke:#ffffff;stroke-linecap:square;stroke-width:0.8;\"/>\r\n     </g>\r\n     <g id=\"line2d_4\">\r\n      <g>\r\n       <use style=\"stroke:#000000;stroke-width:0.8;\" x=\"175.734856\" xlink:href=\"#m7a903a7c2f\" y=\"294.118125\"/>\r\n      </g>\r\n     </g>\r\n     <g id=\"text_2\">\r\n      <!-- 100 -->\r\n      <g transform=\"translate(166.191106 308.716563)scale(0.1 -0.1)\">\r\n       <defs>\r\n        <path d=\"M 12.40625 8.296875 \r\nL 28.515625 8.296875 \r\nL 28.515625 63.921875 \r\nL 10.984375 60.40625 \r\nL 10.984375 69.390625 \r\nL 28.421875 72.90625 \r\nL 38.28125 72.90625 \r\nL 38.28125 8.296875 \r\nL 54.390625 8.296875 \r\nL 54.390625 0 \r\nL 12.40625 0 \r\nz\r\n\" id=\"DejaVuSans-49\"/>\r\n       </defs>\r\n       <use xlink:href=\"#DejaVuSans-49\"/>\r\n       <use x=\"63.623047\" xlink:href=\"#DejaVuSans-48\"/>\r\n       <use x=\"127.246094\" xlink:href=\"#DejaVuSans-48\"/>\r\n      </g>\r\n     </g>\r\n    </g>\r\n    <g id=\"xtick_3\">\r\n     <g id=\"line2d_5\">\r\n      <path clip-path=\"url(#p311ea27f08)\" d=\"M 253.776814 294.118125 \r\nL 253.776814 22.318125 \r\n\" style=\"fill:none;stroke:#ffffff;stroke-linecap:square;stroke-width:0.8;\"/>\r\n     </g>\r\n     <g id=\"line2d_6\">\r\n      <g>\r\n       <use style=\"stroke:#000000;stroke-width:0.8;\" x=\"253.776814\" xlink:href=\"#m7a903a7c2f\" y=\"294.118125\"/>\r\n      </g>\r\n     </g>\r\n     <g id=\"text_3\">\r\n      <!-- 200 -->\r\n      <g transform=\"translate(244.233064 308.716563)scale(0.1 -0.1)\">\r\n       <defs>\r\n        <path d=\"M 19.1875 8.296875 \r\nL 53.609375 8.296875 \r\nL 53.609375 0 \r\nL 7.328125 0 \r\nL 7.328125 8.296875 \r\nQ 12.9375 14.109375 22.625 23.890625 \r\nQ 32.328125 33.6875 34.8125 36.53125 \r\nQ 39.546875 41.84375 41.421875 45.53125 \r\nQ 43.3125 49.21875 43.3125 52.78125 \r\nQ 43.3125 58.59375 39.234375 62.25 \r\nQ 35.15625 65.921875 28.609375 65.921875 \r\nQ 23.96875 65.921875 18.8125 64.3125 \r\nQ 13.671875 62.703125 7.8125 59.421875 \r\nL 7.8125 69.390625 \r\nQ 13.765625 71.78125 18.9375 73 \r\nQ 24.125 74.21875 28.421875 74.21875 \r\nQ 39.75 74.21875 46.484375 68.546875 \r\nQ 53.21875 62.890625 53.21875 53.421875 \r\nQ 53.21875 48.921875 51.53125 44.890625 \r\nQ 49.859375 40.875 45.40625 35.40625 \r\nQ 44.1875 33.984375 37.640625 27.21875 \r\nQ 31.109375 20.453125 19.1875 8.296875 \r\nz\r\n\" id=\"DejaVuSans-50\"/>\r\n       </defs>\r\n       <use xlink:href=\"#DejaVuSans-50\"/>\r\n       <use x=\"63.623047\" xlink:href=\"#DejaVuSans-48\"/>\r\n       <use x=\"127.246094\" xlink:href=\"#DejaVuSans-48\"/>\r\n      </g>\r\n     </g>\r\n    </g>\r\n    <g id=\"xtick_4\">\r\n     <g id=\"line2d_7\">\r\n      <path clip-path=\"url(#p311ea27f08)\" d=\"M 331.818772 294.118125 \r\nL 331.818772 22.318125 \r\n\" style=\"fill:none;stroke:#ffffff;stroke-linecap:square;stroke-width:0.8;\"/>\r\n     </g>\r\n     <g id=\"line2d_8\">\r\n      <g>\r\n       <use style=\"stroke:#000000;stroke-width:0.8;\" x=\"331.818772\" xlink:href=\"#m7a903a7c2f\" y=\"294.118125\"/>\r\n      </g>\r\n     </g>\r\n     <g id=\"text_4\">\r\n      <!-- 300 -->\r\n      <g transform=\"translate(322.275022 308.716563)scale(0.1 -0.1)\">\r\n       <defs>\r\n        <path d=\"M 40.578125 39.3125 \r\nQ 47.65625 37.796875 51.625 33 \r\nQ 55.609375 28.21875 55.609375 21.1875 \r\nQ 55.609375 10.40625 48.1875 4.484375 \r\nQ 40.765625 -1.421875 27.09375 -1.421875 \r\nQ 22.515625 -1.421875 17.65625 -0.515625 \r\nQ 12.796875 0.390625 7.625 2.203125 \r\nL 7.625 11.71875 \r\nQ 11.71875 9.328125 16.59375 8.109375 \r\nQ 21.484375 6.890625 26.8125 6.890625 \r\nQ 36.078125 6.890625 40.9375 10.546875 \r\nQ 45.796875 14.203125 45.796875 21.1875 \r\nQ 45.796875 27.640625 41.28125 31.265625 \r\nQ 36.765625 34.90625 28.71875 34.90625 \r\nL 20.21875 34.90625 \r\nL 20.21875 43.015625 \r\nL 29.109375 43.015625 \r\nQ 36.375 43.015625 40.234375 45.921875 \r\nQ 44.09375 48.828125 44.09375 54.296875 \r\nQ 44.09375 59.90625 40.109375 62.90625 \r\nQ 36.140625 65.921875 28.71875 65.921875 \r\nQ 24.65625 65.921875 20.015625 65.03125 \r\nQ 15.375 64.15625 9.8125 62.3125 \r\nL 9.8125 71.09375 \r\nQ 15.4375 72.65625 20.34375 73.4375 \r\nQ 25.25 74.21875 29.59375 74.21875 \r\nQ 40.828125 74.21875 47.359375 69.109375 \r\nQ 53.90625 64.015625 53.90625 55.328125 \r\nQ 53.90625 49.265625 50.4375 45.09375 \r\nQ 46.96875 40.921875 40.578125 39.3125 \r\nz\r\n\" id=\"DejaVuSans-51\"/>\r\n       </defs>\r\n       <use xlink:href=\"#DejaVuSans-51\"/>\r\n       <use x=\"63.623047\" xlink:href=\"#DejaVuSans-48\"/>\r\n       <use x=\"127.246094\" xlink:href=\"#DejaVuSans-48\"/>\r\n      </g>\r\n     </g>\r\n    </g>\r\n    <g id=\"xtick_5\">\r\n     <g id=\"line2d_9\">\r\n      <path clip-path=\"url(#p311ea27f08)\" d=\"M 409.86073 294.118125 \r\nL 409.86073 22.318125 \r\n\" style=\"fill:none;stroke:#ffffff;stroke-linecap:square;stroke-width:0.8;\"/>\r\n     </g>\r\n     <g id=\"line2d_10\">\r\n      <g>\r\n       <use style=\"stroke:#000000;stroke-width:0.8;\" x=\"409.86073\" xlink:href=\"#m7a903a7c2f\" y=\"294.118125\"/>\r\n      </g>\r\n     </g>\r\n     <g id=\"text_5\">\r\n      <!-- 400 -->\r\n      <g transform=\"translate(400.31698 308.716563)scale(0.1 -0.1)\">\r\n       <defs>\r\n        <path d=\"M 37.796875 64.3125 \r\nL 12.890625 25.390625 \r\nL 37.796875 25.390625 \r\nz\r\nM 35.203125 72.90625 \r\nL 47.609375 72.90625 \r\nL 47.609375 25.390625 \r\nL 58.015625 25.390625 \r\nL 58.015625 17.1875 \r\nL 47.609375 17.1875 \r\nL 47.609375 0 \r\nL 37.796875 0 \r\nL 37.796875 17.1875 \r\nL 4.890625 17.1875 \r\nL 4.890625 26.703125 \r\nz\r\n\" id=\"DejaVuSans-52\"/>\r\n       </defs>\r\n       <use xlink:href=\"#DejaVuSans-52\"/>\r\n       <use x=\"63.623047\" xlink:href=\"#DejaVuSans-48\"/>\r\n       <use x=\"127.246094\" xlink:href=\"#DejaVuSans-48\"/>\r\n      </g>\r\n     </g>\r\n    </g>\r\n    <g id=\"xtick_6\">\r\n     <g id=\"line2d_11\">\r\n      <path clip-path=\"url(#p311ea27f08)\" d=\"M 487.902688 294.118125 \r\nL 487.902688 22.318125 \r\n\" style=\"fill:none;stroke:#ffffff;stroke-linecap:square;stroke-width:0.8;\"/>\r\n     </g>\r\n     <g id=\"line2d_12\">\r\n      <g>\r\n       <use style=\"stroke:#000000;stroke-width:0.8;\" x=\"487.902688\" xlink:href=\"#m7a903a7c2f\" y=\"294.118125\"/>\r\n      </g>\r\n     </g>\r\n     <g id=\"text_6\">\r\n      <!-- 500 -->\r\n      <g transform=\"translate(478.358938 308.716563)scale(0.1 -0.1)\">\r\n       <defs>\r\n        <path d=\"M 10.796875 72.90625 \r\nL 49.515625 72.90625 \r\nL 49.515625 64.59375 \r\nL 19.828125 64.59375 \r\nL 19.828125 46.734375 \r\nQ 21.96875 47.46875 24.109375 47.828125 \r\nQ 26.265625 48.1875 28.421875 48.1875 \r\nQ 40.625 48.1875 47.75 41.5 \r\nQ 54.890625 34.8125 54.890625 23.390625 \r\nQ 54.890625 11.625 47.5625 5.09375 \r\nQ 40.234375 -1.421875 26.90625 -1.421875 \r\nQ 22.3125 -1.421875 17.546875 -0.640625 \r\nQ 12.796875 0.140625 7.71875 1.703125 \r\nL 7.71875 11.625 \r\nQ 12.109375 9.234375 16.796875 8.0625 \r\nQ 21.484375 6.890625 26.703125 6.890625 \r\nQ 35.15625 6.890625 40.078125 11.328125 \r\nQ 45.015625 15.765625 45.015625 23.390625 \r\nQ 45.015625 31 40.078125 35.4375 \r\nQ 35.15625 39.890625 26.703125 39.890625 \r\nQ 22.75 39.890625 18.8125 39.015625 \r\nQ 14.890625 38.140625 10.796875 36.28125 \r\nz\r\n\" id=\"DejaVuSans-53\"/>\r\n       </defs>\r\n       <use xlink:href=\"#DejaVuSans-53\"/>\r\n       <use x=\"63.623047\" xlink:href=\"#DejaVuSans-48\"/>\r\n       <use x=\"127.246094\" xlink:href=\"#DejaVuSans-48\"/>\r\n      </g>\r\n     </g>\r\n    </g>\r\n    <g id=\"xtick_7\">\r\n     <g id=\"line2d_13\">\r\n      <path clip-path=\"url(#p311ea27f08)\" d=\"M 565.944646 294.118125 \r\nL 565.944646 22.318125 \r\n\" style=\"fill:none;stroke:#ffffff;stroke-linecap:square;stroke-width:0.8;\"/>\r\n     </g>\r\n     <g id=\"line2d_14\">\r\n      <g>\r\n       <use style=\"stroke:#000000;stroke-width:0.8;\" x=\"565.944646\" xlink:href=\"#m7a903a7c2f\" y=\"294.118125\"/>\r\n      </g>\r\n     </g>\r\n     <g id=\"text_7\">\r\n      <!-- 600 -->\r\n      <g transform=\"translate(556.400896 308.716563)scale(0.1 -0.1)\">\r\n       <defs>\r\n        <path d=\"M 33.015625 40.375 \r\nQ 26.375 40.375 22.484375 35.828125 \r\nQ 18.609375 31.296875 18.609375 23.390625 \r\nQ 18.609375 15.53125 22.484375 10.953125 \r\nQ 26.375 6.390625 33.015625 6.390625 \r\nQ 39.65625 6.390625 43.53125 10.953125 \r\nQ 47.40625 15.53125 47.40625 23.390625 \r\nQ 47.40625 31.296875 43.53125 35.828125 \r\nQ 39.65625 40.375 33.015625 40.375 \r\nz\r\nM 52.59375 71.296875 \r\nL 52.59375 62.3125 \r\nQ 48.875 64.0625 45.09375 64.984375 \r\nQ 41.3125 65.921875 37.59375 65.921875 \r\nQ 27.828125 65.921875 22.671875 59.328125 \r\nQ 17.53125 52.734375 16.796875 39.40625 \r\nQ 19.671875 43.65625 24.015625 45.921875 \r\nQ 28.375 48.1875 33.59375 48.1875 \r\nQ 44.578125 48.1875 50.953125 41.515625 \r\nQ 57.328125 34.859375 57.328125 23.390625 \r\nQ 57.328125 12.15625 50.6875 5.359375 \r\nQ 44.046875 -1.421875 33.015625 -1.421875 \r\nQ 20.359375 -1.421875 13.671875 8.265625 \r\nQ 6.984375 17.96875 6.984375 36.375 \r\nQ 6.984375 53.65625 15.1875 63.9375 \r\nQ 23.390625 74.21875 37.203125 74.21875 \r\nQ 40.921875 74.21875 44.703125 73.484375 \r\nQ 48.484375 72.75 52.59375 71.296875 \r\nz\r\n\" id=\"DejaVuSans-54\"/>\r\n       </defs>\r\n       <use xlink:href=\"#DejaVuSans-54\"/>\r\n       <use x=\"63.623047\" xlink:href=\"#DejaVuSans-48\"/>\r\n       <use x=\"127.246094\" xlink:href=\"#DejaVuSans-48\"/>\r\n      </g>\r\n     </g>\r\n    </g>\r\n    <g id=\"xtick_8\">\r\n     <g id=\"line2d_15\">\r\n      <path clip-path=\"url(#p311ea27f08)\" d=\"M 643.986604 294.118125 \r\nL 643.986604 22.318125 \r\n\" style=\"fill:none;stroke:#ffffff;stroke-linecap:square;stroke-width:0.8;\"/>\r\n     </g>\r\n     <g id=\"line2d_16\">\r\n      <g>\r\n       <use style=\"stroke:#000000;stroke-width:0.8;\" x=\"643.986604\" xlink:href=\"#m7a903a7c2f\" y=\"294.118125\"/>\r\n      </g>\r\n     </g>\r\n     <g id=\"text_8\">\r\n      <!-- 700 -->\r\n      <g transform=\"translate(634.442854 308.716563)scale(0.1 -0.1)\">\r\n       <defs>\r\n        <path d=\"M 8.203125 72.90625 \r\nL 55.078125 72.90625 \r\nL 55.078125 68.703125 \r\nL 28.609375 0 \r\nL 18.3125 0 \r\nL 43.21875 64.59375 \r\nL 8.203125 64.59375 \r\nz\r\n\" id=\"DejaVuSans-55\"/>\r\n       </defs>\r\n       <use xlink:href=\"#DejaVuSans-55\"/>\r\n       <use x=\"63.623047\" xlink:href=\"#DejaVuSans-48\"/>\r\n       <use x=\"127.246094\" xlink:href=\"#DejaVuSans-48\"/>\r\n      </g>\r\n     </g>\r\n    </g>\r\n    <g id=\"xtick_9\">\r\n     <g id=\"line2d_17\">\r\n      <path clip-path=\"url(#p311ea27f08)\" d=\"M 722.028562 294.118125 \r\nL 722.028562 22.318125 \r\n\" style=\"fill:none;stroke:#ffffff;stroke-linecap:square;stroke-width:0.8;\"/>\r\n     </g>\r\n     <g id=\"line2d_18\">\r\n      <g>\r\n       <use style=\"stroke:#000000;stroke-width:0.8;\" x=\"722.028562\" xlink:href=\"#m7a903a7c2f\" y=\"294.118125\"/>\r\n      </g>\r\n     </g>\r\n     <g id=\"text_9\">\r\n      <!-- 800 -->\r\n      <g transform=\"translate(712.484812 308.716563)scale(0.1 -0.1)\">\r\n       <defs>\r\n        <path d=\"M 31.78125 34.625 \r\nQ 24.75 34.625 20.71875 30.859375 \r\nQ 16.703125 27.09375 16.703125 20.515625 \r\nQ 16.703125 13.921875 20.71875 10.15625 \r\nQ 24.75 6.390625 31.78125 6.390625 \r\nQ 38.8125 6.390625 42.859375 10.171875 \r\nQ 46.921875 13.96875 46.921875 20.515625 \r\nQ 46.921875 27.09375 42.890625 30.859375 \r\nQ 38.875 34.625 31.78125 34.625 \r\nz\r\nM 21.921875 38.8125 \r\nQ 15.578125 40.375 12.03125 44.71875 \r\nQ 8.5 49.078125 8.5 55.328125 \r\nQ 8.5 64.0625 14.71875 69.140625 \r\nQ 20.953125 74.21875 31.78125 74.21875 \r\nQ 42.671875 74.21875 48.875 69.140625 \r\nQ 55.078125 64.0625 55.078125 55.328125 \r\nQ 55.078125 49.078125 51.53125 44.71875 \r\nQ 48 40.375 41.703125 38.8125 \r\nQ 48.828125 37.15625 52.796875 32.3125 \r\nQ 56.78125 27.484375 56.78125 20.515625 \r\nQ 56.78125 9.90625 50.3125 4.234375 \r\nQ 43.84375 -1.421875 31.78125 -1.421875 \r\nQ 19.734375 -1.421875 13.25 4.234375 \r\nQ 6.78125 9.90625 6.78125 20.515625 \r\nQ 6.78125 27.484375 10.78125 32.3125 \r\nQ 14.796875 37.15625 21.921875 38.8125 \r\nz\r\nM 18.3125 54.390625 \r\nQ 18.3125 48.734375 21.84375 45.5625 \r\nQ 25.390625 42.390625 31.78125 42.390625 \r\nQ 38.140625 42.390625 41.71875 45.5625 \r\nQ 45.3125 48.734375 45.3125 54.390625 \r\nQ 45.3125 60.0625 41.71875 63.234375 \r\nQ 38.140625 66.40625 31.78125 66.40625 \r\nQ 25.390625 66.40625 21.84375 63.234375 \r\nQ 18.3125 60.0625 18.3125 54.390625 \r\nz\r\n\" id=\"DejaVuSans-56\"/>\r\n       </defs>\r\n       <use xlink:href=\"#DejaVuSans-56\"/>\r\n       <use x=\"63.623047\" xlink:href=\"#DejaVuSans-48\"/>\r\n       <use x=\"127.246094\" xlink:href=\"#DejaVuSans-48\"/>\r\n      </g>\r\n     </g>\r\n    </g>\r\n    <g id=\"xtick_10\">\r\n     <g id=\"line2d_19\">\r\n      <path clip-path=\"url(#p311ea27f08)\" d=\"M 800.07052 294.118125 \r\nL 800.07052 22.318125 \r\n\" style=\"fill:none;stroke:#ffffff;stroke-linecap:square;stroke-width:0.8;\"/>\r\n     </g>\r\n     <g id=\"line2d_20\">\r\n      <g>\r\n       <use style=\"stroke:#000000;stroke-width:0.8;\" x=\"800.07052\" xlink:href=\"#m7a903a7c2f\" y=\"294.118125\"/>\r\n      </g>\r\n     </g>\r\n     <g id=\"text_10\">\r\n      <!-- 900 -->\r\n      <g transform=\"translate(790.52677 308.716563)scale(0.1 -0.1)\">\r\n       <defs>\r\n        <path d=\"M 10.984375 1.515625 \r\nL 10.984375 10.5 \r\nQ 14.703125 8.734375 18.5 7.8125 \r\nQ 22.3125 6.890625 25.984375 6.890625 \r\nQ 35.75 6.890625 40.890625 13.453125 \r\nQ 46.046875 20.015625 46.78125 33.40625 \r\nQ 43.953125 29.203125 39.59375 26.953125 \r\nQ 35.25 24.703125 29.984375 24.703125 \r\nQ 19.046875 24.703125 12.671875 31.3125 \r\nQ 6.296875 37.9375 6.296875 49.421875 \r\nQ 6.296875 60.640625 12.9375 67.421875 \r\nQ 19.578125 74.21875 30.609375 74.21875 \r\nQ 43.265625 74.21875 49.921875 64.515625 \r\nQ 56.59375 54.828125 56.59375 36.375 \r\nQ 56.59375 19.140625 48.40625 8.859375 \r\nQ 40.234375 -1.421875 26.421875 -1.421875 \r\nQ 22.703125 -1.421875 18.890625 -0.6875 \r\nQ 15.09375 0.046875 10.984375 1.515625 \r\nz\r\nM 30.609375 32.421875 \r\nQ 37.25 32.421875 41.125 36.953125 \r\nQ 45.015625 41.5 45.015625 49.421875 \r\nQ 45.015625 57.28125 41.125 61.84375 \r\nQ 37.25 66.40625 30.609375 66.40625 \r\nQ 23.96875 66.40625 20.09375 61.84375 \r\nQ 16.21875 57.28125 16.21875 49.421875 \r\nQ 16.21875 41.5 20.09375 36.953125 \r\nQ 23.96875 32.421875 30.609375 32.421875 \r\nz\r\n\" id=\"DejaVuSans-57\"/>\r\n       </defs>\r\n       <use xlink:href=\"#DejaVuSans-57\"/>\r\n       <use x=\"63.623047\" xlink:href=\"#DejaVuSans-48\"/>\r\n       <use x=\"127.246094\" xlink:href=\"#DejaVuSans-48\"/>\r\n      </g>\r\n     </g>\r\n    </g>\r\n    <g id=\"xtick_11\">\r\n     <g id=\"line2d_21\">\r\n      <path clip-path=\"url(#p311ea27f08)\" d=\"M 878.112478 294.118125 \r\nL 878.112478 22.318125 \r\n\" style=\"fill:none;stroke:#ffffff;stroke-linecap:square;stroke-width:0.8;\"/>\r\n     </g>\r\n     <g id=\"line2d_22\">\r\n      <g>\r\n       <use style=\"stroke:#000000;stroke-width:0.8;\" x=\"878.112478\" xlink:href=\"#m7a903a7c2f\" y=\"294.118125\"/>\r\n      </g>\r\n     </g>\r\n     <g id=\"text_11\">\r\n      <!-- 1000 -->\r\n      <g transform=\"translate(865.387478 308.716563)scale(0.1 -0.1)\">\r\n       <use xlink:href=\"#DejaVuSans-49\"/>\r\n       <use x=\"63.623047\" xlink:href=\"#DejaVuSans-48\"/>\r\n       <use x=\"127.246094\" xlink:href=\"#DejaVuSans-48\"/>\r\n       <use x=\"190.869141\" xlink:href=\"#DejaVuSans-48\"/>\r\n      </g>\r\n     </g>\r\n    </g>\r\n    <g id=\"xtick_12\">\r\n     <g id=\"line2d_23\">\r\n      <path clip-path=\"url(#p311ea27f08)\" d=\"M 956.154436 294.118125 \r\nL 956.154436 22.318125 \r\n\" style=\"fill:none;stroke:#ffffff;stroke-linecap:square;stroke-width:0.8;\"/>\r\n     </g>\r\n     <g id=\"line2d_24\">\r\n      <g>\r\n       <use style=\"stroke:#000000;stroke-width:0.8;\" x=\"956.154436\" xlink:href=\"#m7a903a7c2f\" y=\"294.118125\"/>\r\n      </g>\r\n     </g>\r\n     <g id=\"text_12\">\r\n      <!-- 1100 -->\r\n      <g transform=\"translate(943.429436 308.716563)scale(0.1 -0.1)\">\r\n       <use xlink:href=\"#DejaVuSans-49\"/>\r\n       <use x=\"63.623047\" xlink:href=\"#DejaVuSans-49\"/>\r\n       <use x=\"127.246094\" xlink:href=\"#DejaVuSans-48\"/>\r\n       <use x=\"190.869141\" xlink:href=\"#DejaVuSans-48\"/>\r\n      </g>\r\n     </g>\r\n    </g>\r\n    <g id=\"xtick_13\">\r\n     <g id=\"line2d_25\">\r\n      <path clip-path=\"url(#p311ea27f08)\" d=\"M 1034.196394 294.118125 \r\nL 1034.196394 22.318125 \r\n\" style=\"fill:none;stroke:#ffffff;stroke-linecap:square;stroke-width:0.8;\"/>\r\n     </g>\r\n     <g id=\"line2d_26\">\r\n      <g>\r\n       <use style=\"stroke:#000000;stroke-width:0.8;\" x=\"1034.196394\" xlink:href=\"#m7a903a7c2f\" y=\"294.118125\"/>\r\n      </g>\r\n     </g>\r\n     <g id=\"text_13\">\r\n      <!-- 1200 -->\r\n      <g transform=\"translate(1021.471394 308.716563)scale(0.1 -0.1)\">\r\n       <use xlink:href=\"#DejaVuSans-49\"/>\r\n       <use x=\"63.623047\" xlink:href=\"#DejaVuSans-50\"/>\r\n       <use x=\"127.246094\" xlink:href=\"#DejaVuSans-48\"/>\r\n       <use x=\"190.869141\" xlink:href=\"#DejaVuSans-48\"/>\r\n      </g>\r\n     </g>\r\n    </g>\r\n    <g id=\"xtick_14\">\r\n     <g id=\"line2d_27\">\r\n      <path clip-path=\"url(#p311ea27f08)\" d=\"M 1112.238352 294.118125 \r\nL 1112.238352 22.318125 \r\n\" style=\"fill:none;stroke:#ffffff;stroke-linecap:square;stroke-width:0.8;\"/>\r\n     </g>\r\n     <g id=\"line2d_28\">\r\n      <g>\r\n       <use style=\"stroke:#000000;stroke-width:0.8;\" x=\"1112.238352\" xlink:href=\"#m7a903a7c2f\" y=\"294.118125\"/>\r\n      </g>\r\n     </g>\r\n     <g id=\"text_14\">\r\n      <!-- 1300 -->\r\n      <g transform=\"translate(1099.513352 308.716563)scale(0.1 -0.1)\">\r\n       <use xlink:href=\"#DejaVuSans-49\"/>\r\n       <use x=\"63.623047\" xlink:href=\"#DejaVuSans-51\"/>\r\n       <use x=\"127.246094\" xlink:href=\"#DejaVuSans-48\"/>\r\n       <use x=\"190.869141\" xlink:href=\"#DejaVuSans-48\"/>\r\n      </g>\r\n     </g>\r\n    </g>\r\n    <g id=\"text_15\">\r\n     <!-- Value -->\r\n     <g transform=\"translate(591.234375 322.394687)scale(0.1 -0.1)\">\r\n      <defs>\r\n       <path d=\"M 28.609375 0 \r\nL 0.78125 72.90625 \r\nL 11.078125 72.90625 \r\nL 34.1875 11.53125 \r\nL 57.328125 72.90625 \r\nL 67.578125 72.90625 \r\nL 39.796875 0 \r\nz\r\n\" id=\"DejaVuSans-86\"/>\r\n       <path d=\"M 34.28125 27.484375 \r\nQ 23.390625 27.484375 19.1875 25 \r\nQ 14.984375 22.515625 14.984375 16.5 \r\nQ 14.984375 11.71875 18.140625 8.90625 \r\nQ 21.296875 6.109375 26.703125 6.109375 \r\nQ 34.1875 6.109375 38.703125 11.40625 \r\nQ 43.21875 16.703125 43.21875 25.484375 \r\nL 43.21875 27.484375 \r\nz\r\nM 52.203125 31.203125 \r\nL 52.203125 0 \r\nL 43.21875 0 \r\nL 43.21875 8.296875 \r\nQ 40.140625 3.328125 35.546875 0.953125 \r\nQ 30.953125 -1.421875 24.3125 -1.421875 \r\nQ 15.921875 -1.421875 10.953125 3.296875 \r\nQ 6 8.015625 6 15.921875 \r\nQ 6 25.140625 12.171875 29.828125 \r\nQ 18.359375 34.515625 30.609375 34.515625 \r\nL 43.21875 34.515625 \r\nL 43.21875 35.40625 \r\nQ 43.21875 41.609375 39.140625 45 \r\nQ 35.0625 48.390625 27.6875 48.390625 \r\nQ 23 48.390625 18.546875 47.265625 \r\nQ 14.109375 46.140625 10.015625 43.890625 \r\nL 10.015625 52.203125 \r\nQ 14.9375 54.109375 19.578125 55.046875 \r\nQ 24.21875 56 28.609375 56 \r\nQ 40.484375 56 46.34375 49.84375 \r\nQ 52.203125 43.703125 52.203125 31.203125 \r\nz\r\n\" id=\"DejaVuSans-97\"/>\r\n       <path d=\"M 9.421875 75.984375 \r\nL 18.40625 75.984375 \r\nL 18.40625 0 \r\nL 9.421875 0 \r\nz\r\n\" id=\"DejaVuSans-108\"/>\r\n       <path d=\"M 8.5 21.578125 \r\nL 8.5 54.6875 \r\nL 17.484375 54.6875 \r\nL 17.484375 21.921875 \r\nQ 17.484375 14.15625 20.5 10.265625 \r\nQ 23.53125 6.390625 29.59375 6.390625 \r\nQ 36.859375 6.390625 41.078125 11.03125 \r\nQ 45.3125 15.671875 45.3125 23.6875 \r\nL 45.3125 54.6875 \r\nL 54.296875 54.6875 \r\nL 54.296875 0 \r\nL 45.3125 0 \r\nL 45.3125 8.40625 \r\nQ 42.046875 3.421875 37.71875 1 \r\nQ 33.40625 -1.421875 27.6875 -1.421875 \r\nQ 18.265625 -1.421875 13.375 4.4375 \r\nQ 8.5 10.296875 8.5 21.578125 \r\nz\r\nM 31.109375 56 \r\nz\r\n\" id=\"DejaVuSans-117\"/>\r\n       <path d=\"M 56.203125 29.59375 \r\nL 56.203125 25.203125 \r\nL 14.890625 25.203125 \r\nQ 15.484375 15.921875 20.484375 11.0625 \r\nQ 25.484375 6.203125 34.421875 6.203125 \r\nQ 39.59375 6.203125 44.453125 7.46875 \r\nQ 49.3125 8.734375 54.109375 11.28125 \r\nL 54.109375 2.78125 \r\nQ 49.265625 0.734375 44.1875 -0.34375 \r\nQ 39.109375 -1.421875 33.890625 -1.421875 \r\nQ 20.796875 -1.421875 13.15625 6.1875 \r\nQ 5.515625 13.8125 5.515625 26.8125 \r\nQ 5.515625 40.234375 12.765625 48.109375 \r\nQ 20.015625 56 32.328125 56 \r\nQ 43.359375 56 49.78125 48.890625 \r\nQ 56.203125 41.796875 56.203125 29.59375 \r\nz\r\nM 47.21875 32.234375 \r\nQ 47.125 39.59375 43.09375 43.984375 \r\nQ 39.0625 48.390625 32.421875 48.390625 \r\nQ 24.90625 48.390625 20.390625 44.140625 \r\nQ 15.875 39.890625 15.1875 32.171875 \r\nz\r\n\" id=\"DejaVuSans-101\"/>\r\n      </defs>\r\n      <use xlink:href=\"#DejaVuSans-86\"/>\r\n      <use x=\"60.658203\" xlink:href=\"#DejaVuSans-97\"/>\r\n      <use x=\"121.9375\" xlink:href=\"#DejaVuSans-108\"/>\r\n      <use x=\"149.720703\" xlink:href=\"#DejaVuSans-117\"/>\r\n      <use x=\"213.099609\" xlink:href=\"#DejaVuSans-101\"/>\r\n     </g>\r\n    </g>\r\n   </g>\r\n   <g id=\"matplotlib.axis_2\">\r\n    <g id=\"ytick_1\">\r\n     <g id=\"line2d_29\">\r\n      <path clip-path=\"url(#p311ea27f08)\" d=\"M 46.965625 294.118125 \r\nL 1162.965625 294.118125 \r\n\" style=\"fill:none;stroke:#ffffff;stroke-linecap:square;stroke-width:0.8;\"/>\r\n     </g>\r\n     <g id=\"line2d_30\">\r\n      <defs>\r\n       <path d=\"M 0 0 \r\nL -3.5 0 \r\n\" id=\"mefdd48c432\" style=\"stroke:#000000;stroke-width:0.8;\"/>\r\n      </defs>\r\n      <g>\r\n       <use style=\"stroke:#000000;stroke-width:0.8;\" x=\"46.965625\" xlink:href=\"#mefdd48c432\" y=\"294.118125\"/>\r\n      </g>\r\n     </g>\r\n     <g id=\"text_16\">\r\n      <!-- 0 -->\r\n      <g transform=\"translate(33.603125 297.917344)scale(0.1 -0.1)\">\r\n       <use xlink:href=\"#DejaVuSans-48\"/>\r\n      </g>\r\n     </g>\r\n    </g>\r\n    <g id=\"ytick_2\">\r\n     <g id=\"line2d_31\">\r\n      <path clip-path=\"url(#p311ea27f08)\" d=\"M 46.965625 258.658242 \r\nL 1162.965625 258.658242 \r\n\" style=\"fill:none;stroke:#ffffff;stroke-linecap:square;stroke-width:0.8;\"/>\r\n     </g>\r\n     <g id=\"line2d_32\">\r\n      <g>\r\n       <use style=\"stroke:#000000;stroke-width:0.8;\" x=\"46.965625\" xlink:href=\"#mefdd48c432\" y=\"258.658242\"/>\r\n      </g>\r\n     </g>\r\n     <g id=\"text_17\">\r\n      <!-- 20 -->\r\n      <g transform=\"translate(27.240625 262.457461)scale(0.1 -0.1)\">\r\n       <use xlink:href=\"#DejaVuSans-50\"/>\r\n       <use x=\"63.623047\" xlink:href=\"#DejaVuSans-48\"/>\r\n      </g>\r\n     </g>\r\n    </g>\r\n    <g id=\"ytick_3\">\r\n     <g id=\"line2d_33\">\r\n      <path clip-path=\"url(#p311ea27f08)\" d=\"M 46.965625 223.19836 \r\nL 1162.965625 223.19836 \r\n\" style=\"fill:none;stroke:#ffffff;stroke-linecap:square;stroke-width:0.8;\"/>\r\n     </g>\r\n     <g id=\"line2d_34\">\r\n      <g>\r\n       <use style=\"stroke:#000000;stroke-width:0.8;\" x=\"46.965625\" xlink:href=\"#mefdd48c432\" y=\"223.19836\"/>\r\n      </g>\r\n     </g>\r\n     <g id=\"text_18\">\r\n      <!-- 40 -->\r\n      <g transform=\"translate(27.240625 226.997579)scale(0.1 -0.1)\">\r\n       <use xlink:href=\"#DejaVuSans-52\"/>\r\n       <use x=\"63.623047\" xlink:href=\"#DejaVuSans-48\"/>\r\n      </g>\r\n     </g>\r\n    </g>\r\n    <g id=\"ytick_4\">\r\n     <g id=\"line2d_35\">\r\n      <path clip-path=\"url(#p311ea27f08)\" d=\"M 46.965625 187.738477 \r\nL 1162.965625 187.738477 \r\n\" style=\"fill:none;stroke:#ffffff;stroke-linecap:square;stroke-width:0.8;\"/>\r\n     </g>\r\n     <g id=\"line2d_36\">\r\n      <g>\r\n       <use style=\"stroke:#000000;stroke-width:0.8;\" x=\"46.965625\" xlink:href=\"#mefdd48c432\" y=\"187.738477\"/>\r\n      </g>\r\n     </g>\r\n     <g id=\"text_19\">\r\n      <!-- 60 -->\r\n      <g transform=\"translate(27.240625 191.537696)scale(0.1 -0.1)\">\r\n       <use xlink:href=\"#DejaVuSans-54\"/>\r\n       <use x=\"63.623047\" xlink:href=\"#DejaVuSans-48\"/>\r\n      </g>\r\n     </g>\r\n    </g>\r\n    <g id=\"ytick_5\">\r\n     <g id=\"line2d_37\">\r\n      <path clip-path=\"url(#p311ea27f08)\" d=\"M 46.965625 152.278595 \r\nL 1162.965625 152.278595 \r\n\" style=\"fill:none;stroke:#ffffff;stroke-linecap:square;stroke-width:0.8;\"/>\r\n     </g>\r\n     <g id=\"line2d_38\">\r\n      <g>\r\n       <use style=\"stroke:#000000;stroke-width:0.8;\" x=\"46.965625\" xlink:href=\"#mefdd48c432\" y=\"152.278595\"/>\r\n      </g>\r\n     </g>\r\n     <g id=\"text_20\">\r\n      <!-- 80 -->\r\n      <g transform=\"translate(27.240625 156.077813)scale(0.1 -0.1)\">\r\n       <use xlink:href=\"#DejaVuSans-56\"/>\r\n       <use x=\"63.623047\" xlink:href=\"#DejaVuSans-48\"/>\r\n      </g>\r\n     </g>\r\n    </g>\r\n    <g id=\"ytick_6\">\r\n     <g id=\"line2d_39\">\r\n      <path clip-path=\"url(#p311ea27f08)\" d=\"M 46.965625 116.818712 \r\nL 1162.965625 116.818712 \r\n\" style=\"fill:none;stroke:#ffffff;stroke-linecap:square;stroke-width:0.8;\"/>\r\n     </g>\r\n     <g id=\"line2d_40\">\r\n      <g>\r\n       <use style=\"stroke:#000000;stroke-width:0.8;\" x=\"46.965625\" xlink:href=\"#mefdd48c432\" y=\"116.818712\"/>\r\n      </g>\r\n     </g>\r\n     <g id=\"text_21\">\r\n      <!-- 100 -->\r\n      <g transform=\"translate(20.878125 120.617931)scale(0.1 -0.1)\">\r\n       <use xlink:href=\"#DejaVuSans-49\"/>\r\n       <use x=\"63.623047\" xlink:href=\"#DejaVuSans-48\"/>\r\n       <use x=\"127.246094\" xlink:href=\"#DejaVuSans-48\"/>\r\n      </g>\r\n     </g>\r\n    </g>\r\n    <g id=\"ytick_7\">\r\n     <g id=\"line2d_41\">\r\n      <path clip-path=\"url(#p311ea27f08)\" d=\"M 46.965625 81.35883 \r\nL 1162.965625 81.35883 \r\n\" style=\"fill:none;stroke:#ffffff;stroke-linecap:square;stroke-width:0.8;\"/>\r\n     </g>\r\n     <g id=\"line2d_42\">\r\n      <g>\r\n       <use style=\"stroke:#000000;stroke-width:0.8;\" x=\"46.965625\" xlink:href=\"#mefdd48c432\" y=\"81.35883\"/>\r\n      </g>\r\n     </g>\r\n     <g id=\"text_22\">\r\n      <!-- 120 -->\r\n      <g transform=\"translate(20.878125 85.158048)scale(0.1 -0.1)\">\r\n       <use xlink:href=\"#DejaVuSans-49\"/>\r\n       <use x=\"63.623047\" xlink:href=\"#DejaVuSans-50\"/>\r\n       <use x=\"127.246094\" xlink:href=\"#DejaVuSans-48\"/>\r\n      </g>\r\n     </g>\r\n    </g>\r\n    <g id=\"ytick_8\">\r\n     <g id=\"line2d_43\">\r\n      <path clip-path=\"url(#p311ea27f08)\" d=\"M 46.965625 45.898947 \r\nL 1162.965625 45.898947 \r\n\" style=\"fill:none;stroke:#ffffff;stroke-linecap:square;stroke-width:0.8;\"/>\r\n     </g>\r\n     <g id=\"line2d_44\">\r\n      <g>\r\n       <use style=\"stroke:#000000;stroke-width:0.8;\" x=\"46.965625\" xlink:href=\"#mefdd48c432\" y=\"45.898947\"/>\r\n      </g>\r\n     </g>\r\n     <g id=\"text_23\">\r\n      <!-- 140 -->\r\n      <g transform=\"translate(20.878125 49.698166)scale(0.1 -0.1)\">\r\n       <use xlink:href=\"#DejaVuSans-49\"/>\r\n       <use x=\"63.623047\" xlink:href=\"#DejaVuSans-52\"/>\r\n       <use x=\"127.246094\" xlink:href=\"#DejaVuSans-48\"/>\r\n      </g>\r\n     </g>\r\n    </g>\r\n    <g id=\"text_24\">\r\n     <!-- Frequency -->\r\n     <g transform=\"translate(14.798438 184.047813)rotate(-90)scale(0.1 -0.1)\">\r\n      <defs>\r\n       <path d=\"M 9.8125 72.90625 \r\nL 51.703125 72.90625 \r\nL 51.703125 64.59375 \r\nL 19.671875 64.59375 \r\nL 19.671875 43.109375 \r\nL 48.578125 43.109375 \r\nL 48.578125 34.8125 \r\nL 19.671875 34.8125 \r\nL 19.671875 0 \r\nL 9.8125 0 \r\nz\r\n\" id=\"DejaVuSans-70\"/>\r\n       <path d=\"M 41.109375 46.296875 \r\nQ 39.59375 47.171875 37.8125 47.578125 \r\nQ 36.03125 48 33.890625 48 \r\nQ 26.265625 48 22.1875 43.046875 \r\nQ 18.109375 38.09375 18.109375 28.8125 \r\nL 18.109375 0 \r\nL 9.078125 0 \r\nL 9.078125 54.6875 \r\nL 18.109375 54.6875 \r\nL 18.109375 46.1875 \r\nQ 20.953125 51.171875 25.484375 53.578125 \r\nQ 30.03125 56 36.53125 56 \r\nQ 37.453125 56 38.578125 55.875 \r\nQ 39.703125 55.765625 41.0625 55.515625 \r\nz\r\n\" id=\"DejaVuSans-114\"/>\r\n       <path d=\"M 14.796875 27.296875 \r\nQ 14.796875 17.390625 18.875 11.75 \r\nQ 22.953125 6.109375 30.078125 6.109375 \r\nQ 37.203125 6.109375 41.296875 11.75 \r\nQ 45.40625 17.390625 45.40625 27.296875 \r\nQ 45.40625 37.203125 41.296875 42.84375 \r\nQ 37.203125 48.484375 30.078125 48.484375 \r\nQ 22.953125 48.484375 18.875 42.84375 \r\nQ 14.796875 37.203125 14.796875 27.296875 \r\nz\r\nM 45.40625 8.203125 \r\nQ 42.578125 3.328125 38.25 0.953125 \r\nQ 33.9375 -1.421875 27.875 -1.421875 \r\nQ 17.96875 -1.421875 11.734375 6.484375 \r\nQ 5.515625 14.40625 5.515625 27.296875 \r\nQ 5.515625 40.1875 11.734375 48.09375 \r\nQ 17.96875 56 27.875 56 \r\nQ 33.9375 56 38.25 53.625 \r\nQ 42.578125 51.265625 45.40625 46.390625 \r\nL 45.40625 54.6875 \r\nL 54.390625 54.6875 \r\nL 54.390625 -20.796875 \r\nL 45.40625 -20.796875 \r\nz\r\n\" id=\"DejaVuSans-113\"/>\r\n       <path d=\"M 54.890625 33.015625 \r\nL 54.890625 0 \r\nL 45.90625 0 \r\nL 45.90625 32.71875 \r\nQ 45.90625 40.484375 42.875 44.328125 \r\nQ 39.84375 48.1875 33.796875 48.1875 \r\nQ 26.515625 48.1875 22.3125 43.546875 \r\nQ 18.109375 38.921875 18.109375 30.90625 \r\nL 18.109375 0 \r\nL 9.078125 0 \r\nL 9.078125 54.6875 \r\nL 18.109375 54.6875 \r\nL 18.109375 46.1875 \r\nQ 21.34375 51.125 25.703125 53.5625 \r\nQ 30.078125 56 35.796875 56 \r\nQ 45.21875 56 50.046875 50.171875 \r\nQ 54.890625 44.34375 54.890625 33.015625 \r\nz\r\n\" id=\"DejaVuSans-110\"/>\r\n       <path d=\"M 48.78125 52.59375 \r\nL 48.78125 44.1875 \r\nQ 44.96875 46.296875 41.140625 47.34375 \r\nQ 37.3125 48.390625 33.40625 48.390625 \r\nQ 24.65625 48.390625 19.8125 42.84375 \r\nQ 14.984375 37.3125 14.984375 27.296875 \r\nQ 14.984375 17.28125 19.8125 11.734375 \r\nQ 24.65625 6.203125 33.40625 6.203125 \r\nQ 37.3125 6.203125 41.140625 7.25 \r\nQ 44.96875 8.296875 48.78125 10.40625 \r\nL 48.78125 2.09375 \r\nQ 45.015625 0.34375 40.984375 -0.53125 \r\nQ 36.96875 -1.421875 32.421875 -1.421875 \r\nQ 20.0625 -1.421875 12.78125 6.34375 \r\nQ 5.515625 14.109375 5.515625 27.296875 \r\nQ 5.515625 40.671875 12.859375 48.328125 \r\nQ 20.21875 56 33.015625 56 \r\nQ 37.15625 56 41.109375 55.140625 \r\nQ 45.0625 54.296875 48.78125 52.59375 \r\nz\r\n\" id=\"DejaVuSans-99\"/>\r\n       <path d=\"M 32.171875 -5.078125 \r\nQ 28.375 -14.84375 24.75 -17.8125 \r\nQ 21.140625 -20.796875 15.09375 -20.796875 \r\nL 7.90625 -20.796875 \r\nL 7.90625 -13.28125 \r\nL 13.1875 -13.28125 \r\nQ 16.890625 -13.28125 18.9375 -11.515625 \r\nQ 21 -9.765625 23.484375 -3.21875 \r\nL 25.09375 0.875 \r\nL 2.984375 54.6875 \r\nL 12.5 54.6875 \r\nL 29.59375 11.921875 \r\nL 46.6875 54.6875 \r\nL 56.203125 54.6875 \r\nz\r\n\" id=\"DejaVuSans-121\"/>\r\n      </defs>\r\n      <use xlink:href=\"#DejaVuSans-70\"/>\r\n      <use x=\"50.269531\" xlink:href=\"#DejaVuSans-114\"/>\r\n      <use x=\"89.132812\" xlink:href=\"#DejaVuSans-101\"/>\r\n      <use x=\"150.65625\" xlink:href=\"#DejaVuSans-113\"/>\r\n      <use x=\"214.132812\" xlink:href=\"#DejaVuSans-117\"/>\r\n      <use x=\"277.511719\" xlink:href=\"#DejaVuSans-101\"/>\r\n      <use x=\"339.035156\" xlink:href=\"#DejaVuSans-110\"/>\r\n      <use x=\"402.414062\" xlink:href=\"#DejaVuSans-99\"/>\r\n      <use x=\"457.394531\" xlink:href=\"#DejaVuSans-121\"/>\r\n     </g>\r\n    </g>\r\n   </g>\r\n   <g id=\"patch_3\">\r\n    <path d=\"M 46.965625 294.118125 \r\nL 46.965625 22.318125 \r\n\" style=\"fill:none;stroke:#000000;stroke-linecap:square;stroke-linejoin:miter;stroke-width:0.8;\"/>\r\n   </g>\r\n   <g id=\"patch_4\">\r\n    <path d=\"M 1162.965625 294.118125 \r\nL 1162.965625 22.318125 \r\n\" style=\"fill:none;stroke:#000000;stroke-linecap:square;stroke-linejoin:miter;stroke-width:0.8;\"/>\r\n   </g>\r\n   <g id=\"patch_5\">\r\n    <path d=\"M 46.965625 294.118125 \r\nL 1162.965625 294.118125 \r\n\" style=\"fill:none;stroke:#000000;stroke-linecap:square;stroke-linejoin:miter;stroke-width:0.8;\"/>\r\n   </g>\r\n   <g id=\"patch_6\">\r\n    <path d=\"M 46.965625 22.318125 \r\nL 1162.965625 22.318125 \r\n\" style=\"fill:none;stroke:#000000;stroke-linecap:square;stroke-linejoin:miter;stroke-width:0.8;\"/>\r\n   </g>\r\n   <g id=\"patch_7\">\r\n    <path clip-path=\"url(#p311ea27f08)\" d=\"M 97.692898 294.118125 \r\nL 97.692898 278.161178 \r\nL 113.301289 278.161178 \r\nL 113.301289 189.511471 \r\nL 128.909681 189.511471 \r\nL 128.909681 77.812841 \r\nL 144.518073 77.812841 \r\nL 144.518073 38.80697 \r\nL 160.126464 38.80697 \r\nL 160.126464 35.260982 \r\nL 175.734856 35.260982 \r\nL 175.734856 88.450806 \r\nL 191.343247 88.450806 \r\nL 191.343247 136.321648 \r\nL 206.951639 136.321648 \r\nL 206.951639 194.830454 \r\nL 222.560031 194.830454 \r\nL 222.560031 200.149436 \r\nL 238.168422 200.149436 \r\nL 238.168422 240.928301 \r\nL 253.776814 240.928301 \r\nL 253.776814 246.247284 \r\nL 269.385205 246.247284 \r\nL 269.385205 248.020278 \r\nL 284.993597 248.020278 \r\nL 284.993597 242.701295 \r\nL 300.601989 242.701295 \r\nL 300.601989 276.388184 \r\nL 316.21038 276.388184 \r\nL 316.21038 279.934172 \r\nL 331.818772 279.934172 \r\nL 331.818772 287.026148 \r\nL 347.427163 287.026148 \r\nL 347.427163 274.61519 \r\nL 363.035555 274.61519 \r\nL 363.035555 285.253154 \r\nL 378.643947 285.253154 \r\nL 378.643947 287.026148 \r\nL 394.252338 287.026148 \r\nL 394.252338 281.707166 \r\nL 409.86073 281.707166 \r\nL 409.86073 292.345131 \r\nL 425.469122 292.345131 \r\nL 425.469122 290.572137 \r\nL 441.077513 290.572137 \r\nL 441.077513 292.345131 \r\nL 456.685905 292.345131 \r\nL 456.685905 283.48016 \r\nL 472.294296 283.48016 \r\nL 472.294296 292.345131 \r\nL 487.902688 292.345131 \r\nL 487.902688 292.345131 \r\nL 503.51108 292.345131 \r\nL 503.51108 292.345131 \r\nL 519.119471 292.345131 \r\nL 519.119471 290.572137 \r\nL 534.727863 290.572137 \r\nL 534.727863 288.799143 \r\nL 550.336254 288.799143 \r\nL 550.336254 294.118125 \r\nL 565.944646 294.118125 \r\nL 565.944646 292.345131 \r\nL 581.553038 292.345131 \r\nL 581.553038 292.345131 \r\nL 597.161429 292.345131 \r\nL 597.161429 292.345131 \r\nL 612.769821 292.345131 \r\nL 612.769821 292.345131 \r\nL 628.378212 292.345131 \r\nL 628.378212 294.118125 \r\nL 643.986604 294.118125 \r\nL 643.986604 294.118125 \r\nL 659.594996 294.118125 \r\nL 659.594996 290.572137 \r\nL 675.203387 290.572137 \r\nL 675.203387 292.345131 \r\nL 690.811779 292.345131 \r\nL 690.811779 292.345131 \r\nL 706.42017 292.345131 \r\nL 706.42017 294.118125 \r\nL 722.028562 294.118125 \r\nL 722.028562 294.118125 \r\nL 737.636954 294.118125 \r\nL 737.636954 294.118125 \r\nL 753.245345 294.118125 \r\nL 753.245345 294.118125 \r\nL 768.853737 294.118125 \r\nL 768.853737 292.345131 \r\nL 784.462128 292.345131 \r\nL 784.462128 294.118125 \r\nL 800.07052 294.118125 \r\nL 800.07052 294.118125 \r\nL 815.678912 294.118125 \r\nL 815.678912 294.118125 \r\nL 831.287303 294.118125 \r\nL 831.287303 294.118125 \r\nL 846.895695 294.118125 \r\nL 846.895695 294.118125 \r\nL 862.504087 294.118125 \r\nL 862.504087 294.118125 \r\nL 878.112478 294.118125 \r\nL 878.112478 294.118125 \r\nL 893.72087 294.118125 \r\nL 893.72087 294.118125 \r\nL 909.329261 294.118125 \r\nL 909.329261 294.118125 \r\nL 924.937653 294.118125 \r\nL 924.937653 294.118125 \r\nL 940.546045 294.118125 \r\nL 940.546045 294.118125 \r\nL 956.154436 294.118125 \r\nL 956.154436 294.118125 \r\nL 971.762828 294.118125 \r\nL 971.762828 294.118125 \r\nL 987.371219 294.118125 \r\nL 987.371219 294.118125 \r\nL 1002.979611 294.118125 \r\nL 1002.979611 294.118125 \r\nL 1018.588003 294.118125 \r\nL 1018.588003 294.118125 \r\nL 1034.196394 294.118125 \r\nL 1034.196394 292.345131 \r\nL 1049.804786 292.345131 \r\nL 1049.804786 294.118125 \r\nL 1065.413177 294.118125 \r\nL 1065.413177 294.118125 \r\nL 1081.021569 294.118125 \r\nL 1081.021569 294.118125 \r\nL 1096.629961 294.118125 \r\nL 1096.629961 294.118125 \r\nL 1112.238352 294.118125 \r\nL 1112.238352 294.118125 \r\nL 1096.629961 294.118125 \r\nL 1096.629961 294.118125 \r\nL 1081.021569 294.118125 \r\nL 1081.021569 294.118125 \r\nL 1065.413177 294.118125 \r\nL 1065.413177 294.118125 \r\nL 1049.804786 294.118125 \r\nL 1049.804786 294.118125 \r\nL 1034.196394 294.118125 \r\nL 1034.196394 294.118125 \r\nL 1018.588003 294.118125 \r\nL 1018.588003 294.118125 \r\nL 1002.979611 294.118125 \r\nL 1002.979611 294.118125 \r\nL 987.371219 294.118125 \r\nL 987.371219 294.118125 \r\nL 971.762828 294.118125 \r\nL 971.762828 294.118125 \r\nL 956.154436 294.118125 \r\nL 956.154436 294.118125 \r\nL 940.546045 294.118125 \r\nL 940.546045 294.118125 \r\nL 924.937653 294.118125 \r\nL 924.937653 294.118125 \r\nL 909.329261 294.118125 \r\nL 909.329261 294.118125 \r\nL 893.72087 294.118125 \r\nL 893.72087 294.118125 \r\nL 878.112478 294.118125 \r\nL 878.112478 294.118125 \r\nL 862.504087 294.118125 \r\nL 862.504087 294.118125 \r\nL 846.895695 294.118125 \r\nL 846.895695 294.118125 \r\nL 831.287303 294.118125 \r\nL 831.287303 294.118125 \r\nL 815.678912 294.118125 \r\nL 815.678912 294.118125 \r\nL 800.07052 294.118125 \r\nL 800.07052 294.118125 \r\nL 784.462128 294.118125 \r\nL 784.462128 294.118125 \r\nL 768.853737 294.118125 \r\nL 768.853737 294.118125 \r\nL 753.245345 294.118125 \r\nL 753.245345 294.118125 \r\nL 737.636954 294.118125 \r\nL 737.636954 294.118125 \r\nL 722.028562 294.118125 \r\nL 722.028562 294.118125 \r\nL 706.42017 294.118125 \r\nL 706.42017 294.118125 \r\nL 690.811779 294.118125 \r\nL 690.811779 294.118125 \r\nL 675.203387 294.118125 \r\nL 675.203387 294.118125 \r\nL 659.594996 294.118125 \r\nL 659.594996 294.118125 \r\nL 643.986604 294.118125 \r\nL 643.986604 294.118125 \r\nL 628.378212 294.118125 \r\nL 628.378212 294.118125 \r\nL 612.769821 294.118125 \r\nL 612.769821 294.118125 \r\nL 597.161429 294.118125 \r\nL 597.161429 294.118125 \r\nL 581.553038 294.118125 \r\nL 581.553038 294.118125 \r\nL 565.944646 294.118125 \r\nL 565.944646 294.118125 \r\nL 550.336254 294.118125 \r\nL 550.336254 294.118125 \r\nL 534.727863 294.118125 \r\nL 534.727863 294.118125 \r\nL 519.119471 294.118125 \r\nL 519.119471 294.118125 \r\nL 503.51108 294.118125 \r\nL 503.51108 294.118125 \r\nL 487.902688 294.118125 \r\nL 487.902688 294.118125 \r\nL 472.294296 294.118125 \r\nL 472.294296 294.118125 \r\nL 456.685905 294.118125 \r\nL 456.685905 294.118125 \r\nL 441.077513 294.118125 \r\nL 441.077513 294.118125 \r\nL 425.469122 294.118125 \r\nL 425.469122 294.118125 \r\nL 409.86073 294.118125 \r\nL 409.86073 294.118125 \r\nL 394.252338 294.118125 \r\nL 394.252338 294.118125 \r\nL 378.643947 294.118125 \r\nL 378.643947 294.118125 \r\nL 363.035555 294.118125 \r\nL 363.035555 294.118125 \r\nL 347.427163 294.118125 \r\nL 347.427163 294.118125 \r\nL 331.818772 294.118125 \r\nL 331.818772 294.118125 \r\nL 316.21038 294.118125 \r\nL 316.21038 294.118125 \r\nL 300.601989 294.118125 \r\nL 300.601989 294.118125 \r\nL 284.993597 294.118125 \r\nL 284.993597 294.118125 \r\nL 269.385205 294.118125 \r\nL 269.385205 294.118125 \r\nL 253.776814 294.118125 \r\nL 253.776814 294.118125 \r\nL 238.168422 294.118125 \r\nL 238.168422 294.118125 \r\nL 222.560031 294.118125 \r\nL 222.560031 294.118125 \r\nL 206.951639 294.118125 \r\nL 206.951639 294.118125 \r\nL 191.343247 294.118125 \r\nL 191.343247 294.118125 \r\nL 175.734856 294.118125 \r\nL 175.734856 294.118125 \r\nL 160.126464 294.118125 \r\nL 160.126464 294.118125 \r\nL 144.518073 294.118125 \r\nL 144.518073 294.118125 \r\nL 128.909681 294.118125 \r\nL 128.909681 294.118125 \r\nL 113.301289 294.118125 \r\nL 113.301289 294.118125 \r\nz\r\n\" style=\"fill:#add8e6;opacity:0.5;stroke:#000000;stroke-linejoin:miter;\"/>\r\n   </g>\r\n   <g id=\"text_25\">\r\n    <!-- Histogram of Chinese population in MSOAs -->\r\n    <g transform=\"translate(476.32 16.318125)scale(0.12 -0.12)\">\r\n     <defs>\r\n      <path d=\"M 9.8125 72.90625 \r\nL 19.671875 72.90625 \r\nL 19.671875 43.015625 \r\nL 55.515625 43.015625 \r\nL 55.515625 72.90625 \r\nL 65.375 72.90625 \r\nL 65.375 0 \r\nL 55.515625 0 \r\nL 55.515625 34.71875 \r\nL 19.671875 34.71875 \r\nL 19.671875 0 \r\nL 9.8125 0 \r\nz\r\n\" id=\"DejaVuSans-72\"/>\r\n      <path d=\"M 9.421875 54.6875 \r\nL 18.40625 54.6875 \r\nL 18.40625 0 \r\nL 9.421875 0 \r\nz\r\nM 9.421875 75.984375 \r\nL 18.40625 75.984375 \r\nL 18.40625 64.59375 \r\nL 9.421875 64.59375 \r\nz\r\n\" id=\"DejaVuSans-105\"/>\r\n      <path d=\"M 44.28125 53.078125 \r\nL 44.28125 44.578125 \r\nQ 40.484375 46.53125 36.375 47.5 \r\nQ 32.28125 48.484375 27.875 48.484375 \r\nQ 21.1875 48.484375 17.84375 46.4375 \r\nQ 14.5 44.390625 14.5 40.28125 \r\nQ 14.5 37.15625 16.890625 35.375 \r\nQ 19.28125 33.59375 26.515625 31.984375 \r\nL 29.59375 31.296875 \r\nQ 39.15625 29.25 43.1875 25.515625 \r\nQ 47.21875 21.78125 47.21875 15.09375 \r\nQ 47.21875 7.46875 41.1875 3.015625 \r\nQ 35.15625 -1.421875 24.609375 -1.421875 \r\nQ 20.21875 -1.421875 15.453125 -0.5625 \r\nQ 10.6875 0.296875 5.421875 2 \r\nL 5.421875 11.28125 \r\nQ 10.40625 8.6875 15.234375 7.390625 \r\nQ 20.0625 6.109375 24.8125 6.109375 \r\nQ 31.15625 6.109375 34.5625 8.28125 \r\nQ 37.984375 10.453125 37.984375 14.40625 \r\nQ 37.984375 18.0625 35.515625 20.015625 \r\nQ 33.0625 21.96875 24.703125 23.78125 \r\nL 21.578125 24.515625 \r\nQ 13.234375 26.265625 9.515625 29.90625 \r\nQ 5.8125 33.546875 5.8125 39.890625 \r\nQ 5.8125 47.609375 11.28125 51.796875 \r\nQ 16.75 56 26.8125 56 \r\nQ 31.78125 56 36.171875 55.265625 \r\nQ 40.578125 54.546875 44.28125 53.078125 \r\nz\r\n\" id=\"DejaVuSans-115\"/>\r\n      <path d=\"M 18.3125 70.21875 \r\nL 18.3125 54.6875 \r\nL 36.8125 54.6875 \r\nL 36.8125 47.703125 \r\nL 18.3125 47.703125 \r\nL 18.3125 18.015625 \r\nQ 18.3125 11.328125 20.140625 9.421875 \r\nQ 21.96875 7.515625 27.59375 7.515625 \r\nL 36.8125 7.515625 \r\nL 36.8125 0 \r\nL 27.59375 0 \r\nQ 17.1875 0 13.234375 3.875 \r\nQ 9.28125 7.765625 9.28125 18.015625 \r\nL 9.28125 47.703125 \r\nL 2.6875 47.703125 \r\nL 2.6875 54.6875 \r\nL 9.28125 54.6875 \r\nL 9.28125 70.21875 \r\nz\r\n\" id=\"DejaVuSans-116\"/>\r\n      <path d=\"M 30.609375 48.390625 \r\nQ 23.390625 48.390625 19.1875 42.75 \r\nQ 14.984375 37.109375 14.984375 27.296875 \r\nQ 14.984375 17.484375 19.15625 11.84375 \r\nQ 23.34375 6.203125 30.609375 6.203125 \r\nQ 37.796875 6.203125 41.984375 11.859375 \r\nQ 46.1875 17.53125 46.1875 27.296875 \r\nQ 46.1875 37.015625 41.984375 42.703125 \r\nQ 37.796875 48.390625 30.609375 48.390625 \r\nz\r\nM 30.609375 56 \r\nQ 42.328125 56 49.015625 48.375 \r\nQ 55.71875 40.765625 55.71875 27.296875 \r\nQ 55.71875 13.875 49.015625 6.21875 \r\nQ 42.328125 -1.421875 30.609375 -1.421875 \r\nQ 18.84375 -1.421875 12.171875 6.21875 \r\nQ 5.515625 13.875 5.515625 27.296875 \r\nQ 5.515625 40.765625 12.171875 48.375 \r\nQ 18.84375 56 30.609375 56 \r\nz\r\n\" id=\"DejaVuSans-111\"/>\r\n      <path d=\"M 45.40625 27.984375 \r\nQ 45.40625 37.75 41.375 43.109375 \r\nQ 37.359375 48.484375 30.078125 48.484375 \r\nQ 22.859375 48.484375 18.828125 43.109375 \r\nQ 14.796875 37.75 14.796875 27.984375 \r\nQ 14.796875 18.265625 18.828125 12.890625 \r\nQ 22.859375 7.515625 30.078125 7.515625 \r\nQ 37.359375 7.515625 41.375 12.890625 \r\nQ 45.40625 18.265625 45.40625 27.984375 \r\nz\r\nM 54.390625 6.78125 \r\nQ 54.390625 -7.171875 48.1875 -13.984375 \r\nQ 42 -20.796875 29.203125 -20.796875 \r\nQ 24.46875 -20.796875 20.265625 -20.09375 \r\nQ 16.0625 -19.390625 12.109375 -17.921875 \r\nL 12.109375 -9.1875 \r\nQ 16.0625 -11.328125 19.921875 -12.34375 \r\nQ 23.78125 -13.375 27.78125 -13.375 \r\nQ 36.625 -13.375 41.015625 -8.765625 \r\nQ 45.40625 -4.15625 45.40625 5.171875 \r\nL 45.40625 9.625 \r\nQ 42.625 4.78125 38.28125 2.390625 \r\nQ 33.9375 0 27.875 0 \r\nQ 17.828125 0 11.671875 7.65625 \r\nQ 5.515625 15.328125 5.515625 27.984375 \r\nQ 5.515625 40.671875 11.671875 48.328125 \r\nQ 17.828125 56 27.875 56 \r\nQ 33.9375 56 38.28125 53.609375 \r\nQ 42.625 51.21875 45.40625 46.390625 \r\nL 45.40625 54.6875 \r\nL 54.390625 54.6875 \r\nz\r\n\" id=\"DejaVuSans-103\"/>\r\n      <path d=\"M 52 44.1875 \r\nQ 55.375 50.25 60.0625 53.125 \r\nQ 64.75 56 71.09375 56 \r\nQ 79.640625 56 84.28125 50.015625 \r\nQ 88.921875 44.046875 88.921875 33.015625 \r\nL 88.921875 0 \r\nL 79.890625 0 \r\nL 79.890625 32.71875 \r\nQ 79.890625 40.578125 77.09375 44.375 \r\nQ 74.3125 48.1875 68.609375 48.1875 \r\nQ 61.625 48.1875 57.5625 43.546875 \r\nQ 53.515625 38.921875 53.515625 30.90625 \r\nL 53.515625 0 \r\nL 44.484375 0 \r\nL 44.484375 32.71875 \r\nQ 44.484375 40.625 41.703125 44.40625 \r\nQ 38.921875 48.1875 33.109375 48.1875 \r\nQ 26.21875 48.1875 22.15625 43.53125 \r\nQ 18.109375 38.875 18.109375 30.90625 \r\nL 18.109375 0 \r\nL 9.078125 0 \r\nL 9.078125 54.6875 \r\nL 18.109375 54.6875 \r\nL 18.109375 46.1875 \r\nQ 21.1875 51.21875 25.484375 53.609375 \r\nQ 29.78125 56 35.6875 56 \r\nQ 41.65625 56 45.828125 52.96875 \r\nQ 50 49.953125 52 44.1875 \r\nz\r\n\" id=\"DejaVuSans-109\"/>\r\n      <path id=\"DejaVuSans-32\"/>\r\n      <path d=\"M 37.109375 75.984375 \r\nL 37.109375 68.5 \r\nL 28.515625 68.5 \r\nQ 23.6875 68.5 21.796875 66.546875 \r\nQ 19.921875 64.59375 19.921875 59.515625 \r\nL 19.921875 54.6875 \r\nL 34.71875 54.6875 \r\nL 34.71875 47.703125 \r\nL 19.921875 47.703125 \r\nL 19.921875 0 \r\nL 10.890625 0 \r\nL 10.890625 47.703125 \r\nL 2.296875 47.703125 \r\nL 2.296875 54.6875 \r\nL 10.890625 54.6875 \r\nL 10.890625 58.5 \r\nQ 10.890625 67.625 15.140625 71.796875 \r\nQ 19.390625 75.984375 28.609375 75.984375 \r\nz\r\n\" id=\"DejaVuSans-102\"/>\r\n      <path d=\"M 64.40625 67.28125 \r\nL 64.40625 56.890625 \r\nQ 59.421875 61.53125 53.78125 63.8125 \r\nQ 48.140625 66.109375 41.796875 66.109375 \r\nQ 29.296875 66.109375 22.65625 58.46875 \r\nQ 16.015625 50.828125 16.015625 36.375 \r\nQ 16.015625 21.96875 22.65625 14.328125 \r\nQ 29.296875 6.6875 41.796875 6.6875 \r\nQ 48.140625 6.6875 53.78125 8.984375 \r\nQ 59.421875 11.28125 64.40625 15.921875 \r\nL 64.40625 5.609375 \r\nQ 59.234375 2.09375 53.4375 0.328125 \r\nQ 47.65625 -1.421875 41.21875 -1.421875 \r\nQ 24.65625 -1.421875 15.125 8.703125 \r\nQ 5.609375 18.84375 5.609375 36.375 \r\nQ 5.609375 53.953125 15.125 64.078125 \r\nQ 24.65625 74.21875 41.21875 74.21875 \r\nQ 47.75 74.21875 53.53125 72.484375 \r\nQ 59.328125 70.75 64.40625 67.28125 \r\nz\r\n\" id=\"DejaVuSans-67\"/>\r\n      <path d=\"M 54.890625 33.015625 \r\nL 54.890625 0 \r\nL 45.90625 0 \r\nL 45.90625 32.71875 \r\nQ 45.90625 40.484375 42.875 44.328125 \r\nQ 39.84375 48.1875 33.796875 48.1875 \r\nQ 26.515625 48.1875 22.3125 43.546875 \r\nQ 18.109375 38.921875 18.109375 30.90625 \r\nL 18.109375 0 \r\nL 9.078125 0 \r\nL 9.078125 75.984375 \r\nL 18.109375 75.984375 \r\nL 18.109375 46.1875 \r\nQ 21.34375 51.125 25.703125 53.5625 \r\nQ 30.078125 56 35.796875 56 \r\nQ 45.21875 56 50.046875 50.171875 \r\nQ 54.890625 44.34375 54.890625 33.015625 \r\nz\r\n\" id=\"DejaVuSans-104\"/>\r\n      <path d=\"M 18.109375 8.203125 \r\nL 18.109375 -20.796875 \r\nL 9.078125 -20.796875 \r\nL 9.078125 54.6875 \r\nL 18.109375 54.6875 \r\nL 18.109375 46.390625 \r\nQ 20.953125 51.265625 25.265625 53.625 \r\nQ 29.59375 56 35.59375 56 \r\nQ 45.5625 56 51.78125 48.09375 \r\nQ 58.015625 40.1875 58.015625 27.296875 \r\nQ 58.015625 14.40625 51.78125 6.484375 \r\nQ 45.5625 -1.421875 35.59375 -1.421875 \r\nQ 29.59375 -1.421875 25.265625 0.953125 \r\nQ 20.953125 3.328125 18.109375 8.203125 \r\nz\r\nM 48.6875 27.296875 \r\nQ 48.6875 37.203125 44.609375 42.84375 \r\nQ 40.53125 48.484375 33.40625 48.484375 \r\nQ 26.265625 48.484375 22.1875 42.84375 \r\nQ 18.109375 37.203125 18.109375 27.296875 \r\nQ 18.109375 17.390625 22.1875 11.75 \r\nQ 26.265625 6.109375 33.40625 6.109375 \r\nQ 40.53125 6.109375 44.609375 11.75 \r\nQ 48.6875 17.390625 48.6875 27.296875 \r\nz\r\n\" id=\"DejaVuSans-112\"/>\r\n      <path d=\"M 9.8125 72.90625 \r\nL 24.515625 72.90625 \r\nL 43.109375 23.296875 \r\nL 61.8125 72.90625 \r\nL 76.515625 72.90625 \r\nL 76.515625 0 \r\nL 66.890625 0 \r\nL 66.890625 64.015625 \r\nL 48.09375 14.015625 \r\nL 38.1875 14.015625 \r\nL 19.390625 64.015625 \r\nL 19.390625 0 \r\nL 9.8125 0 \r\nz\r\n\" id=\"DejaVuSans-77\"/>\r\n      <path d=\"M 53.515625 70.515625 \r\nL 53.515625 60.890625 \r\nQ 47.90625 63.578125 42.921875 64.890625 \r\nQ 37.9375 66.21875 33.296875 66.21875 \r\nQ 25.25 66.21875 20.875 63.09375 \r\nQ 16.5 59.96875 16.5 54.203125 \r\nQ 16.5 49.359375 19.40625 46.890625 \r\nQ 22.3125 44.4375 30.421875 42.921875 \r\nL 36.375 41.703125 \r\nQ 47.40625 39.59375 52.65625 34.296875 \r\nQ 57.90625 29 57.90625 20.125 \r\nQ 57.90625 9.515625 50.796875 4.046875 \r\nQ 43.703125 -1.421875 29.984375 -1.421875 \r\nQ 24.8125 -1.421875 18.96875 -0.25 \r\nQ 13.140625 0.921875 6.890625 3.21875 \r\nL 6.890625 13.375 \r\nQ 12.890625 10.015625 18.65625 8.296875 \r\nQ 24.421875 6.59375 29.984375 6.59375 \r\nQ 38.421875 6.59375 43.015625 9.90625 \r\nQ 47.609375 13.234375 47.609375 19.390625 \r\nQ 47.609375 24.75 44.3125 27.78125 \r\nQ 41.015625 30.8125 33.5 32.328125 \r\nL 27.484375 33.5 \r\nQ 16.453125 35.6875 11.515625 40.375 \r\nQ 6.59375 45.0625 6.59375 53.421875 \r\nQ 6.59375 63.09375 13.40625 68.65625 \r\nQ 20.21875 74.21875 32.171875 74.21875 \r\nQ 37.3125 74.21875 42.625 73.28125 \r\nQ 47.953125 72.359375 53.515625 70.515625 \r\nz\r\n\" id=\"DejaVuSans-83\"/>\r\n      <path d=\"M 39.40625 66.21875 \r\nQ 28.65625 66.21875 22.328125 58.203125 \r\nQ 16.015625 50.203125 16.015625 36.375 \r\nQ 16.015625 22.609375 22.328125 14.59375 \r\nQ 28.65625 6.59375 39.40625 6.59375 \r\nQ 50.140625 6.59375 56.421875 14.59375 \r\nQ 62.703125 22.609375 62.703125 36.375 \r\nQ 62.703125 50.203125 56.421875 58.203125 \r\nQ 50.140625 66.21875 39.40625 66.21875 \r\nz\r\nM 39.40625 74.21875 \r\nQ 54.734375 74.21875 63.90625 63.9375 \r\nQ 73.09375 53.65625 73.09375 36.375 \r\nQ 73.09375 19.140625 63.90625 8.859375 \r\nQ 54.734375 -1.421875 39.40625 -1.421875 \r\nQ 24.03125 -1.421875 14.8125 8.828125 \r\nQ 5.609375 19.09375 5.609375 36.375 \r\nQ 5.609375 53.65625 14.8125 63.9375 \r\nQ 24.03125 74.21875 39.40625 74.21875 \r\nz\r\n\" id=\"DejaVuSans-79\"/>\r\n      <path d=\"M 34.1875 63.1875 \r\nL 20.796875 26.90625 \r\nL 47.609375 26.90625 \r\nz\r\nM 28.609375 72.90625 \r\nL 39.796875 72.90625 \r\nL 67.578125 0 \r\nL 57.328125 0 \r\nL 50.6875 18.703125 \r\nL 17.828125 18.703125 \r\nL 11.1875 0 \r\nL 0.78125 0 \r\nz\r\n\" id=\"DejaVuSans-65\"/>\r\n     </defs>\r\n     <use xlink:href=\"#DejaVuSans-72\"/>\r\n     <use x=\"75.195312\" xlink:href=\"#DejaVuSans-105\"/>\r\n     <use x=\"102.978516\" xlink:href=\"#DejaVuSans-115\"/>\r\n     <use x=\"155.078125\" xlink:href=\"#DejaVuSans-116\"/>\r\n     <use x=\"194.287109\" xlink:href=\"#DejaVuSans-111\"/>\r\n     <use x=\"255.46875\" xlink:href=\"#DejaVuSans-103\"/>\r\n     <use x=\"318.945312\" xlink:href=\"#DejaVuSans-114\"/>\r\n     <use x=\"360.058594\" xlink:href=\"#DejaVuSans-97\"/>\r\n     <use x=\"421.337891\" xlink:href=\"#DejaVuSans-109\"/>\r\n     <use x=\"518.75\" xlink:href=\"#DejaVuSans-32\"/>\r\n     <use x=\"550.537109\" xlink:href=\"#DejaVuSans-111\"/>\r\n     <use x=\"611.71875\" xlink:href=\"#DejaVuSans-102\"/>\r\n     <use x=\"646.923828\" xlink:href=\"#DejaVuSans-32\"/>\r\n     <use x=\"678.710938\" xlink:href=\"#DejaVuSans-67\"/>\r\n     <use x=\"748.535156\" xlink:href=\"#DejaVuSans-104\"/>\r\n     <use x=\"811.914062\" xlink:href=\"#DejaVuSans-105\"/>\r\n     <use x=\"839.697266\" xlink:href=\"#DejaVuSans-110\"/>\r\n     <use x=\"903.076172\" xlink:href=\"#DejaVuSans-101\"/>\r\n     <use x=\"964.599609\" xlink:href=\"#DejaVuSans-115\"/>\r\n     <use x=\"1016.699219\" xlink:href=\"#DejaVuSans-101\"/>\r\n     <use x=\"1078.222656\" xlink:href=\"#DejaVuSans-32\"/>\r\n     <use x=\"1110.009766\" xlink:href=\"#DejaVuSans-112\"/>\r\n     <use x=\"1173.486328\" xlink:href=\"#DejaVuSans-111\"/>\r\n     <use x=\"1234.667969\" xlink:href=\"#DejaVuSans-112\"/>\r\n     <use x=\"1298.144531\" xlink:href=\"#DejaVuSans-117\"/>\r\n     <use x=\"1361.523438\" xlink:href=\"#DejaVuSans-108\"/>\r\n     <use x=\"1389.306641\" xlink:href=\"#DejaVuSans-97\"/>\r\n     <use x=\"1450.585938\" xlink:href=\"#DejaVuSans-116\"/>\r\n     <use x=\"1489.794922\" xlink:href=\"#DejaVuSans-105\"/>\r\n     <use x=\"1517.578125\" xlink:href=\"#DejaVuSans-111\"/>\r\n     <use x=\"1578.759766\" xlink:href=\"#DejaVuSans-110\"/>\r\n     <use x=\"1642.138672\" xlink:href=\"#DejaVuSans-32\"/>\r\n     <use x=\"1673.925781\" xlink:href=\"#DejaVuSans-105\"/>\r\n     <use x=\"1701.708984\" xlink:href=\"#DejaVuSans-110\"/>\r\n     <use x=\"1765.087891\" xlink:href=\"#DejaVuSans-32\"/>\r\n     <use x=\"1796.875\" xlink:href=\"#DejaVuSans-77\"/>\r\n     <use x=\"1883.154297\" xlink:href=\"#DejaVuSans-83\"/>\r\n     <use x=\"1946.630859\" xlink:href=\"#DejaVuSans-79\"/>\r\n     <use x=\"2023.591797\" xlink:href=\"#DejaVuSans-65\"/>\r\n     <use x=\"2092\" xlink:href=\"#DejaVuSans-115\"/>\r\n    </g>\r\n   </g>\r\n  </g>\r\n </g>\r\n <defs>\r\n  <clipPath id=\"p311ea27f08\">\r\n   <rect height=\"271.8\" width=\"1116\" x=\"46.965625\" y=\"22.318125\"/>\r\n  </clipPath>\r\n </defs>\r\n</svg>\r\n",
      "image/png": "[encoded data removed]"
     },
     "metadata": {
      "needs_background": "light"
     }
    }
   ],
   "source": [
    "# show histogram\n",
    "fig, ax = plt.subplots(1, figsize=(20,5))\n",
    "ax.set_xticks(np.arange(0, final_pop_df['Chinese Population'].max()+100, 100))\n",
    "n, bins, patches = ax.hist(x=final_pop_df['Chinese Population'], \n",
    "                            histtype='stepfilled', \n",
    "                            fc='lightblue', \n",
    "                            ec='black', \n",
    "                            bins=np.arange(0, final_pop_df['Chinese Population'].max()+100, 20), \n",
    "                            alpha=0.5, \n",
    "                            zorder=3)\n",
    "ax.grid(color='white', linestyle='solid', zorder=0)\n",
    "ax.set_facecolor('#EEEEEE')\n",
    "ax.set_xlabel('Value')\n",
    "ax.set_ylabel('Frequency')\n",
    "ax.set_title('Histogram of Chinese population in MSOAs')"
   ]
  },
  {
   "cell_type": "code",
   "execution_count": 48,
   "metadata": {},
   "outputs": [],
   "source": [
    "# This code filters the Boundaries geojson file only for London MSOAs\n",
    "# Don't run it in Jupyter, this is just an example how it would work in this enviroment\n",
    "# Use the convert.py\n",
    "\n",
    "# # MSOA codes\n",
    "# london_msoa = final_pop_df['MSOA Code'].values.tolist()\n",
    "\n",
    "# # MSOA geojson\n",
    "# response = requests.get(\"https://opendata.arcgis.com/datasets/826dc85fb600440889480f4d9dbb1a24_0.geojson\")\n",
    "\n",
    "# # Read json\n",
    "# uk_geojson = json.loads(response.text)\n",
    "\n",
    "# # Filter for London MSOAs\n",
    "# lon_geojson = [x for x in uk_geojson.features if x['properties']['msoa11cd'] in london_msoa]\n",
    "\n",
    "# with open('lon_geojson.json', 'w') as write_file:\n",
    "#     json.dump(lon_geojson, write_file)"
   ]
  },
  {
   "cell_type": "code",
   "execution_count": null,
   "metadata": {},
   "outputs": [],
   "source": [
    "# visualising Chinese population in London\n",
    "\n",
    "# !!! download the geojson file and run the convert.py to generate the lon_geojson.json !!!\n",
    "\n",
    "# use geopandas to load geojson data as later we will need to amend it\n",
    "lon_geojson = geopandas.read_file('data/lon_geojson.json')\n",
    "\n",
    "# getting coordinates for London\n",
    "geolocator = Nominatim(user_agent=\"cn_london\")\n",
    "location = geolocator.geocode(\"London\")\n",
    "\n",
    "# creating map\n",
    "m = folium.Map(location=[location.latitude, location.longitude], tiles='cartodbpositron', zoom_start=11)\n",
    "\n",
    "# choropleth map for population density in MSOAs\n",
    "folium.Choropleth(\n",
    "    geo_data=lon_geojson.to_json(),\n",
    "    name='Choropleth',\n",
    "    data=final_pop_df,\n",
    "    columns=['MSOA Code', 'Chinese Population'],\n",
    "    key_on='feature.properties.msoa11cd',\n",
    "    fill_color='YlGn',\n",
    "    fill_opacity=0.8,\n",
    "    line_opacity=0.2,\n",
    "    nan_fill_color='grey',\n",
    "    nan_fill_opacity=0.4,\n",
    "    legend_name='Population'\n",
    ").add_to(m)\n",
    "m"
   ]
  },
  {
   "source": [
    "<img src=\"maps/MSOA.png\">"
   ],
   "cell_type": "markdown",
   "metadata": {}
  },
  {
   "source": [
    "## Clustering MSOAs to find local population centroids\n",
    "Using the choropleth map we can easily identify a few population centres but it would be a somewhat biased selection of MSOAs. Furthermore, as the catchment area of a restaurant is probably bigger than an MSOA, it would be nice to cluster them together based on some parameters. Without thoroughly checking what the literature has to say about restaurant catchment areas, I chose a 2000m radius (12.57 sq km) from the population centroid and at least 2000 headcount of Chinese origin."
   ],
   "cell_type": "markdown",
   "metadata": {}
  },
  {
   "cell_type": "code",
   "execution_count": 49,
   "metadata": {},
   "outputs": [],
   "source": [
    "# kmeans function to determine cluster size \n",
    "def optimal_cluster(start_cluster, end_cluster, data, weight):\n",
    "    result = {}\n",
    "    for i in range(start_cluster, end_cluster):\n",
    "        kmeans = KMeans(n_clusters=i, random_state=10).fit(data, sample_weight=weight)\n",
    "        final_pop_df[\"Population Cluster\"] = kmeans.labels_\n",
    "    \n",
    "        # sum of Chinese population and area sq km\n",
    "        cluster_denisty = final_pop_df.groupby(['Population Cluster']).agg({'Chinese Population': 'sum', 'Area Sq Km': 'sum'})\n",
    "\n",
    "        # number of clusters with desired outcome\n",
    "        no_cluster = cluster_denisty[(cluster_denisty['Area Sq Km'] < 12.57) & (cluster_denisty['Chinese Population'] >= 2000)].shape[0]\n",
    "        \n",
    "        result[i] = no_cluster\n",
    "        \n",
    "    return result"
   ]
  },
  {
   "cell_type": "code",
   "execution_count": 50,
   "metadata": {},
   "outputs": [],
   "source": [
    "# kmeans preparation\n",
    "X = final_pop_df[['Latitude', 'Longitude']].to_numpy()\n",
    "pop_weight = final_pop_df['Chinese Population'].to_numpy()\n",
    "\n",
    "# run optimal cluster function\n",
    "result = pd.DataFrame.from_dict(data=optimal_cluster(1, 200, X, pop_weight), orient='index', columns=['N filtered cluster'])"
   ]
  },
  {
   "cell_type": "code",
   "execution_count": 51,
   "metadata": {},
   "outputs": [
    {
     "output_type": "execute_result",
     "data": {
      "text/plain": [
       "Text(0.5, 1.0, 'K-means ideal cluster size')"
      ]
     },
     "metadata": {},
     "execution_count": 51
    },
    {
     "output_type": "display_data",
     "data": {
      "text/plain": "<Figure size 1440x360 with 1 Axes>",
      "image/svg+xml": "<?xml version=\"1.0\" encoding=\"utf-8\" standalone=\"no\"?>\r\n<!DOCTYPE svg PUBLIC \"-//W3C//DTD SVG 1.1//EN\"\r\n  \"http://www.w3.org/Graphics/SVG/1.1/DTD/svg11.dtd\">\r\n<!-- Created with matplotlib (https://matplotlib.org/) -->\r\n<svg height=\"331.674375pt\" version=\"1.1\" viewBox=\"0 0 1163.803125 331.674375\" width=\"1163.803125pt\" xmlns=\"http://www.w3.org/2000/svg\" xmlns:xlink=\"http://www.w3.org/1999/xlink\">\r\n <metadata>\r\n  <rdf:RDF xmlns:cc=\"http://creativecommons.org/ns#\" xmlns:dc=\"http://purl.org/dc/elements/1.1/\" xmlns:rdf=\"http://www.w3.org/1999/02/22-rdf-syntax-ns#\">\r\n   <cc:Work>\r\n    <dc:type rdf:resource=\"http://purl.org/dc/dcmitype/StillImage\"/>\r\n    <dc:date>2020-10-17T17:38:56.248098</dc:date>\r\n    <dc:format>image/svg+xml</dc:format>\r\n    <dc:creator>\r\n     <cc:Agent>\r\n      <dc:title>Matplotlib v3.3.1, https://matplotlib.org/</dc:title>\r\n     </cc:Agent>\r\n    </dc:creator>\r\n   </cc:Work>\r\n  </rdf:RDF>\r\n </metadata>\r\n <defs>\r\n  <style type=\"text/css\">*{stroke-linecap:butt;stroke-linejoin:round;}</style>\r\n </defs>\r\n <g id=\"figure_1\">\r\n  <g id=\"patch_1\">\r\n   <path d=\"M 0 331.674375 \r\nL 1163.803125 331.674375 \r\nL 1163.803125 0 \r\nL 0 0 \r\nz\r\n\" style=\"fill:none;\"/>\r\n  </g>\r\n  <g id=\"axes_1\">\r\n   <g id=\"patch_2\">\r\n    <path d=\"M 40.603125 294.118125 \r\nL 1156.603125 294.118125 \r\nL 1156.603125 22.318125 \r\nL 40.603125 22.318125 \r\nz\r\n\" style=\"fill:#ffffff;\"/>\r\n   </g>\r\n   <g id=\"matplotlib.axis_1\">\r\n    <g id=\"xtick_1\">\r\n     <g id=\"line2d_1\">\r\n      <defs>\r\n       <path d=\"M 0 0 \r\nL 0 3.5 \r\n\" id=\"m4b83bedfe0\" style=\"stroke:#000000;stroke-width:0.8;\"/>\r\n      </defs>\r\n      <g>\r\n       <use style=\"stroke:#000000;stroke-width:0.8;\" x=\"86.206431\" xlink:href=\"#m4b83bedfe0\" y=\"294.118125\"/>\r\n      </g>\r\n     </g>\r\n     <g id=\"text_1\">\r\n      <!-- 0 -->\r\n      <g transform=\"translate(83.025181 308.716563)scale(0.1 -0.1)\">\r\n       <defs>\r\n        <path d=\"M 31.78125 66.40625 \r\nQ 24.171875 66.40625 20.328125 58.90625 \r\nQ 16.5 51.421875 16.5 36.375 \r\nQ 16.5 21.390625 20.328125 13.890625 \r\nQ 24.171875 6.390625 31.78125 6.390625 \r\nQ 39.453125 6.390625 43.28125 13.890625 \r\nQ 47.125 21.390625 47.125 36.375 \r\nQ 47.125 51.421875 43.28125 58.90625 \r\nQ 39.453125 66.40625 31.78125 66.40625 \r\nz\r\nM 31.78125 74.21875 \r\nQ 44.046875 74.21875 50.515625 64.515625 \r\nQ 56.984375 54.828125 56.984375 36.375 \r\nQ 56.984375 17.96875 50.515625 8.265625 \r\nQ 44.046875 -1.421875 31.78125 -1.421875 \r\nQ 19.53125 -1.421875 13.0625 8.265625 \r\nQ 6.59375 17.96875 6.59375 36.375 \r\nQ 6.59375 54.828125 13.0625 64.515625 \r\nQ 19.53125 74.21875 31.78125 74.21875 \r\nz\r\n\" id=\"DejaVuSans-48\"/>\r\n       </defs>\r\n       <use xlink:href=\"#DejaVuSans-48\"/>\r\n      </g>\r\n     </g>\r\n    </g>\r\n    <g id=\"xtick_2\">\r\n     <g id=\"line2d_2\">\r\n      <g>\r\n       <use style=\"stroke:#000000;stroke-width:0.8;\" x=\"214.305604\" xlink:href=\"#m4b83bedfe0\" y=\"294.118125\"/>\r\n      </g>\r\n     </g>\r\n     <g id=\"text_2\">\r\n      <!-- 25 -->\r\n      <g transform=\"translate(207.943104 308.716563)scale(0.1 -0.1)\">\r\n       <defs>\r\n        <path d=\"M 19.1875 8.296875 \r\nL 53.609375 8.296875 \r\nL 53.609375 0 \r\nL 7.328125 0 \r\nL 7.328125 8.296875 \r\nQ 12.9375 14.109375 22.625 23.890625 \r\nQ 32.328125 33.6875 34.8125 36.53125 \r\nQ 39.546875 41.84375 41.421875 45.53125 \r\nQ 43.3125 49.21875 43.3125 52.78125 \r\nQ 43.3125 58.59375 39.234375 62.25 \r\nQ 35.15625 65.921875 28.609375 65.921875 \r\nQ 23.96875 65.921875 18.8125 64.3125 \r\nQ 13.671875 62.703125 7.8125 59.421875 \r\nL 7.8125 69.390625 \r\nQ 13.765625 71.78125 18.9375 73 \r\nQ 24.125 74.21875 28.421875 74.21875 \r\nQ 39.75 74.21875 46.484375 68.546875 \r\nQ 53.21875 62.890625 53.21875 53.421875 \r\nQ 53.21875 48.921875 51.53125 44.890625 \r\nQ 49.859375 40.875 45.40625 35.40625 \r\nQ 44.1875 33.984375 37.640625 27.21875 \r\nQ 31.109375 20.453125 19.1875 8.296875 \r\nz\r\n\" id=\"DejaVuSans-50\"/>\r\n        <path d=\"M 10.796875 72.90625 \r\nL 49.515625 72.90625 \r\nL 49.515625 64.59375 \r\nL 19.828125 64.59375 \r\nL 19.828125 46.734375 \r\nQ 21.96875 47.46875 24.109375 47.828125 \r\nQ 26.265625 48.1875 28.421875 48.1875 \r\nQ 40.625 48.1875 47.75 41.5 \r\nQ 54.890625 34.8125 54.890625 23.390625 \r\nQ 54.890625 11.625 47.5625 5.09375 \r\nQ 40.234375 -1.421875 26.90625 -1.421875 \r\nQ 22.3125 -1.421875 17.546875 -0.640625 \r\nQ 12.796875 0.140625 7.71875 1.703125 \r\nL 7.71875 11.625 \r\nQ 12.109375 9.234375 16.796875 8.0625 \r\nQ 21.484375 6.890625 26.703125 6.890625 \r\nQ 35.15625 6.890625 40.078125 11.328125 \r\nQ 45.015625 15.765625 45.015625 23.390625 \r\nQ 45.015625 31 40.078125 35.4375 \r\nQ 35.15625 39.890625 26.703125 39.890625 \r\nQ 22.75 39.890625 18.8125 39.015625 \r\nQ 14.890625 38.140625 10.796875 36.28125 \r\nz\r\n\" id=\"DejaVuSans-53\"/>\r\n       </defs>\r\n       <use xlink:href=\"#DejaVuSans-50\"/>\r\n       <use x=\"63.623047\" xlink:href=\"#DejaVuSans-53\"/>\r\n      </g>\r\n     </g>\r\n    </g>\r\n    <g id=\"xtick_3\">\r\n     <g id=\"line2d_3\">\r\n      <g>\r\n       <use style=\"stroke:#000000;stroke-width:0.8;\" x=\"342.404778\" xlink:href=\"#m4b83bedfe0\" y=\"294.118125\"/>\r\n      </g>\r\n     </g>\r\n     <g id=\"text_3\">\r\n      <!-- 50 -->\r\n      <g transform=\"translate(336.042278 308.716563)scale(0.1 -0.1)\">\r\n       <use xlink:href=\"#DejaVuSans-53\"/>\r\n       <use x=\"63.623047\" xlink:href=\"#DejaVuSans-48\"/>\r\n      </g>\r\n     </g>\r\n    </g>\r\n    <g id=\"xtick_4\">\r\n     <g id=\"line2d_4\">\r\n      <g>\r\n       <use style=\"stroke:#000000;stroke-width:0.8;\" x=\"470.503951\" xlink:href=\"#m4b83bedfe0\" y=\"294.118125\"/>\r\n      </g>\r\n     </g>\r\n     <g id=\"text_4\">\r\n      <!-- 75 -->\r\n      <g transform=\"translate(464.141451 308.716563)scale(0.1 -0.1)\">\r\n       <defs>\r\n        <path d=\"M 8.203125 72.90625 \r\nL 55.078125 72.90625 \r\nL 55.078125 68.703125 \r\nL 28.609375 0 \r\nL 18.3125 0 \r\nL 43.21875 64.59375 \r\nL 8.203125 64.59375 \r\nz\r\n\" id=\"DejaVuSans-55\"/>\r\n       </defs>\r\n       <use xlink:href=\"#DejaVuSans-55\"/>\r\n       <use x=\"63.623047\" xlink:href=\"#DejaVuSans-53\"/>\r\n      </g>\r\n     </g>\r\n    </g>\r\n    <g id=\"xtick_5\">\r\n     <g id=\"line2d_5\">\r\n      <g>\r\n       <use style=\"stroke:#000000;stroke-width:0.8;\" x=\"598.603125\" xlink:href=\"#m4b83bedfe0\" y=\"294.118125\"/>\r\n      </g>\r\n     </g>\r\n     <g id=\"text_5\">\r\n      <!-- 100 -->\r\n      <g transform=\"translate(589.059375 308.716563)scale(0.1 -0.1)\">\r\n       <defs>\r\n        <path d=\"M 12.40625 8.296875 \r\nL 28.515625 8.296875 \r\nL 28.515625 63.921875 \r\nL 10.984375 60.40625 \r\nL 10.984375 69.390625 \r\nL 28.421875 72.90625 \r\nL 38.28125 72.90625 \r\nL 38.28125 8.296875 \r\nL 54.390625 8.296875 \r\nL 54.390625 0 \r\nL 12.40625 0 \r\nz\r\n\" id=\"DejaVuSans-49\"/>\r\n       </defs>\r\n       <use xlink:href=\"#DejaVuSans-49\"/>\r\n       <use x=\"63.623047\" xlink:href=\"#DejaVuSans-48\"/>\r\n       <use x=\"127.246094\" xlink:href=\"#DejaVuSans-48\"/>\r\n      </g>\r\n     </g>\r\n    </g>\r\n    <g id=\"xtick_6\">\r\n     <g id=\"line2d_6\">\r\n      <g>\r\n       <use style=\"stroke:#000000;stroke-width:0.8;\" x=\"726.702299\" xlink:href=\"#m4b83bedfe0\" y=\"294.118125\"/>\r\n      </g>\r\n     </g>\r\n     <g id=\"text_6\">\r\n      <!-- 125 -->\r\n      <g transform=\"translate(717.158549 308.716563)scale(0.1 -0.1)\">\r\n       <use xlink:href=\"#DejaVuSans-49\"/>\r\n       <use x=\"63.623047\" xlink:href=\"#DejaVuSans-50\"/>\r\n       <use x=\"127.246094\" xlink:href=\"#DejaVuSans-53\"/>\r\n      </g>\r\n     </g>\r\n    </g>\r\n    <g id=\"xtick_7\">\r\n     <g id=\"line2d_7\">\r\n      <g>\r\n       <use style=\"stroke:#000000;stroke-width:0.8;\" x=\"854.801472\" xlink:href=\"#m4b83bedfe0\" y=\"294.118125\"/>\r\n      </g>\r\n     </g>\r\n     <g id=\"text_7\">\r\n      <!-- 150 -->\r\n      <g transform=\"translate(845.257722 308.716563)scale(0.1 -0.1)\">\r\n       <use xlink:href=\"#DejaVuSans-49\"/>\r\n       <use x=\"63.623047\" xlink:href=\"#DejaVuSans-53\"/>\r\n       <use x=\"127.246094\" xlink:href=\"#DejaVuSans-48\"/>\r\n      </g>\r\n     </g>\r\n    </g>\r\n    <g id=\"xtick_8\">\r\n     <g id=\"line2d_8\">\r\n      <g>\r\n       <use style=\"stroke:#000000;stroke-width:0.8;\" x=\"982.900646\" xlink:href=\"#m4b83bedfe0\" y=\"294.118125\"/>\r\n      </g>\r\n     </g>\r\n     <g id=\"text_8\">\r\n      <!-- 175 -->\r\n      <g transform=\"translate(973.356896 308.716563)scale(0.1 -0.1)\">\r\n       <use xlink:href=\"#DejaVuSans-49\"/>\r\n       <use x=\"63.623047\" xlink:href=\"#DejaVuSans-55\"/>\r\n       <use x=\"127.246094\" xlink:href=\"#DejaVuSans-53\"/>\r\n      </g>\r\n     </g>\r\n    </g>\r\n    <g id=\"xtick_9\">\r\n     <g id=\"line2d_9\">\r\n      <g>\r\n       <use style=\"stroke:#000000;stroke-width:0.8;\" x=\"1110.999819\" xlink:href=\"#m4b83bedfe0\" y=\"294.118125\"/>\r\n      </g>\r\n     </g>\r\n     <g id=\"text_9\">\r\n      <!-- 200 -->\r\n      <g transform=\"translate(1101.456069 308.716563)scale(0.1 -0.1)\">\r\n       <use xlink:href=\"#DejaVuSans-50\"/>\r\n       <use x=\"63.623047\" xlink:href=\"#DejaVuSans-48\"/>\r\n       <use x=\"127.246094\" xlink:href=\"#DejaVuSans-48\"/>\r\n      </g>\r\n     </g>\r\n    </g>\r\n    <g id=\"text_10\">\r\n     <!-- N of total clusters -->\r\n     <g transform=\"translate(554.234375 322.394687)scale(0.1 -0.1)\">\r\n      <defs>\r\n       <path d=\"M 9.8125 72.90625 \r\nL 23.09375 72.90625 \r\nL 55.421875 11.921875 \r\nL 55.421875 72.90625 \r\nL 64.984375 72.90625 \r\nL 64.984375 0 \r\nL 51.703125 0 \r\nL 19.390625 60.984375 \r\nL 19.390625 0 \r\nL 9.8125 0 \r\nz\r\n\" id=\"DejaVuSans-78\"/>\r\n       <path id=\"DejaVuSans-32\"/>\r\n       <path d=\"M 30.609375 48.390625 \r\nQ 23.390625 48.390625 19.1875 42.75 \r\nQ 14.984375 37.109375 14.984375 27.296875 \r\nQ 14.984375 17.484375 19.15625 11.84375 \r\nQ 23.34375 6.203125 30.609375 6.203125 \r\nQ 37.796875 6.203125 41.984375 11.859375 \r\nQ 46.1875 17.53125 46.1875 27.296875 \r\nQ 46.1875 37.015625 41.984375 42.703125 \r\nQ 37.796875 48.390625 30.609375 48.390625 \r\nz\r\nM 30.609375 56 \r\nQ 42.328125 56 49.015625 48.375 \r\nQ 55.71875 40.765625 55.71875 27.296875 \r\nQ 55.71875 13.875 49.015625 6.21875 \r\nQ 42.328125 -1.421875 30.609375 -1.421875 \r\nQ 18.84375 -1.421875 12.171875 6.21875 \r\nQ 5.515625 13.875 5.515625 27.296875 \r\nQ 5.515625 40.765625 12.171875 48.375 \r\nQ 18.84375 56 30.609375 56 \r\nz\r\n\" id=\"DejaVuSans-111\"/>\r\n       <path d=\"M 37.109375 75.984375 \r\nL 37.109375 68.5 \r\nL 28.515625 68.5 \r\nQ 23.6875 68.5 21.796875 66.546875 \r\nQ 19.921875 64.59375 19.921875 59.515625 \r\nL 19.921875 54.6875 \r\nL 34.71875 54.6875 \r\nL 34.71875 47.703125 \r\nL 19.921875 47.703125 \r\nL 19.921875 0 \r\nL 10.890625 0 \r\nL 10.890625 47.703125 \r\nL 2.296875 47.703125 \r\nL 2.296875 54.6875 \r\nL 10.890625 54.6875 \r\nL 10.890625 58.5 \r\nQ 10.890625 67.625 15.140625 71.796875 \r\nQ 19.390625 75.984375 28.609375 75.984375 \r\nz\r\n\" id=\"DejaVuSans-102\"/>\r\n       <path d=\"M 18.3125 70.21875 \r\nL 18.3125 54.6875 \r\nL 36.8125 54.6875 \r\nL 36.8125 47.703125 \r\nL 18.3125 47.703125 \r\nL 18.3125 18.015625 \r\nQ 18.3125 11.328125 20.140625 9.421875 \r\nQ 21.96875 7.515625 27.59375 7.515625 \r\nL 36.8125 7.515625 \r\nL 36.8125 0 \r\nL 27.59375 0 \r\nQ 17.1875 0 13.234375 3.875 \r\nQ 9.28125 7.765625 9.28125 18.015625 \r\nL 9.28125 47.703125 \r\nL 2.6875 47.703125 \r\nL 2.6875 54.6875 \r\nL 9.28125 54.6875 \r\nL 9.28125 70.21875 \r\nz\r\n\" id=\"DejaVuSans-116\"/>\r\n       <path d=\"M 34.28125 27.484375 \r\nQ 23.390625 27.484375 19.1875 25 \r\nQ 14.984375 22.515625 14.984375 16.5 \r\nQ 14.984375 11.71875 18.140625 8.90625 \r\nQ 21.296875 6.109375 26.703125 6.109375 \r\nQ 34.1875 6.109375 38.703125 11.40625 \r\nQ 43.21875 16.703125 43.21875 25.484375 \r\nL 43.21875 27.484375 \r\nz\r\nM 52.203125 31.203125 \r\nL 52.203125 0 \r\nL 43.21875 0 \r\nL 43.21875 8.296875 \r\nQ 40.140625 3.328125 35.546875 0.953125 \r\nQ 30.953125 -1.421875 24.3125 -1.421875 \r\nQ 15.921875 -1.421875 10.953125 3.296875 \r\nQ 6 8.015625 6 15.921875 \r\nQ 6 25.140625 12.171875 29.828125 \r\nQ 18.359375 34.515625 30.609375 34.515625 \r\nL 43.21875 34.515625 \r\nL 43.21875 35.40625 \r\nQ 43.21875 41.609375 39.140625 45 \r\nQ 35.0625 48.390625 27.6875 48.390625 \r\nQ 23 48.390625 18.546875 47.265625 \r\nQ 14.109375 46.140625 10.015625 43.890625 \r\nL 10.015625 52.203125 \r\nQ 14.9375 54.109375 19.578125 55.046875 \r\nQ 24.21875 56 28.609375 56 \r\nQ 40.484375 56 46.34375 49.84375 \r\nQ 52.203125 43.703125 52.203125 31.203125 \r\nz\r\n\" id=\"DejaVuSans-97\"/>\r\n       <path d=\"M 9.421875 75.984375 \r\nL 18.40625 75.984375 \r\nL 18.40625 0 \r\nL 9.421875 0 \r\nz\r\n\" id=\"DejaVuSans-108\"/>\r\n       <path d=\"M 48.78125 52.59375 \r\nL 48.78125 44.1875 \r\nQ 44.96875 46.296875 41.140625 47.34375 \r\nQ 37.3125 48.390625 33.40625 48.390625 \r\nQ 24.65625 48.390625 19.8125 42.84375 \r\nQ 14.984375 37.3125 14.984375 27.296875 \r\nQ 14.984375 17.28125 19.8125 11.734375 \r\nQ 24.65625 6.203125 33.40625 6.203125 \r\nQ 37.3125 6.203125 41.140625 7.25 \r\nQ 44.96875 8.296875 48.78125 10.40625 \r\nL 48.78125 2.09375 \r\nQ 45.015625 0.34375 40.984375 -0.53125 \r\nQ 36.96875 -1.421875 32.421875 -1.421875 \r\nQ 20.0625 -1.421875 12.78125 6.34375 \r\nQ 5.515625 14.109375 5.515625 27.296875 \r\nQ 5.515625 40.671875 12.859375 48.328125 \r\nQ 20.21875 56 33.015625 56 \r\nQ 37.15625 56 41.109375 55.140625 \r\nQ 45.0625 54.296875 48.78125 52.59375 \r\nz\r\n\" id=\"DejaVuSans-99\"/>\r\n       <path d=\"M 8.5 21.578125 \r\nL 8.5 54.6875 \r\nL 17.484375 54.6875 \r\nL 17.484375 21.921875 \r\nQ 17.484375 14.15625 20.5 10.265625 \r\nQ 23.53125 6.390625 29.59375 6.390625 \r\nQ 36.859375 6.390625 41.078125 11.03125 \r\nQ 45.3125 15.671875 45.3125 23.6875 \r\nL 45.3125 54.6875 \r\nL 54.296875 54.6875 \r\nL 54.296875 0 \r\nL 45.3125 0 \r\nL 45.3125 8.40625 \r\nQ 42.046875 3.421875 37.71875 1 \r\nQ 33.40625 -1.421875 27.6875 -1.421875 \r\nQ 18.265625 -1.421875 13.375 4.4375 \r\nQ 8.5 10.296875 8.5 21.578125 \r\nz\r\nM 31.109375 56 \r\nz\r\n\" id=\"DejaVuSans-117\"/>\r\n       <path d=\"M 44.28125 53.078125 \r\nL 44.28125 44.578125 \r\nQ 40.484375 46.53125 36.375 47.5 \r\nQ 32.28125 48.484375 27.875 48.484375 \r\nQ 21.1875 48.484375 17.84375 46.4375 \r\nQ 14.5 44.390625 14.5 40.28125 \r\nQ 14.5 37.15625 16.890625 35.375 \r\nQ 19.28125 33.59375 26.515625 31.984375 \r\nL 29.59375 31.296875 \r\nQ 39.15625 29.25 43.1875 25.515625 \r\nQ 47.21875 21.78125 47.21875 15.09375 \r\nQ 47.21875 7.46875 41.1875 3.015625 \r\nQ 35.15625 -1.421875 24.609375 -1.421875 \r\nQ 20.21875 -1.421875 15.453125 -0.5625 \r\nQ 10.6875 0.296875 5.421875 2 \r\nL 5.421875 11.28125 \r\nQ 10.40625 8.6875 15.234375 7.390625 \r\nQ 20.0625 6.109375 24.8125 6.109375 \r\nQ 31.15625 6.109375 34.5625 8.28125 \r\nQ 37.984375 10.453125 37.984375 14.40625 \r\nQ 37.984375 18.0625 35.515625 20.015625 \r\nQ 33.0625 21.96875 24.703125 23.78125 \r\nL 21.578125 24.515625 \r\nQ 13.234375 26.265625 9.515625 29.90625 \r\nQ 5.8125 33.546875 5.8125 39.890625 \r\nQ 5.8125 47.609375 11.28125 51.796875 \r\nQ 16.75 56 26.8125 56 \r\nQ 31.78125 56 36.171875 55.265625 \r\nQ 40.578125 54.546875 44.28125 53.078125 \r\nz\r\n\" id=\"DejaVuSans-115\"/>\r\n       <path d=\"M 56.203125 29.59375 \r\nL 56.203125 25.203125 \r\nL 14.890625 25.203125 \r\nQ 15.484375 15.921875 20.484375 11.0625 \r\nQ 25.484375 6.203125 34.421875 6.203125 \r\nQ 39.59375 6.203125 44.453125 7.46875 \r\nQ 49.3125 8.734375 54.109375 11.28125 \r\nL 54.109375 2.78125 \r\nQ 49.265625 0.734375 44.1875 -0.34375 \r\nQ 39.109375 -1.421875 33.890625 -1.421875 \r\nQ 20.796875 -1.421875 13.15625 6.1875 \r\nQ 5.515625 13.8125 5.515625 26.8125 \r\nQ 5.515625 40.234375 12.765625 48.109375 \r\nQ 20.015625 56 32.328125 56 \r\nQ 43.359375 56 49.78125 48.890625 \r\nQ 56.203125 41.796875 56.203125 29.59375 \r\nz\r\nM 47.21875 32.234375 \r\nQ 47.125 39.59375 43.09375 43.984375 \r\nQ 39.0625 48.390625 32.421875 48.390625 \r\nQ 24.90625 48.390625 20.390625 44.140625 \r\nQ 15.875 39.890625 15.1875 32.171875 \r\nz\r\n\" id=\"DejaVuSans-101\"/>\r\n       <path d=\"M 41.109375 46.296875 \r\nQ 39.59375 47.171875 37.8125 47.578125 \r\nQ 36.03125 48 33.890625 48 \r\nQ 26.265625 48 22.1875 43.046875 \r\nQ 18.109375 38.09375 18.109375 28.8125 \r\nL 18.109375 0 \r\nL 9.078125 0 \r\nL 9.078125 54.6875 \r\nL 18.109375 54.6875 \r\nL 18.109375 46.1875 \r\nQ 20.953125 51.171875 25.484375 53.578125 \r\nQ 30.03125 56 36.53125 56 \r\nQ 37.453125 56 38.578125 55.875 \r\nQ 39.703125 55.765625 41.0625 55.515625 \r\nz\r\n\" id=\"DejaVuSans-114\"/>\r\n      </defs>\r\n      <use xlink:href=\"#DejaVuSans-78\"/>\r\n      <use x=\"74.804688\" xlink:href=\"#DejaVuSans-32\"/>\r\n      <use x=\"106.591797\" xlink:href=\"#DejaVuSans-111\"/>\r\n      <use x=\"167.773438\" xlink:href=\"#DejaVuSans-102\"/>\r\n      <use x=\"202.978516\" xlink:href=\"#DejaVuSans-32\"/>\r\n      <use x=\"234.765625\" xlink:href=\"#DejaVuSans-116\"/>\r\n      <use x=\"273.974609\" xlink:href=\"#DejaVuSans-111\"/>\r\n      <use x=\"335.15625\" xlink:href=\"#DejaVuSans-116\"/>\r\n      <use x=\"374.365234\" xlink:href=\"#DejaVuSans-97\"/>\r\n      <use x=\"435.644531\" xlink:href=\"#DejaVuSans-108\"/>\r\n      <use x=\"463.427734\" xlink:href=\"#DejaVuSans-32\"/>\r\n      <use x=\"495.214844\" xlink:href=\"#DejaVuSans-99\"/>\r\n      <use x=\"550.195312\" xlink:href=\"#DejaVuSans-108\"/>\r\n      <use x=\"577.978516\" xlink:href=\"#DejaVuSans-117\"/>\r\n      <use x=\"641.357422\" xlink:href=\"#DejaVuSans-115\"/>\r\n      <use x=\"693.457031\" xlink:href=\"#DejaVuSans-116\"/>\r\n      <use x=\"732.666016\" xlink:href=\"#DejaVuSans-101\"/>\r\n      <use x=\"794.189453\" xlink:href=\"#DejaVuSans-114\"/>\r\n      <use x=\"835.302734\" xlink:href=\"#DejaVuSans-115\"/>\r\n     </g>\r\n    </g>\r\n   </g>\r\n   <g id=\"matplotlib.axis_2\">\r\n    <g id=\"ytick_1\">\r\n     <g id=\"line2d_10\">\r\n      <defs>\r\n       <path d=\"M 0 0 \r\nL -3.5 0 \r\n\" id=\"ma453ca03ab\" style=\"stroke:#000000;stroke-width:0.8;\"/>\r\n      </defs>\r\n      <g>\r\n       <use style=\"stroke:#000000;stroke-width:0.8;\" x=\"40.603125\" xlink:href=\"#ma453ca03ab\" y=\"281.76358\"/>\r\n      </g>\r\n     </g>\r\n     <g id=\"text_11\">\r\n      <!-- 0 -->\r\n      <g transform=\"translate(27.240625 285.562798)scale(0.1 -0.1)\">\r\n       <use xlink:href=\"#DejaVuSans-48\"/>\r\n      </g>\r\n     </g>\r\n    </g>\r\n    <g id=\"ytick_2\">\r\n     <g id=\"line2d_11\">\r\n      <g>\r\n       <use style=\"stroke:#000000;stroke-width:0.8;\" x=\"40.603125\" xlink:href=\"#ma453ca03ab\" y=\"252.694061\"/>\r\n      </g>\r\n     </g>\r\n     <g id=\"text_12\">\r\n      <!-- 2 -->\r\n      <g transform=\"translate(27.240625 256.49328)scale(0.1 -0.1)\">\r\n       <use xlink:href=\"#DejaVuSans-50\"/>\r\n      </g>\r\n     </g>\r\n    </g>\r\n    <g id=\"ytick_3\">\r\n     <g id=\"line2d_12\">\r\n      <g>\r\n       <use style=\"stroke:#000000;stroke-width:0.8;\" x=\"40.603125\" xlink:href=\"#ma453ca03ab\" y=\"223.624542\"/>\r\n      </g>\r\n     </g>\r\n     <g id=\"text_13\">\r\n      <!-- 4 -->\r\n      <g transform=\"translate(27.240625 227.423761)scale(0.1 -0.1)\">\r\n       <defs>\r\n        <path d=\"M 37.796875 64.3125 \r\nL 12.890625 25.390625 \r\nL 37.796875 25.390625 \r\nz\r\nM 35.203125 72.90625 \r\nL 47.609375 72.90625 \r\nL 47.609375 25.390625 \r\nL 58.015625 25.390625 \r\nL 58.015625 17.1875 \r\nL 47.609375 17.1875 \r\nL 47.609375 0 \r\nL 37.796875 0 \r\nL 37.796875 17.1875 \r\nL 4.890625 17.1875 \r\nL 4.890625 26.703125 \r\nz\r\n\" id=\"DejaVuSans-52\"/>\r\n       </defs>\r\n       <use xlink:href=\"#DejaVuSans-52\"/>\r\n      </g>\r\n     </g>\r\n    </g>\r\n    <g id=\"ytick_4\">\r\n     <g id=\"line2d_13\">\r\n      <g>\r\n       <use style=\"stroke:#000000;stroke-width:0.8;\" x=\"40.603125\" xlink:href=\"#ma453ca03ab\" y=\"194.555023\"/>\r\n      </g>\r\n     </g>\r\n     <g id=\"text_14\">\r\n      <!-- 6 -->\r\n      <g transform=\"translate(27.240625 198.354242)scale(0.1 -0.1)\">\r\n       <defs>\r\n        <path d=\"M 33.015625 40.375 \r\nQ 26.375 40.375 22.484375 35.828125 \r\nQ 18.609375 31.296875 18.609375 23.390625 \r\nQ 18.609375 15.53125 22.484375 10.953125 \r\nQ 26.375 6.390625 33.015625 6.390625 \r\nQ 39.65625 6.390625 43.53125 10.953125 \r\nQ 47.40625 15.53125 47.40625 23.390625 \r\nQ 47.40625 31.296875 43.53125 35.828125 \r\nQ 39.65625 40.375 33.015625 40.375 \r\nz\r\nM 52.59375 71.296875 \r\nL 52.59375 62.3125 \r\nQ 48.875 64.0625 45.09375 64.984375 \r\nQ 41.3125 65.921875 37.59375 65.921875 \r\nQ 27.828125 65.921875 22.671875 59.328125 \r\nQ 17.53125 52.734375 16.796875 39.40625 \r\nQ 19.671875 43.65625 24.015625 45.921875 \r\nQ 28.375 48.1875 33.59375 48.1875 \r\nQ 44.578125 48.1875 50.953125 41.515625 \r\nQ 57.328125 34.859375 57.328125 23.390625 \r\nQ 57.328125 12.15625 50.6875 5.359375 \r\nQ 44.046875 -1.421875 33.015625 -1.421875 \r\nQ 20.359375 -1.421875 13.671875 8.265625 \r\nQ 6.984375 17.96875 6.984375 36.375 \r\nQ 6.984375 53.65625 15.1875 63.9375 \r\nQ 23.390625 74.21875 37.203125 74.21875 \r\nQ 40.921875 74.21875 44.703125 73.484375 \r\nQ 48.484375 72.75 52.59375 71.296875 \r\nz\r\n\" id=\"DejaVuSans-54\"/>\r\n       </defs>\r\n       <use xlink:href=\"#DejaVuSans-54\"/>\r\n      </g>\r\n     </g>\r\n    </g>\r\n    <g id=\"ytick_5\">\r\n     <g id=\"line2d_14\">\r\n      <g>\r\n       <use style=\"stroke:#000000;stroke-width:0.8;\" x=\"40.603125\" xlink:href=\"#ma453ca03ab\" y=\"165.485505\"/>\r\n      </g>\r\n     </g>\r\n     <g id=\"text_15\">\r\n      <!-- 8 -->\r\n      <g transform=\"translate(27.240625 169.284723)scale(0.1 -0.1)\">\r\n       <defs>\r\n        <path d=\"M 31.78125 34.625 \r\nQ 24.75 34.625 20.71875 30.859375 \r\nQ 16.703125 27.09375 16.703125 20.515625 \r\nQ 16.703125 13.921875 20.71875 10.15625 \r\nQ 24.75 6.390625 31.78125 6.390625 \r\nQ 38.8125 6.390625 42.859375 10.171875 \r\nQ 46.921875 13.96875 46.921875 20.515625 \r\nQ 46.921875 27.09375 42.890625 30.859375 \r\nQ 38.875 34.625 31.78125 34.625 \r\nz\r\nM 21.921875 38.8125 \r\nQ 15.578125 40.375 12.03125 44.71875 \r\nQ 8.5 49.078125 8.5 55.328125 \r\nQ 8.5 64.0625 14.71875 69.140625 \r\nQ 20.953125 74.21875 31.78125 74.21875 \r\nQ 42.671875 74.21875 48.875 69.140625 \r\nQ 55.078125 64.0625 55.078125 55.328125 \r\nQ 55.078125 49.078125 51.53125 44.71875 \r\nQ 48 40.375 41.703125 38.8125 \r\nQ 48.828125 37.15625 52.796875 32.3125 \r\nQ 56.78125 27.484375 56.78125 20.515625 \r\nQ 56.78125 9.90625 50.3125 4.234375 \r\nQ 43.84375 -1.421875 31.78125 -1.421875 \r\nQ 19.734375 -1.421875 13.25 4.234375 \r\nQ 6.78125 9.90625 6.78125 20.515625 \r\nQ 6.78125 27.484375 10.78125 32.3125 \r\nQ 14.796875 37.15625 21.921875 38.8125 \r\nz\r\nM 18.3125 54.390625 \r\nQ 18.3125 48.734375 21.84375 45.5625 \r\nQ 25.390625 42.390625 31.78125 42.390625 \r\nQ 38.140625 42.390625 41.71875 45.5625 \r\nQ 45.3125 48.734375 45.3125 54.390625 \r\nQ 45.3125 60.0625 41.71875 63.234375 \r\nQ 38.140625 66.40625 31.78125 66.40625 \r\nQ 25.390625 66.40625 21.84375 63.234375 \r\nQ 18.3125 60.0625 18.3125 54.390625 \r\nz\r\n\" id=\"DejaVuSans-56\"/>\r\n       </defs>\r\n       <use xlink:href=\"#DejaVuSans-56\"/>\r\n      </g>\r\n     </g>\r\n    </g>\r\n    <g id=\"ytick_6\">\r\n     <g id=\"line2d_15\">\r\n      <g>\r\n       <use style=\"stroke:#000000;stroke-width:0.8;\" x=\"40.603125\" xlink:href=\"#ma453ca03ab\" y=\"136.415986\"/>\r\n      </g>\r\n     </g>\r\n     <g id=\"text_16\">\r\n      <!-- 10 -->\r\n      <g transform=\"translate(20.878125 140.215205)scale(0.1 -0.1)\">\r\n       <use xlink:href=\"#DejaVuSans-49\"/>\r\n       <use x=\"63.623047\" xlink:href=\"#DejaVuSans-48\"/>\r\n      </g>\r\n     </g>\r\n    </g>\r\n    <g id=\"ytick_7\">\r\n     <g id=\"line2d_16\">\r\n      <g>\r\n       <use style=\"stroke:#000000;stroke-width:0.8;\" x=\"40.603125\" xlink:href=\"#ma453ca03ab\" y=\"107.346467\"/>\r\n      </g>\r\n     </g>\r\n     <g id=\"text_17\">\r\n      <!-- 12 -->\r\n      <g transform=\"translate(20.878125 111.145686)scale(0.1 -0.1)\">\r\n       <use xlink:href=\"#DejaVuSans-49\"/>\r\n       <use x=\"63.623047\" xlink:href=\"#DejaVuSans-50\"/>\r\n      </g>\r\n     </g>\r\n    </g>\r\n    <g id=\"ytick_8\">\r\n     <g id=\"line2d_17\">\r\n      <g>\r\n       <use style=\"stroke:#000000;stroke-width:0.8;\" x=\"40.603125\" xlink:href=\"#ma453ca03ab\" y=\"78.276949\"/>\r\n      </g>\r\n     </g>\r\n     <g id=\"text_18\">\r\n      <!-- 14 -->\r\n      <g transform=\"translate(20.878125 82.076167)scale(0.1 -0.1)\">\r\n       <use xlink:href=\"#DejaVuSans-49\"/>\r\n       <use x=\"63.623047\" xlink:href=\"#DejaVuSans-52\"/>\r\n      </g>\r\n     </g>\r\n    </g>\r\n    <g id=\"ytick_9\">\r\n     <g id=\"line2d_18\">\r\n      <g>\r\n       <use style=\"stroke:#000000;stroke-width:0.8;\" x=\"40.603125\" xlink:href=\"#ma453ca03ab\" y=\"49.20743\"/>\r\n      </g>\r\n     </g>\r\n     <g id=\"text_19\">\r\n      <!-- 16 -->\r\n      <g transform=\"translate(20.878125 53.006649)scale(0.1 -0.1)\">\r\n       <use xlink:href=\"#DejaVuSans-49\"/>\r\n       <use x=\"63.623047\" xlink:href=\"#DejaVuSans-54\"/>\r\n      </g>\r\n     </g>\r\n    </g>\r\n    <g id=\"text_20\">\r\n     <!-- N of filtered clusters -->\r\n     <g transform=\"translate(14.798438 208.922813)rotate(-90)scale(0.1 -0.1)\">\r\n      <defs>\r\n       <path d=\"M 9.421875 54.6875 \r\nL 18.40625 54.6875 \r\nL 18.40625 0 \r\nL 9.421875 0 \r\nz\r\nM 9.421875 75.984375 \r\nL 18.40625 75.984375 \r\nL 18.40625 64.59375 \r\nL 9.421875 64.59375 \r\nz\r\n\" id=\"DejaVuSans-105\"/>\r\n       <path d=\"M 45.40625 46.390625 \r\nL 45.40625 75.984375 \r\nL 54.390625 75.984375 \r\nL 54.390625 0 \r\nL 45.40625 0 \r\nL 45.40625 8.203125 \r\nQ 42.578125 3.328125 38.25 0.953125 \r\nQ 33.9375 -1.421875 27.875 -1.421875 \r\nQ 17.96875 -1.421875 11.734375 6.484375 \r\nQ 5.515625 14.40625 5.515625 27.296875 \r\nQ 5.515625 40.1875 11.734375 48.09375 \r\nQ 17.96875 56 27.875 56 \r\nQ 33.9375 56 38.25 53.625 \r\nQ 42.578125 51.265625 45.40625 46.390625 \r\nz\r\nM 14.796875 27.296875 \r\nQ 14.796875 17.390625 18.875 11.75 \r\nQ 22.953125 6.109375 30.078125 6.109375 \r\nQ 37.203125 6.109375 41.296875 11.75 \r\nQ 45.40625 17.390625 45.40625 27.296875 \r\nQ 45.40625 37.203125 41.296875 42.84375 \r\nQ 37.203125 48.484375 30.078125 48.484375 \r\nQ 22.953125 48.484375 18.875 42.84375 \r\nQ 14.796875 37.203125 14.796875 27.296875 \r\nz\r\n\" id=\"DejaVuSans-100\"/>\r\n      </defs>\r\n      <use xlink:href=\"#DejaVuSans-78\"/>\r\n      <use x=\"74.804688\" xlink:href=\"#DejaVuSans-32\"/>\r\n      <use x=\"106.591797\" xlink:href=\"#DejaVuSans-111\"/>\r\n      <use x=\"167.773438\" xlink:href=\"#DejaVuSans-102\"/>\r\n      <use x=\"202.978516\" xlink:href=\"#DejaVuSans-32\"/>\r\n      <use x=\"234.765625\" xlink:href=\"#DejaVuSans-102\"/>\r\n      <use x=\"269.970703\" xlink:href=\"#DejaVuSans-105\"/>\r\n      <use x=\"297.753906\" xlink:href=\"#DejaVuSans-108\"/>\r\n      <use x=\"325.537109\" xlink:href=\"#DejaVuSans-116\"/>\r\n      <use x=\"364.746094\" xlink:href=\"#DejaVuSans-101\"/>\r\n      <use x=\"426.269531\" xlink:href=\"#DejaVuSans-114\"/>\r\n      <use x=\"465.132812\" xlink:href=\"#DejaVuSans-101\"/>\r\n      <use x=\"526.65625\" xlink:href=\"#DejaVuSans-100\"/>\r\n      <use x=\"590.132812\" xlink:href=\"#DejaVuSans-32\"/>\r\n      <use x=\"621.919922\" xlink:href=\"#DejaVuSans-99\"/>\r\n      <use x=\"676.900391\" xlink:href=\"#DejaVuSans-108\"/>\r\n      <use x=\"704.683594\" xlink:href=\"#DejaVuSans-117\"/>\r\n      <use x=\"768.0625\" xlink:href=\"#DejaVuSans-115\"/>\r\n      <use x=\"820.162109\" xlink:href=\"#DejaVuSans-116\"/>\r\n      <use x=\"859.371094\" xlink:href=\"#DejaVuSans-101\"/>\r\n      <use x=\"920.894531\" xlink:href=\"#DejaVuSans-114\"/>\r\n      <use x=\"962.007812\" xlink:href=\"#DejaVuSans-115\"/>\r\n     </g>\r\n    </g>\r\n   </g>\r\n   <g id=\"line2d_19\">\r\n    <path clip-path=\"url(#paa6f471d2e)\" d=\"M 91.330398 281.76358 \r\nL 265.545274 281.76358 \r\nL 270.669241 267.22882 \r\nL 275.793208 281.76358 \r\nL 321.90891 281.76358 \r\nL 327.032877 267.22882 \r\nL 332.156844 281.76358 \r\nL 337.280811 281.76358 \r\nL 342.404778 252.694061 \r\nL 347.528745 267.22882 \r\nL 352.652712 267.22882 \r\nL 362.900646 238.159301 \r\nL 368.024613 252.694061 \r\nL 378.272546 252.694061 \r\nL 383.396513 238.159301 \r\nL 393.644447 238.159301 \r\nL 398.768414 209.089783 \r\nL 414.140315 209.089783 \r\nL 419.264282 194.555023 \r\nL 424.388249 194.555023 \r\nL 429.512216 150.950745 \r\nL 439.76015 180.020264 \r\nL 444.884117 165.485505 \r\nL 450.008084 136.415986 \r\nL 475.627918 136.415986 \r\nL 480.751885 121.881227 \r\nL 485.875852 136.415986 \r\nL 501.247753 136.415986 \r\nL 506.37172 121.881227 \r\nL 516.619654 121.881227 \r\nL 521.743621 107.346467 \r\nL 531.991555 107.346467 \r\nL 537.115522 63.742189 \r\nL 542.239489 92.811708 \r\nL 547.363456 63.742189 \r\nL 552.487423 136.415986 \r\nL 557.611389 34.67267 \r\nL 562.735356 121.881227 \r\nL 567.859323 107.346467 \r\nL 572.98329 107.346467 \r\nL 578.107257 78.276949 \r\nL 588.355191 78.276949 \r\nL 593.479158 63.742189 \r\nL 603.727092 63.742189 \r\nL 608.851059 34.67267 \r\nL 644.718827 34.67267 \r\nL 649.842794 49.20743 \r\nL 654.966761 34.67267 \r\nL 660.090728 49.20743 \r\nL 665.214695 34.67267 \r\nL 670.338662 78.276949 \r\nL 685.710563 78.276949 \r\nL 690.83453 136.415986 \r\nL 726.702299 136.415986 \r\nL 731.826265 92.811708 \r\nL 736.950232 136.415986 \r\nL 742.074199 150.950745 \r\nL 747.198166 150.950745 \r\nL 752.322133 165.485505 \r\nL 762.570067 165.485505 \r\nL 767.694034 150.950745 \r\nL 772.818001 180.020264 \r\nL 777.941968 180.020264 \r\nL 783.065935 107.346467 \r\nL 788.189902 107.346467 \r\nL 793.313869 121.881227 \r\nL 818.933704 121.881227 \r\nL 824.05767 107.346467 \r\nL 829.181637 136.415986 \r\nL 839.429571 165.485505 \r\nL 844.553538 165.485505 \r\nL 849.677505 136.415986 \r\nL 854.801472 136.415986 \r\nL 859.925439 121.881227 \r\nL 890.669241 121.881227 \r\nL 895.793208 136.415986 \r\nL 900.917175 136.415986 \r\nL 906.041142 121.881227 \r\nL 921.413042 121.881227 \r\nL 926.537009 136.415986 \r\nL 947.032877 136.415986 \r\nL 952.156844 150.950745 \r\nL 957.280811 150.950745 \r\nL 962.404778 209.089783 \r\nL 988.024613 209.089783 \r\nL 993.14858 223.624542 \r\nL 1023.892381 223.624542 \r\nL 1029.016348 165.485505 \r\nL 1054.636183 165.485505 \r\nL 1059.76015 223.624542 \r\nL 1080.256018 223.624542 \r\nL 1085.379985 238.159301 \r\nL 1105.875852 238.159301 \r\nL 1105.875852 238.159301 \r\n\" style=\"fill:none;stroke:#1f77b4;stroke-linecap:square;stroke-width:1.5;\"/>\r\n   </g>\r\n   <g id=\"patch_3\">\r\n    <path d=\"M 40.603125 294.118125 \r\nL 40.603125 22.318125 \r\n\" style=\"fill:none;stroke:#000000;stroke-linecap:square;stroke-linejoin:miter;stroke-width:0.8;\"/>\r\n   </g>\r\n   <g id=\"patch_4\">\r\n    <path d=\"M 1156.603125 294.118125 \r\nL 1156.603125 22.318125 \r\n\" style=\"fill:none;stroke:#000000;stroke-linecap:square;stroke-linejoin:miter;stroke-width:0.8;\"/>\r\n   </g>\r\n   <g id=\"patch_5\">\r\n    <path d=\"M 40.603125 294.118125 \r\nL 1156.603125 294.118125 \r\n\" style=\"fill:none;stroke:#000000;stroke-linecap:square;stroke-linejoin:miter;stroke-width:0.8;\"/>\r\n   </g>\r\n   <g id=\"patch_6\">\r\n    <path d=\"M 40.603125 22.318125 \r\nL 1156.603125 22.318125 \r\n\" style=\"fill:none;stroke:#000000;stroke-linecap:square;stroke-linejoin:miter;stroke-width:0.8;\"/>\r\n   </g>\r\n   <g id=\"text_21\">\r\n    <!-- K-means ideal cluster size -->\r\n    <g transform=\"translate(520.722188 16.318125)scale(0.12 -0.12)\">\r\n     <defs>\r\n      <path d=\"M 9.8125 72.90625 \r\nL 19.671875 72.90625 \r\nL 19.671875 42.09375 \r\nL 52.390625 72.90625 \r\nL 65.09375 72.90625 \r\nL 28.90625 38.921875 \r\nL 67.671875 0 \r\nL 54.6875 0 \r\nL 19.671875 35.109375 \r\nL 19.671875 0 \r\nL 9.8125 0 \r\nz\r\n\" id=\"DejaVuSans-75\"/>\r\n      <path d=\"M 4.890625 31.390625 \r\nL 31.203125 31.390625 \r\nL 31.203125 23.390625 \r\nL 4.890625 23.390625 \r\nz\r\n\" id=\"DejaVuSans-45\"/>\r\n      <path d=\"M 52 44.1875 \r\nQ 55.375 50.25 60.0625 53.125 \r\nQ 64.75 56 71.09375 56 \r\nQ 79.640625 56 84.28125 50.015625 \r\nQ 88.921875 44.046875 88.921875 33.015625 \r\nL 88.921875 0 \r\nL 79.890625 0 \r\nL 79.890625 32.71875 \r\nQ 79.890625 40.578125 77.09375 44.375 \r\nQ 74.3125 48.1875 68.609375 48.1875 \r\nQ 61.625 48.1875 57.5625 43.546875 \r\nQ 53.515625 38.921875 53.515625 30.90625 \r\nL 53.515625 0 \r\nL 44.484375 0 \r\nL 44.484375 32.71875 \r\nQ 44.484375 40.625 41.703125 44.40625 \r\nQ 38.921875 48.1875 33.109375 48.1875 \r\nQ 26.21875 48.1875 22.15625 43.53125 \r\nQ 18.109375 38.875 18.109375 30.90625 \r\nL 18.109375 0 \r\nL 9.078125 0 \r\nL 9.078125 54.6875 \r\nL 18.109375 54.6875 \r\nL 18.109375 46.1875 \r\nQ 21.1875 51.21875 25.484375 53.609375 \r\nQ 29.78125 56 35.6875 56 \r\nQ 41.65625 56 45.828125 52.96875 \r\nQ 50 49.953125 52 44.1875 \r\nz\r\n\" id=\"DejaVuSans-109\"/>\r\n      <path d=\"M 54.890625 33.015625 \r\nL 54.890625 0 \r\nL 45.90625 0 \r\nL 45.90625 32.71875 \r\nQ 45.90625 40.484375 42.875 44.328125 \r\nQ 39.84375 48.1875 33.796875 48.1875 \r\nQ 26.515625 48.1875 22.3125 43.546875 \r\nQ 18.109375 38.921875 18.109375 30.90625 \r\nL 18.109375 0 \r\nL 9.078125 0 \r\nL 9.078125 54.6875 \r\nL 18.109375 54.6875 \r\nL 18.109375 46.1875 \r\nQ 21.34375 51.125 25.703125 53.5625 \r\nQ 30.078125 56 35.796875 56 \r\nQ 45.21875 56 50.046875 50.171875 \r\nQ 54.890625 44.34375 54.890625 33.015625 \r\nz\r\n\" id=\"DejaVuSans-110\"/>\r\n      <path d=\"M 5.515625 54.6875 \r\nL 48.1875 54.6875 \r\nL 48.1875 46.484375 \r\nL 14.40625 7.171875 \r\nL 48.1875 7.171875 \r\nL 48.1875 0 \r\nL 4.296875 0 \r\nL 4.296875 8.203125 \r\nL 38.09375 47.515625 \r\nL 5.515625 47.515625 \r\nz\r\n\" id=\"DejaVuSans-122\"/>\r\n     </defs>\r\n     <use xlink:href=\"#DejaVuSans-75\"/>\r\n     <use x=\"55.076172\" xlink:href=\"#DejaVuSans-45\"/>\r\n     <use x=\"91.160156\" xlink:href=\"#DejaVuSans-109\"/>\r\n     <use x=\"188.572266\" xlink:href=\"#DejaVuSans-101\"/>\r\n     <use x=\"250.095703\" xlink:href=\"#DejaVuSans-97\"/>\r\n     <use x=\"311.375\" xlink:href=\"#DejaVuSans-110\"/>\r\n     <use x=\"374.753906\" xlink:href=\"#DejaVuSans-115\"/>\r\n     <use x=\"426.853516\" xlink:href=\"#DejaVuSans-32\"/>\r\n     <use x=\"458.640625\" xlink:href=\"#DejaVuSans-105\"/>\r\n     <use x=\"486.423828\" xlink:href=\"#DejaVuSans-100\"/>\r\n     <use x=\"549.900391\" xlink:href=\"#DejaVuSans-101\"/>\r\n     <use x=\"611.423828\" xlink:href=\"#DejaVuSans-97\"/>\r\n     <use x=\"672.703125\" xlink:href=\"#DejaVuSans-108\"/>\r\n     <use x=\"700.486328\" xlink:href=\"#DejaVuSans-32\"/>\r\n     <use x=\"732.273438\" xlink:href=\"#DejaVuSans-99\"/>\r\n     <use x=\"787.253906\" xlink:href=\"#DejaVuSans-108\"/>\r\n     <use x=\"815.037109\" xlink:href=\"#DejaVuSans-117\"/>\r\n     <use x=\"878.416016\" xlink:href=\"#DejaVuSans-115\"/>\r\n     <use x=\"930.515625\" xlink:href=\"#DejaVuSans-116\"/>\r\n     <use x=\"969.724609\" xlink:href=\"#DejaVuSans-101\"/>\r\n     <use x=\"1031.248047\" xlink:href=\"#DejaVuSans-114\"/>\r\n     <use x=\"1072.361328\" xlink:href=\"#DejaVuSans-32\"/>\r\n     <use x=\"1104.148438\" xlink:href=\"#DejaVuSans-115\"/>\r\n     <use x=\"1156.248047\" xlink:href=\"#DejaVuSans-105\"/>\r\n     <use x=\"1184.03125\" xlink:href=\"#DejaVuSans-122\"/>\r\n     <use x=\"1236.521484\" xlink:href=\"#DejaVuSans-101\"/>\r\n    </g>\r\n   </g>\r\n  </g>\r\n </g>\r\n <defs>\r\n  <clipPath id=\"paa6f471d2e\">\r\n   <rect height=\"271.8\" width=\"1116\" x=\"40.603125\" y=\"22.318125\"/>\r\n  </clipPath>\r\n </defs>\r\n</svg>\r\n",
      "image/png": "[encoded data removed]"
     },
     "metadata": {
      "needs_background": "light"
     }
    }
   ],
   "source": [
    "# show plot of cluster size\n",
    "fig, ax = plt.subplots(1, figsize=(20,5))\n",
    "ax.set_yticks(np.arange(0, result['N filtered cluster'].max() + 1, 2))\n",
    "ax.plot(result)\n",
    "ax.set_xlabel('N of total clusters')\n",
    "ax.set_ylabel('N of filtered clusters')\n",
    "ax.set_title('K-means ideal cluster size')"
   ]
  },
  {
   "cell_type": "code",
   "execution_count": 52,
   "metadata": {},
   "outputs": [
    {
     "output_type": "execute_result",
     "data": {
      "text/plain": [
       "     N filtered cluster\n",
       "92                   17\n",
       "102                  17\n",
       "103                  17\n",
       "104                  17\n",
       "105                  17\n",
       "106                  17\n",
       "107                  17\n",
       "108                  17\n",
       "109                  17\n",
       "111                  17\n",
       "113                  17"
      ],
      "text/html": "<div>\n<style scoped>\n    .dataframe tbody tr th:only-of-type {\n        vertical-align: middle;\n    }\n\n    .dataframe tbody tr th {\n        vertical-align: top;\n    }\n\n    .dataframe thead th {\n        text-align: right;\n    }\n</style>\n<table border=\"1\" class=\"dataframe\">\n  <thead>\n    <tr style=\"text-align: right;\">\n      <th></th>\n      <th>N filtered cluster</th>\n    </tr>\n  </thead>\n  <tbody>\n    <tr>\n      <th>92</th>\n      <td>17</td>\n    </tr>\n    <tr>\n      <th>102</th>\n      <td>17</td>\n    </tr>\n    <tr>\n      <th>103</th>\n      <td>17</td>\n    </tr>\n    <tr>\n      <th>104</th>\n      <td>17</td>\n    </tr>\n    <tr>\n      <th>105</th>\n      <td>17</td>\n    </tr>\n    <tr>\n      <th>106</th>\n      <td>17</td>\n    </tr>\n    <tr>\n      <th>107</th>\n      <td>17</td>\n    </tr>\n    <tr>\n      <th>108</th>\n      <td>17</td>\n    </tr>\n    <tr>\n      <th>109</th>\n      <td>17</td>\n    </tr>\n    <tr>\n      <th>111</th>\n      <td>17</td>\n    </tr>\n    <tr>\n      <th>113</th>\n      <td>17</td>\n    </tr>\n  </tbody>\n</table>\n</div>"
     },
     "metadata": {},
     "execution_count": 52
    }
   ],
   "source": [
    "# show max corresponding clusters out of total clusters\n",
    "result[result['N filtered cluster'] == result['N filtered cluster'].max()]"
   ]
  },
  {
   "cell_type": "code",
   "execution_count": 53,
   "metadata": {},
   "outputs": [
    {
     "output_type": "execute_result",
     "data": {
      "text/plain": [
       "   MSOA Code   MSOA Name Total Chinese Population   Latitude  Longitude  \\\n",
       "0  E02000166  Camden 001  7924                 83  51.562958  -0.147053   \n",
       "1  E02000167  Camden 002  7944                137  51.557260  -0.173302   \n",
       "2  E02000168  Camden 003  8172                 72  51.555674  -0.141545   \n",
       "3  E02000169  Camden 004  7637                177  51.556033  -0.186380   \n",
       "4  E02000170  Camden 005  8338                155  51.553458  -0.199960   \n",
       "\n",
       "   Area Sq Km  Population Cluster  \n",
       "0      3.0239                  72  \n",
       "1      2.0813                  72  \n",
       "2      0.6806                  12  \n",
       "3      1.1226                  72  \n",
       "4      0.7713                  86  "
      ],
      "text/html": "<div>\n<style scoped>\n    .dataframe tbody tr th:only-of-type {\n        vertical-align: middle;\n    }\n\n    .dataframe tbody tr th {\n        vertical-align: top;\n    }\n\n    .dataframe thead th {\n        text-align: right;\n    }\n</style>\n<table border=\"1\" class=\"dataframe\">\n  <thead>\n    <tr style=\"text-align: right;\">\n      <th></th>\n      <th>MSOA Code</th>\n      <th>MSOA Name</th>\n      <th>Total</th>\n      <th>Chinese Population</th>\n      <th>Latitude</th>\n      <th>Longitude</th>\n      <th>Area Sq Km</th>\n      <th>Population Cluster</th>\n    </tr>\n  </thead>\n  <tbody>\n    <tr>\n      <th>0</th>\n      <td>E02000166</td>\n      <td>Camden 001</td>\n      <td>7924</td>\n      <td>83</td>\n      <td>51.562958</td>\n      <td>-0.147053</td>\n      <td>3.0239</td>\n      <td>72</td>\n    </tr>\n    <tr>\n      <th>1</th>\n      <td>E02000167</td>\n      <td>Camden 002</td>\n      <td>7944</td>\n      <td>137</td>\n      <td>51.557260</td>\n      <td>-0.173302</td>\n      <td>2.0813</td>\n      <td>72</td>\n    </tr>\n    <tr>\n      <th>2</th>\n      <td>E02000168</td>\n      <td>Camden 003</td>\n      <td>8172</td>\n      <td>72</td>\n      <td>51.555674</td>\n      <td>-0.141545</td>\n      <td>0.6806</td>\n      <td>12</td>\n    </tr>\n    <tr>\n      <th>3</th>\n      <td>E02000169</td>\n      <td>Camden 004</td>\n      <td>7637</td>\n      <td>177</td>\n      <td>51.556033</td>\n      <td>-0.186380</td>\n      <td>1.1226</td>\n      <td>72</td>\n    </tr>\n    <tr>\n      <th>4</th>\n      <td>E02000170</td>\n      <td>Camden 005</td>\n      <td>8338</td>\n      <td>155</td>\n      <td>51.553458</td>\n      <td>-0.199960</td>\n      <td>0.7713</td>\n      <td>86</td>\n    </tr>\n  </tbody>\n</table>\n</div>"
     },
     "metadata": {},
     "execution_count": 53
    }
   ],
   "source": [
    "# Let's go with 92 for this model\n",
    "kmeans = KMeans(n_clusters=92, random_state=10).fit(X, sample_weight=pop_weight)\n",
    "\n",
    "# adding our labels back to our dataframe\n",
    "final_pop_df[\"Population Cluster\"] = kmeans.labels_\n",
    "final_pop_df.head()"
   ]
  },
  {
   "cell_type": "code",
   "execution_count": 54,
   "metadata": {},
   "outputs": [],
   "source": [
    "# sum of Chinese population and area sq km\n",
    "cluster_denisty = final_pop_df.groupby(['Population Cluster']).agg({'Chinese Population': 'sum', 'Area Sq Km': 'sum'})\n",
    "\n",
    "# labels for filtering for the above given desired parameters\n",
    "map_labels = cluster_denisty[(cluster_denisty['Area Sq Km'] < 12.57) & (cluster_denisty['Chinese Population'] >= 2000)]\n",
    "\n",
    "# filterting dataset\n",
    "filtered_df = final_pop_df[final_pop_df['Population Cluster'].isin(map_labels.index.tolist())]"
   ]
  },
  {
   "source": [
    "### Showing our filtered clusters on a map\n",
    "Now that we have our Chinese population clusters, it would be ideal to see them on a map. To this end we need to calculate the total population of a cluster and to merge the MSOAs polygons into a multipolygon - geopandas will be a great asset for this."
   ],
   "cell_type": "markdown",
   "metadata": {}
  },
  {
   "cell_type": "code",
   "execution_count": 55,
   "metadata": {},
   "outputs": [],
   "source": [
    "# calculating the sum Chinese population for a cluster\n",
    "filtered_sum_df = filtered_df.groupby('Population Cluster')[['Chinese Population']].sum().reset_index()\n",
    "\n",
    "# adding cluster number to geojson file\n",
    "lon_geojson_cluster = pd.merge(filtered_df[['MSOA Code', 'Population Cluster']], lon_geojson, left_on='MSOA Code', right_on='msoa11cd') \\\n",
    "                        .drop(columns=['MSOA Code']) \\\n",
    "                        .rename(columns={'Population Cluster': 'cluster'})\n",
    "\n",
    "lon_geojson_dissolved = geopandas.GeoDataFrame(lon_geojson_cluster, geometry='geometry').dissolve(by='cluster', as_index=False)\n"
   ]
  },
  {
   "cell_type": "code",
   "execution_count": null,
   "metadata": {},
   "outputs": [],
   "source": [
    "# creating map\n",
    "m = folium.Map(location=[location.latitude, location.longitude],\n",
    "              tiles='cartodbpositron',\n",
    "              zoom_start=11)\n",
    "\n",
    "# show MSOAs\n",
    "folium.GeoJson(\n",
    "    lon_geojson.to_json(),\n",
    "    name='MOAs',\n",
    "    style_function = lambda x: \n",
    "        {'color': '#000000',\n",
    "         'weight': 0.3,\n",
    "         'opacity': 0.5,\n",
    "         'fillColor': 'lightgrey',\n",
    "         'fillOpacity': 0.2}\n",
    ").add_to(m)\n",
    "\n",
    "# choropleth map for population density in MSOAs\n",
    "folium.Choropleth(\n",
    "    geo_data=lon_geojson_dissolved.to_json(),\n",
    "    name='Choropleth',\n",
    "    data=filtered_sum_df,\n",
    "    columns=['Population Cluster', 'Chinese Population'],\n",
    "    key_on='feature.properties.cluster',\n",
    "    fill_color='YlGn',\n",
    "    fill_opacity=0.8,\n",
    "    line_opacity=0.2,\n",
    "    legend_name='Population'\n",
    ").add_to(m)\n",
    "    \n",
    "folium.LayerControl().add_to(m)\n",
    "m"
   ]
  },
  {
   "source": [
    "<img src=\"maps/Clustered_MSOAs.png\">"
   ],
   "cell_type": "markdown",
   "metadata": {}
  },
  {
   "source": [
    "### Venue data\n",
    "Our map neatly shows the regions of London that have the desired attributes and also we can see which of these regions have higher Chinese population. The next step is to use the centroids of these regions to get the most popular venues around those centroids - just to note that when using fourthsquare, we are giving a radius thus the search area won't totally overlap the region clusters."
   ],
   "cell_type": "markdown",
   "metadata": {}
  },
  {
   "cell_type": "code",
   "execution_count": 56,
   "metadata": {},
   "outputs": [
    {
     "output_type": "execute_result",
     "data": {
      "text/plain": [
       "   Population Cluster   Latitude  Longitude  Chinese Population\n",
       "0                10.0  51.531015  -0.070671              2272.0\n",
       "1                12.0  51.557027  -0.118661              2858.0\n",
       "2                17.0  51.595919  -0.248091              2502.0\n",
       "3                25.0  51.519614  -0.174481              2401.0\n",
       "4                27.0  51.496689  -0.019123              4815.0"
      ],
      "text/html": "<div>\n<style scoped>\n    .dataframe tbody tr th:only-of-type {\n        vertical-align: middle;\n    }\n\n    .dataframe tbody tr th {\n        vertical-align: top;\n    }\n\n    .dataframe thead th {\n        text-align: right;\n    }\n</style>\n<table border=\"1\" class=\"dataframe\">\n  <thead>\n    <tr style=\"text-align: right;\">\n      <th></th>\n      <th>Population Cluster</th>\n      <th>Latitude</th>\n      <th>Longitude</th>\n      <th>Chinese Population</th>\n    </tr>\n  </thead>\n  <tbody>\n    <tr>\n      <th>0</th>\n      <td>10.0</td>\n      <td>51.531015</td>\n      <td>-0.070671</td>\n      <td>2272.0</td>\n    </tr>\n    <tr>\n      <th>1</th>\n      <td>12.0</td>\n      <td>51.557027</td>\n      <td>-0.118661</td>\n      <td>2858.0</td>\n    </tr>\n    <tr>\n      <th>2</th>\n      <td>17.0</td>\n      <td>51.595919</td>\n      <td>-0.248091</td>\n      <td>2502.0</td>\n    </tr>\n    <tr>\n      <th>3</th>\n      <td>25.0</td>\n      <td>51.519614</td>\n      <td>-0.174481</td>\n      <td>2401.0</td>\n    </tr>\n    <tr>\n      <th>4</th>\n      <td>27.0</td>\n      <td>51.496689</td>\n      <td>-0.019123</td>\n      <td>4815.0</td>\n    </tr>\n  </tbody>\n</table>\n</div>"
     },
     "metadata": {},
     "execution_count": 56
    }
   ],
   "source": [
    "# first, let's create a new dataframe with the cluster labels and the coordinates of the centroids\n",
    "\n",
    "# getting centroids\n",
    "centroids = kmeans.cluster_centers_\n",
    "\n",
    "# creating new dataframe\n",
    "clusters_df = filtered_sum_df.apply(lambda x: pd.Series({'Population Cluster': x['Population Cluster'], 'Latitude': centroids[x['Population Cluster']][0], 'Longitude': centroids[x['Population Cluster']][1], 'Chinese Population': x['Chinese Population']}), axis=1)\n",
    "clusters_df.head()"
   ]
  },
  {
   "cell_type": "code",
   "execution_count": 57,
   "metadata": {},
   "outputs": [],
   "source": [
    "# now we need to create a function to get the most popular venues around the centroids\n",
    "\n",
    "# first, this function return the api call url\n",
    "def return_url(client_id, cliend_secret, version, lat, lng, cat_id, offset=0):\n",
    "    return 'https://api.foursquare.com/v2/venues/explore?&client_id={}&client_secret={}&v={}&ll={},{}&categoryId={}&radius={}&limit={}&offset={}'.format(\n",
    "        client_id, cliend_secret, version, lat, lng, cat_id, 2000, 50, offset)\n",
    "\n",
    "# then, the second function returns the venues per cluster\n",
    "def get_venues(cluster, client_id, cliend_secret, version, lat, lng, cat_id):\n",
    "\n",
    "        # checks the total number for the cluster to loop through afterwards\n",
    "        total_results = requests.get(return_url(client_id, cliend_secret, version, lat, lng, cat_id)).json()['response']['totalResults']\n",
    "\n",
    "        # the venues will be captured in an array, the first number being the cluster number and then the venue type\n",
    "        cluster_venues = []\n",
    "\n",
    "        for cycle in range(0, total_results, 50):\n",
    "                offset = cycle\n",
    "\n",
    "                venues = requests.get(return_url(client_id, cliend_secret, version, lat, lng, cat_id, offset)).json()['response']['groups'][0]['items']\n",
    "                for venue in venues:\n",
    "                        cluster_venues.append([cluster, venue['venue']['categories'][0]['name']])\n",
    "\n",
    "        return cluster_venues\n"
   ]
  },
  {
   "cell_type": "code",
   "execution_count": 59,
   "metadata": {},
   "outputs": [],
   "source": [
    "# category id for resturants\n",
    "cat_id = '4d4b7105d754a06374d81259'\n",
    "\n",
    "# running the function for each cluster\n",
    "total_venues = []\n",
    "for cluster in clusters_df[['Population Cluster', 'Latitude', 'Longitude']].to_numpy():\n",
    "    venues = get_venues(cluster[0], client_id, cliend_secret, version, cluster[1], cluster[2], cat_id)\n",
    "    total_venues.extend(venues)\n"
   ]
  },
  {
   "cell_type": "code",
   "execution_count": 60,
   "metadata": {
    "tags": []
   },
   "outputs": [
    {
     "output_type": "execute_result",
     "data": {
      "text/plain": [
       "1                   Afghan Restaurant  African Restaurant  \\\n",
       "Population Cluster                                          \n",
       "10.0                                0                   0   \n",
       "12.0                                0                   0   \n",
       "17.0                                0                   0   \n",
       "25.0                                0                   1   \n",
       "27.0                                0                   0   \n",
       "29.0                                0                   0   \n",
       "31.0                                0                   1   \n",
       "54.0                                1                   0   \n",
       "58.0                                0                   1   \n",
       "59.0                                0                   0   \n",
       "61.0                                0                   0   \n",
       "69.0                                0                   2   \n",
       "71.0                                0                   1   \n",
       "72.0                                0                   0   \n",
       "86.0                                0                   1   \n",
       "87.0                                0                   0   \n",
       "90.0                                0                   2   \n",
       "\n",
       "1                   American Restaurant  Arepa Restaurant  \\\n",
       "Population Cluster                                          \n",
       "10.0                                  0                 2   \n",
       "12.0                                  0                 0   \n",
       "17.0                                  0                 0   \n",
       "25.0                                  2                 0   \n",
       "27.0                                  4                 0   \n",
       "29.0                                  1                 0   \n",
       "31.0                                  2                 0   \n",
       "54.0                                  0                 1   \n",
       "58.0                                  2                 0   \n",
       "59.0                                  1                 0   \n",
       "61.0                                  2                 0   \n",
       "69.0                                  1                 0   \n",
       "71.0                                  0                 0   \n",
       "72.0                                  2                 0   \n",
       "86.0                                  0                 0   \n",
       "87.0                                  0                 0   \n",
       "90.0                                  0                 0   \n",
       "\n",
       "1                   Argentinian Restaurant  Asian Restaurant  \\\n",
       "Population Cluster                                             \n",
       "10.0                                     1                 1   \n",
       "12.0                                     0                 1   \n",
       "17.0                                     0                 2   \n",
       "25.0                                     3                 3   \n",
       "27.0                                     3                 3   \n",
       "29.0                                     1                 3   \n",
       "31.0                                     3                 7   \n",
       "54.0                                     1                 4   \n",
       "58.0                                     1                 3   \n",
       "59.0                                     0                 3   \n",
       "61.0                                     4                 2   \n",
       "69.0                                     1                 0   \n",
       "71.0                                     1                 1   \n",
       "72.0                                     1                 3   \n",
       "86.0                                     0                 2   \n",
       "87.0                                     1                 2   \n",
       "90.0                                     0                 0   \n",
       "\n",
       "1                   Australian Restaurant  Austrian Restaurant  BBQ Joint  \\\n",
       "Population Cluster                                                          \n",
       "10.0                                    0                    0          2   \n",
       "12.0                                    0                    0          0   \n",
       "17.0                                    0                    0          0   \n",
       "25.0                                    1                    1          0   \n",
       "27.0                                    1                    0          0   \n",
       "29.0                                    0                    0          2   \n",
       "31.0                                    1                    0          1   \n",
       "54.0                                    0                    1          1   \n",
       "58.0                                    1                    0          0   \n",
       "59.0                                    0                    0          1   \n",
       "61.0                                    0                    1          0   \n",
       "69.0                                    1                    0          0   \n",
       "71.0                                    0                    0          1   \n",
       "72.0                                    0                    0          1   \n",
       "86.0                                    0                    0          0   \n",
       "87.0                                    0                    0          0   \n",
       "90.0                                    0                    0          0   \n",
       "\n",
       "1                   Bagel Shop  ...  Taiwanese Restaurant  Tapas Restaurant  \\\n",
       "Population Cluster              ...                                           \n",
       "10.0                         3  ...                     1                 1   \n",
       "12.0                         0  ...                     0                 4   \n",
       "17.0                         1  ...                     0                 0   \n",
       "25.0                         1  ...                     0                 0   \n",
       "27.0                         0  ...                     0                 1   \n",
       "29.0                         1  ...                     0                 3   \n",
       "31.0                         1  ...                     0                 4   \n",
       "54.0                         1  ...                     0                 3   \n",
       "58.0                         0  ...                     0                 3   \n",
       "59.0                         1  ...                     0                 4   \n",
       "61.0                         0  ...                     1                 5   \n",
       "69.0                         0  ...                     0                 0   \n",
       "71.0                         0  ...                     0                 3   \n",
       "72.0                         3  ...                     0                 2   \n",
       "86.0                         1  ...                     0                 0   \n",
       "87.0                         0  ...                     0                 0   \n",
       "90.0                         0  ...                     0                 1   \n",
       "\n",
       "1                   Thai Restaurant  Theme Restaurant  Turkish Restaurant  \\\n",
       "Population Cluster                                                          \n",
       "10.0                              3                 0                   4   \n",
       "12.0                              5                 0                   3   \n",
       "17.0                              1                 0                   1   \n",
       "25.0                              3                 0                   4   \n",
       "27.0                              3                 0                   3   \n",
       "29.0                              5                 0                   1   \n",
       "31.0                              4                 0                   4   \n",
       "54.0                              5                 0                   4   \n",
       "58.0                              3                 0                   4   \n",
       "59.0                              9                 0                   3   \n",
       "61.0                              3                 0                   3   \n",
       "69.0                              2                 0                   3   \n",
       "71.0                              2                 0                   3   \n",
       "72.0                              7                 0                   2   \n",
       "86.0                              6                 1                   2   \n",
       "87.0                              1                 0                   3   \n",
       "90.0                              2                 0                   4   \n",
       "\n",
       "1                   Udon Restaurant  Vegetarian / Vegan Restaurant  \\\n",
       "Population Cluster                                                   \n",
       "10.0                              1                              3   \n",
       "12.0                              0                              4   \n",
       "17.0                              0                              0   \n",
       "25.0                              0                              2   \n",
       "27.0                              0                              0   \n",
       "29.0                              0                              0   \n",
       "31.0                              0                              1   \n",
       "54.0                              1                              2   \n",
       "58.0                              0                              2   \n",
       "59.0                              0                              2   \n",
       "61.0                              1                              3   \n",
       "69.0                              0                              2   \n",
       "71.0                              0                              1   \n",
       "72.0                              0                              3   \n",
       "86.0                              0                              2   \n",
       "87.0                              0                              0   \n",
       "90.0                              0                              1   \n",
       "\n",
       "1                   Vietnamese Restaurant  Wings Joint  Xinjiang Restaurant  \n",
       "Population Cluster                                                           \n",
       "10.0                                    7            1                    0  \n",
       "12.0                                    4            0                    0  \n",
       "17.0                                    1            1                    0  \n",
       "25.0                                    0            0                    0  \n",
       "27.0                                    7            0                    0  \n",
       "29.0                                    2            0                    0  \n",
       "31.0                                    2            0                    0  \n",
       "54.0                                   12            0                    0  \n",
       "58.0                                    5            1                    0  \n",
       "59.0                                    1            1                    0  \n",
       "61.0                                    2            0                    0  \n",
       "69.0                                    6            0                    0  \n",
       "71.0                                    1            0                    0  \n",
       "72.0                                    3            0                    0  \n",
       "86.0                                    2            1                    0  \n",
       "87.0                                    1            0                    0  \n",
       "90.0                                    3            1                    1  \n",
       "\n",
       "[17 rows x 107 columns]"
      ],
      "text/html": "<div>\n<style scoped>\n    .dataframe tbody tr th:only-of-type {\n        vertical-align: middle;\n    }\n\n    .dataframe tbody tr th {\n        vertical-align: top;\n    }\n\n    .dataframe thead th {\n        text-align: right;\n    }\n</style>\n<table border=\"1\" class=\"dataframe\">\n  <thead>\n    <tr style=\"text-align: right;\">\n      <th>1</th>\n      <th>Afghan Restaurant</th>\n      <th>African Restaurant</th>\n      <th>American Restaurant</th>\n      <th>Arepa Restaurant</th>\n      <th>Argentinian Restaurant</th>\n      <th>Asian Restaurant</th>\n      <th>Australian Restaurant</th>\n      <th>Austrian Restaurant</th>\n      <th>BBQ Joint</th>\n      <th>Bagel Shop</th>\n      <th>...</th>\n      <th>Taiwanese Restaurant</th>\n      <th>Tapas Restaurant</th>\n      <th>Thai Restaurant</th>\n      <th>Theme Restaurant</th>\n      <th>Turkish Restaurant</th>\n      <th>Udon Restaurant</th>\n      <th>Vegetarian / Vegan Restaurant</th>\n      <th>Vietnamese Restaurant</th>\n      <th>Wings Joint</th>\n      <th>Xinjiang Restaurant</th>\n    </tr>\n    <tr>\n      <th>Population Cluster</th>\n      <th></th>\n      <th></th>\n      <th></th>\n      <th></th>\n      <th></th>\n      <th></th>\n      <th></th>\n      <th></th>\n      <th></th>\n      <th></th>\n      <th></th>\n      <th></th>\n      <th></th>\n      <th></th>\n      <th></th>\n      <th></th>\n      <th></th>\n      <th></th>\n      <th></th>\n      <th></th>\n      <th></th>\n    </tr>\n  </thead>\n  <tbody>\n    <tr>\n      <th>10.0</th>\n      <td>0</td>\n      <td>0</td>\n      <td>0</td>\n      <td>2</td>\n      <td>1</td>\n      <td>1</td>\n      <td>0</td>\n      <td>0</td>\n      <td>2</td>\n      <td>3</td>\n      <td>...</td>\n      <td>1</td>\n      <td>1</td>\n      <td>3</td>\n      <td>0</td>\n      <td>4</td>\n      <td>1</td>\n      <td>3</td>\n      <td>7</td>\n      <td>1</td>\n      <td>0</td>\n    </tr>\n    <tr>\n      <th>12.0</th>\n      <td>0</td>\n      <td>0</td>\n      <td>0</td>\n      <td>0</td>\n      <td>0</td>\n      <td>1</td>\n      <td>0</td>\n      <td>0</td>\n      <td>0</td>\n      <td>0</td>\n      <td>...</td>\n      <td>0</td>\n      <td>4</td>\n      <td>5</td>\n      <td>0</td>\n      <td>3</td>\n      <td>0</td>\n      <td>4</td>\n      <td>4</td>\n      <td>0</td>\n      <td>0</td>\n    </tr>\n    <tr>\n      <th>17.0</th>\n      <td>0</td>\n      <td>0</td>\n      <td>0</td>\n      <td>0</td>\n      <td>0</td>\n      <td>2</td>\n      <td>0</td>\n      <td>0</td>\n      <td>0</td>\n      <td>1</td>\n      <td>...</td>\n      <td>0</td>\n      <td>0</td>\n      <td>1</td>\n      <td>0</td>\n      <td>1</td>\n      <td>0</td>\n      <td>0</td>\n      <td>1</td>\n      <td>1</td>\n      <td>0</td>\n    </tr>\n    <tr>\n      <th>25.0</th>\n      <td>0</td>\n      <td>1</td>\n      <td>2</td>\n      <td>0</td>\n      <td>3</td>\n      <td>3</td>\n      <td>1</td>\n      <td>1</td>\n      <td>0</td>\n      <td>1</td>\n      <td>...</td>\n      <td>0</td>\n      <td>0</td>\n      <td>3</td>\n      <td>0</td>\n      <td>4</td>\n      <td>0</td>\n      <td>2</td>\n      <td>0</td>\n      <td>0</td>\n      <td>0</td>\n    </tr>\n    <tr>\n      <th>27.0</th>\n      <td>0</td>\n      <td>0</td>\n      <td>4</td>\n      <td>0</td>\n      <td>3</td>\n      <td>3</td>\n      <td>1</td>\n      <td>0</td>\n      <td>0</td>\n      <td>0</td>\n      <td>...</td>\n      <td>0</td>\n      <td>1</td>\n      <td>3</td>\n      <td>0</td>\n      <td>3</td>\n      <td>0</td>\n      <td>0</td>\n      <td>7</td>\n      <td>0</td>\n      <td>0</td>\n    </tr>\n    <tr>\n      <th>29.0</th>\n      <td>0</td>\n      <td>0</td>\n      <td>1</td>\n      <td>0</td>\n      <td>1</td>\n      <td>3</td>\n      <td>0</td>\n      <td>0</td>\n      <td>2</td>\n      <td>1</td>\n      <td>...</td>\n      <td>0</td>\n      <td>3</td>\n      <td>5</td>\n      <td>0</td>\n      <td>1</td>\n      <td>0</td>\n      <td>0</td>\n      <td>2</td>\n      <td>0</td>\n      <td>0</td>\n    </tr>\n    <tr>\n      <th>31.0</th>\n      <td>0</td>\n      <td>1</td>\n      <td>2</td>\n      <td>0</td>\n      <td>3</td>\n      <td>7</td>\n      <td>1</td>\n      <td>0</td>\n      <td>1</td>\n      <td>1</td>\n      <td>...</td>\n      <td>0</td>\n      <td>4</td>\n      <td>4</td>\n      <td>0</td>\n      <td>4</td>\n      <td>0</td>\n      <td>1</td>\n      <td>2</td>\n      <td>0</td>\n      <td>0</td>\n    </tr>\n    <tr>\n      <th>54.0</th>\n      <td>1</td>\n      <td>0</td>\n      <td>0</td>\n      <td>1</td>\n      <td>1</td>\n      <td>4</td>\n      <td>0</td>\n      <td>1</td>\n      <td>1</td>\n      <td>1</td>\n      <td>...</td>\n      <td>0</td>\n      <td>3</td>\n      <td>5</td>\n      <td>0</td>\n      <td>4</td>\n      <td>1</td>\n      <td>2</td>\n      <td>12</td>\n      <td>0</td>\n      <td>0</td>\n    </tr>\n    <tr>\n      <th>58.0</th>\n      <td>0</td>\n      <td>1</td>\n      <td>2</td>\n      <td>0</td>\n      <td>1</td>\n      <td>3</td>\n      <td>1</td>\n      <td>0</td>\n      <td>0</td>\n      <td>0</td>\n      <td>...</td>\n      <td>0</td>\n      <td>3</td>\n      <td>3</td>\n      <td>0</td>\n      <td>4</td>\n      <td>0</td>\n      <td>2</td>\n      <td>5</td>\n      <td>1</td>\n      <td>0</td>\n    </tr>\n    <tr>\n      <th>59.0</th>\n      <td>0</td>\n      <td>0</td>\n      <td>1</td>\n      <td>0</td>\n      <td>0</td>\n      <td>3</td>\n      <td>0</td>\n      <td>0</td>\n      <td>1</td>\n      <td>1</td>\n      <td>...</td>\n      <td>0</td>\n      <td>4</td>\n      <td>9</td>\n      <td>0</td>\n      <td>3</td>\n      <td>0</td>\n      <td>2</td>\n      <td>1</td>\n      <td>1</td>\n      <td>0</td>\n    </tr>\n    <tr>\n      <th>61.0</th>\n      <td>0</td>\n      <td>0</td>\n      <td>2</td>\n      <td>0</td>\n      <td>4</td>\n      <td>2</td>\n      <td>0</td>\n      <td>1</td>\n      <td>0</td>\n      <td>0</td>\n      <td>...</td>\n      <td>1</td>\n      <td>5</td>\n      <td>3</td>\n      <td>0</td>\n      <td>3</td>\n      <td>1</td>\n      <td>3</td>\n      <td>2</td>\n      <td>0</td>\n      <td>0</td>\n    </tr>\n    <tr>\n      <th>69.0</th>\n      <td>0</td>\n      <td>2</td>\n      <td>1</td>\n      <td>0</td>\n      <td>1</td>\n      <td>0</td>\n      <td>1</td>\n      <td>0</td>\n      <td>0</td>\n      <td>0</td>\n      <td>...</td>\n      <td>0</td>\n      <td>0</td>\n      <td>2</td>\n      <td>0</td>\n      <td>3</td>\n      <td>0</td>\n      <td>2</td>\n      <td>6</td>\n      <td>0</td>\n      <td>0</td>\n    </tr>\n    <tr>\n      <th>71.0</th>\n      <td>0</td>\n      <td>1</td>\n      <td>0</td>\n      <td>0</td>\n      <td>1</td>\n      <td>1</td>\n      <td>0</td>\n      <td>0</td>\n      <td>1</td>\n      <td>0</td>\n      <td>...</td>\n      <td>0</td>\n      <td>3</td>\n      <td>2</td>\n      <td>0</td>\n      <td>3</td>\n      <td>0</td>\n      <td>1</td>\n      <td>1</td>\n      <td>0</td>\n      <td>0</td>\n    </tr>\n    <tr>\n      <th>72.0</th>\n      <td>0</td>\n      <td>0</td>\n      <td>2</td>\n      <td>0</td>\n      <td>1</td>\n      <td>3</td>\n      <td>0</td>\n      <td>0</td>\n      <td>1</td>\n      <td>3</td>\n      <td>...</td>\n      <td>0</td>\n      <td>2</td>\n      <td>7</td>\n      <td>0</td>\n      <td>2</td>\n      <td>0</td>\n      <td>3</td>\n      <td>3</td>\n      <td>0</td>\n      <td>0</td>\n    </tr>\n    <tr>\n      <th>86.0</th>\n      <td>0</td>\n      <td>1</td>\n      <td>0</td>\n      <td>0</td>\n      <td>0</td>\n      <td>2</td>\n      <td>0</td>\n      <td>0</td>\n      <td>0</td>\n      <td>1</td>\n      <td>...</td>\n      <td>0</td>\n      <td>0</td>\n      <td>6</td>\n      <td>1</td>\n      <td>2</td>\n      <td>0</td>\n      <td>2</td>\n      <td>2</td>\n      <td>1</td>\n      <td>0</td>\n    </tr>\n    <tr>\n      <th>87.0</th>\n      <td>0</td>\n      <td>0</td>\n      <td>0</td>\n      <td>0</td>\n      <td>1</td>\n      <td>2</td>\n      <td>0</td>\n      <td>0</td>\n      <td>0</td>\n      <td>0</td>\n      <td>...</td>\n      <td>0</td>\n      <td>0</td>\n      <td>1</td>\n      <td>0</td>\n      <td>3</td>\n      <td>0</td>\n      <td>0</td>\n      <td>1</td>\n      <td>0</td>\n      <td>0</td>\n    </tr>\n    <tr>\n      <th>90.0</th>\n      <td>0</td>\n      <td>2</td>\n      <td>0</td>\n      <td>0</td>\n      <td>0</td>\n      <td>0</td>\n      <td>0</td>\n      <td>0</td>\n      <td>0</td>\n      <td>0</td>\n      <td>...</td>\n      <td>0</td>\n      <td>1</td>\n      <td>2</td>\n      <td>0</td>\n      <td>4</td>\n      <td>0</td>\n      <td>1</td>\n      <td>3</td>\n      <td>1</td>\n      <td>1</td>\n    </tr>\n  </tbody>\n</table>\n<p>17 rows × 107 columns</p>\n</div>"
     },
     "metadata": {},
     "execution_count": 60
    }
   ],
   "source": [
    "# creating a new dataframe for the venues\n",
    "venue_df = pd.DataFrame(total_venues)\n",
    "venue_crosstab = pd.crosstab(venue_df[0], venue_df[1])\n",
    "\n",
    "# let's drop a few venue types\n",
    "venue_crosstab.drop(['Café', 'Restaurant', 'Bakery', 'Deli / Bodega', 'Sandwich Place'], axis=1, inplace=True)\n",
    "venue_crosstab.index.name = 'Population Cluster'\n",
    "venue_crosstab"
   ]
  },
  {
   "cell_type": "code",
   "execution_count": 61,
   "metadata": {},
   "outputs": [],
   "source": [
    "# checking the venue types, we notice that there are several types of Chinese resturants. Therefore we get the complete venue list from fourthsquare and filter it for Chinese restaurant types\n",
    "master_venues = requests.get('https://api.foursquare.com/v2/venues/categories?&client_id={}&client_secret={}&v={}'.format(\n",
    "        client_id, cliend_secret, version)).json()['response']\n",
    "\n",
    "chinese_restaurant = '4bf58dd8d48988d145941735'\n",
    "asian_restaurant = '4bf58dd8d48988d142941735'\n",
    "chinese_restaurant = '4bf58dd8d48988d145941735'\n",
    "restaurant_categories = [x for x in master_venues['categories'] if cat_id == x['id']]\n",
    "asian_categories = [x for x in restaurant_categories[0]['categories'] if asian_restaurant == x['id']]\n",
    "chinese_categories = [x['name'] for x in [x for x in asian_categories[0]['categories'] if chinese_restaurant == x['id']][0]['categories']]\n",
    "\n",
    "# and then merge all into chinese restaurants\n",
    "for restaurant in chinese_categories:\n",
    "    try:\n",
    "        venue_crosstab['Chinese Restaurant'] = venue_crosstab['Chinese Restaurant'] + venue_crosstab[restaurant]\n",
    "        venue_crosstab.drop(columns=[restaurant])\n",
    "    except:\n",
    "        pass"
   ]
  },
  {
   "cell_type": "code",
   "execution_count": 62,
   "metadata": {},
   "outputs": [
    {
     "output_type": "execute_result",
     "data": {
      "text/plain": [
       "                   1st Most Popular Venue 2nd Most Popular Venue  \\\n",
       "Population Cluster                                                 \n",
       "10.0                   Italian Restaurant            Pizza Place   \n",
       "12.0                   Italian Restaurant            Pizza Place   \n",
       "17.0                   Chinese Restaurant   Fast Food Restaurant   \n",
       "25.0                   Italian Restaurant      French Restaurant   \n",
       "27.0                   Italian Restaurant            Pizza Place   \n",
       "29.0                   Italian Restaurant            Pizza Place   \n",
       "31.0                   Italian Restaurant      Indian Restaurant   \n",
       "54.0                   Italian Restaurant            Pizza Place   \n",
       "58.0                          Pizza Place      Indian Restaurant   \n",
       "59.0                   Italian Restaurant            Pizza Place   \n",
       "61.0                         Burger Joint      French Restaurant   \n",
       "69.0                   Chinese Restaurant            Pizza Place   \n",
       "71.0                   Italian Restaurant      Indian Restaurant   \n",
       "72.0                   Italian Restaurant      French Restaurant   \n",
       "86.0                          Pizza Place     Italian Restaurant   \n",
       "87.0                          Pizza Place     Italian Restaurant   \n",
       "90.0                   Chinese Restaurant            Pizza Place   \n",
       "\n",
       "                   3rd Most Popular Venue     4th Most Popular Venue  \\\n",
       "Population Cluster                                                     \n",
       "10.0                         Burger Joint      Vietnamese Restaurant   \n",
       "12.0                    Indian Restaurant            Thai Restaurant   \n",
       "17.0                    Indian Restaurant          Korean Restaurant   \n",
       "25.0                          Pizza Place               Burger Joint   \n",
       "27.0                 Fast Food Restaurant          Indian Restaurant   \n",
       "29.0                    French Restaurant        Japanese Restaurant   \n",
       "31.0                     Asian Restaurant                Pizza Place   \n",
       "54.0                Vietnamese Restaurant               Burger Joint   \n",
       "58.0                   Italian Restaurant      Vietnamese Restaurant   \n",
       "59.0                    Indian Restaurant                  Gastropub   \n",
       "61.0                   Italian Restaurant                Pizza Place   \n",
       "69.0                Vietnamese Restaurant                  Gastropub   \n",
       "71.0                          Pizza Place                  Gastropub   \n",
       "72.0                          Pizza Place  Middle Eastern Restaurant   \n",
       "86.0                    Indian Restaurant  Middle Eastern Restaurant   \n",
       "87.0                  Fried Chicken Joint               Burger Joint   \n",
       "90.0                            Gastropub         Italian Restaurant   \n",
       "\n",
       "                       5th Most Popular Venue     6th Most Popular Venue  \\\n",
       "Population Cluster                                                         \n",
       "10.0                        Indian Restaurant  Middle Eastern Restaurant   \n",
       "12.0                     Ethiopian Restaurant      Vietnamese Restaurant   \n",
       "17.0                      Japanese Restaurant         Italian Restaurant   \n",
       "25.0                Middle Eastern Restaurant        Lebanese Restaurant   \n",
       "27.0                             Burger Joint      Vietnamese Restaurant   \n",
       "29.0                        Indian Restaurant               Burger Joint   \n",
       "31.0                             Burger Joint         Chinese Restaurant   \n",
       "54.0                        French Restaurant                  Gastropub   \n",
       "58.0                       English Restaurant             Breakfast Spot   \n",
       "59.0                             Burger Joint            Thai Restaurant   \n",
       "61.0                               Steakhouse          Indian Restaurant   \n",
       "69.0                        Indian Restaurant         Italian Restaurant   \n",
       "71.0                    Portuguese Restaurant               Burger Joint   \n",
       "72.0                          Thai Restaurant                  Gastropub   \n",
       "86.0                          Thai Restaurant        Japanese Restaurant   \n",
       "87.0                       Chinese Restaurant          Indian Restaurant   \n",
       "90.0                     Fast Food Restaurant        Fried Chicken Joint   \n",
       "\n",
       "                           7th Most Popular Venue    8th Most Popular Venue  \\\n",
       "Population Cluster                                                            \n",
       "10.0                           Chinese Restaurant            Breakfast Spot   \n",
       "12.0                Vegetarian / Vegan Restaurant          Tapas Restaurant   \n",
       "17.0                             Sushi Restaurant          Asian Restaurant   \n",
       "25.0                           Persian Restaurant        Chinese Restaurant   \n",
       "27.0                           Chinese Restaurant        English Restaurant   \n",
       "29.0                                    Gastropub        English Restaurant   \n",
       "31.0                        Portuguese Restaurant        Seafood Restaurant   \n",
       "54.0                          Japanese Restaurant                Steakhouse   \n",
       "58.0                         Fast Food Restaurant        Chinese Restaurant   \n",
       "59.0                    Middle Eastern Restaurant  Mediterranean Restaurant   \n",
       "61.0                           Seafood Restaurant        Chinese Restaurant   \n",
       "69.0                            Fish & Chips Shop        Turkish Restaurant   \n",
       "71.0                          Japanese Restaurant        Chinese Restaurant   \n",
       "72.0                                 Burger Joint         Indian Restaurant   \n",
       "86.0                         Fast Food Restaurant         French Restaurant   \n",
       "87.0                         Fast Food Restaurant        English Restaurant   \n",
       "90.0                            Indian Restaurant         Fish & Chips Shop   \n",
       "\n",
       "                       9th Most Popular Venue    10th Most Popular Venue  \n",
       "Population Cluster                                                        \n",
       "10.0                                Gastropub         Turkish Restaurant  \n",
       "12.0                                   Bistro           Kebab Restaurant  \n",
       "17.0                      Fried Chicken Joint            Thai Restaurant  \n",
       "25.0                         Greek Restaurant                  Gastropub  \n",
       "27.0                         Sushi Restaurant        American Restaurant  \n",
       "29.0                Middle Eastern Restaurant            Thai Restaurant  \n",
       "31.0                        French Restaurant           Sushi Restaurant  \n",
       "54.0                               Food Truck          Indian Restaurant  \n",
       "58.0                        French Restaurant         Turkish Restaurant  \n",
       "59.0                        French Restaurant        Japanese Restaurant  \n",
       "61.0                       English Restaurant         Spanish Restaurant  \n",
       "69.0                     Fast Food Restaurant                 Food Truck  \n",
       "71.0                         Tapas Restaurant   Mediterranean Restaurant  \n",
       "72.0                      Japanese Restaurant         Chinese Restaurant  \n",
       "86.0                       Chinese Restaurant               Burger Joint  \n",
       "87.0                       Turkish Restaurant      Portuguese Restaurant  \n",
       "90.0                             Burger Joint  Middle Eastern Restaurant  "
      ],
      "text/html": "<div>\n<style scoped>\n    .dataframe tbody tr th:only-of-type {\n        vertical-align: middle;\n    }\n\n    .dataframe tbody tr th {\n        vertical-align: top;\n    }\n\n    .dataframe thead th {\n        text-align: right;\n    }\n</style>\n<table border=\"1\" class=\"dataframe\">\n  <thead>\n    <tr style=\"text-align: right;\">\n      <th></th>\n      <th>1st Most Popular Venue</th>\n      <th>2nd Most Popular Venue</th>\n      <th>3rd Most Popular Venue</th>\n      <th>4th Most Popular Venue</th>\n      <th>5th Most Popular Venue</th>\n      <th>6th Most Popular Venue</th>\n      <th>7th Most Popular Venue</th>\n      <th>8th Most Popular Venue</th>\n      <th>9th Most Popular Venue</th>\n      <th>10th Most Popular Venue</th>\n    </tr>\n    <tr>\n      <th>Population Cluster</th>\n      <th></th>\n      <th></th>\n      <th></th>\n      <th></th>\n      <th></th>\n      <th></th>\n      <th></th>\n      <th></th>\n      <th></th>\n      <th></th>\n    </tr>\n  </thead>\n  <tbody>\n    <tr>\n      <th>10.0</th>\n      <td>Italian Restaurant</td>\n      <td>Pizza Place</td>\n      <td>Burger Joint</td>\n      <td>Vietnamese Restaurant</td>\n      <td>Indian Restaurant</td>\n      <td>Middle Eastern Restaurant</td>\n      <td>Chinese Restaurant</td>\n      <td>Breakfast Spot</td>\n      <td>Gastropub</td>\n      <td>Turkish Restaurant</td>\n    </tr>\n    <tr>\n      <th>12.0</th>\n      <td>Italian Restaurant</td>\n      <td>Pizza Place</td>\n      <td>Indian Restaurant</td>\n      <td>Thai Restaurant</td>\n      <td>Ethiopian Restaurant</td>\n      <td>Vietnamese Restaurant</td>\n      <td>Vegetarian / Vegan Restaurant</td>\n      <td>Tapas Restaurant</td>\n      <td>Bistro</td>\n      <td>Kebab Restaurant</td>\n    </tr>\n    <tr>\n      <th>17.0</th>\n      <td>Chinese Restaurant</td>\n      <td>Fast Food Restaurant</td>\n      <td>Indian Restaurant</td>\n      <td>Korean Restaurant</td>\n      <td>Japanese Restaurant</td>\n      <td>Italian Restaurant</td>\n      <td>Sushi Restaurant</td>\n      <td>Asian Restaurant</td>\n      <td>Fried Chicken Joint</td>\n      <td>Thai Restaurant</td>\n    </tr>\n    <tr>\n      <th>25.0</th>\n      <td>Italian Restaurant</td>\n      <td>French Restaurant</td>\n      <td>Pizza Place</td>\n      <td>Burger Joint</td>\n      <td>Middle Eastern Restaurant</td>\n      <td>Lebanese Restaurant</td>\n      <td>Persian Restaurant</td>\n      <td>Chinese Restaurant</td>\n      <td>Greek Restaurant</td>\n      <td>Gastropub</td>\n    </tr>\n    <tr>\n      <th>27.0</th>\n      <td>Italian Restaurant</td>\n      <td>Pizza Place</td>\n      <td>Fast Food Restaurant</td>\n      <td>Indian Restaurant</td>\n      <td>Burger Joint</td>\n      <td>Vietnamese Restaurant</td>\n      <td>Chinese Restaurant</td>\n      <td>English Restaurant</td>\n      <td>Sushi Restaurant</td>\n      <td>American Restaurant</td>\n    </tr>\n    <tr>\n      <th>29.0</th>\n      <td>Italian Restaurant</td>\n      <td>Pizza Place</td>\n      <td>French Restaurant</td>\n      <td>Japanese Restaurant</td>\n      <td>Indian Restaurant</td>\n      <td>Burger Joint</td>\n      <td>Gastropub</td>\n      <td>English Restaurant</td>\n      <td>Middle Eastern Restaurant</td>\n      <td>Thai Restaurant</td>\n    </tr>\n    <tr>\n      <th>31.0</th>\n      <td>Italian Restaurant</td>\n      <td>Indian Restaurant</td>\n      <td>Asian Restaurant</td>\n      <td>Pizza Place</td>\n      <td>Burger Joint</td>\n      <td>Chinese Restaurant</td>\n      <td>Portuguese Restaurant</td>\n      <td>Seafood Restaurant</td>\n      <td>French Restaurant</td>\n      <td>Sushi Restaurant</td>\n    </tr>\n    <tr>\n      <th>54.0</th>\n      <td>Italian Restaurant</td>\n      <td>Pizza Place</td>\n      <td>Vietnamese Restaurant</td>\n      <td>Burger Joint</td>\n      <td>French Restaurant</td>\n      <td>Gastropub</td>\n      <td>Japanese Restaurant</td>\n      <td>Steakhouse</td>\n      <td>Food Truck</td>\n      <td>Indian Restaurant</td>\n    </tr>\n    <tr>\n      <th>58.0</th>\n      <td>Pizza Place</td>\n      <td>Indian Restaurant</td>\n      <td>Italian Restaurant</td>\n      <td>Vietnamese Restaurant</td>\n      <td>English Restaurant</td>\n      <td>Breakfast Spot</td>\n      <td>Fast Food Restaurant</td>\n      <td>Chinese Restaurant</td>\n      <td>French Restaurant</td>\n      <td>Turkish Restaurant</td>\n    </tr>\n    <tr>\n      <th>59.0</th>\n      <td>Italian Restaurant</td>\n      <td>Pizza Place</td>\n      <td>Indian Restaurant</td>\n      <td>Gastropub</td>\n      <td>Burger Joint</td>\n      <td>Thai Restaurant</td>\n      <td>Middle Eastern Restaurant</td>\n      <td>Mediterranean Restaurant</td>\n      <td>French Restaurant</td>\n      <td>Japanese Restaurant</td>\n    </tr>\n    <tr>\n      <th>61.0</th>\n      <td>Burger Joint</td>\n      <td>French Restaurant</td>\n      <td>Italian Restaurant</td>\n      <td>Pizza Place</td>\n      <td>Steakhouse</td>\n      <td>Indian Restaurant</td>\n      <td>Seafood Restaurant</td>\n      <td>Chinese Restaurant</td>\n      <td>English Restaurant</td>\n      <td>Spanish Restaurant</td>\n    </tr>\n    <tr>\n      <th>69.0</th>\n      <td>Chinese Restaurant</td>\n      <td>Pizza Place</td>\n      <td>Vietnamese Restaurant</td>\n      <td>Gastropub</td>\n      <td>Indian Restaurant</td>\n      <td>Italian Restaurant</td>\n      <td>Fish &amp; Chips Shop</td>\n      <td>Turkish Restaurant</td>\n      <td>Fast Food Restaurant</td>\n      <td>Food Truck</td>\n    </tr>\n    <tr>\n      <th>71.0</th>\n      <td>Italian Restaurant</td>\n      <td>Indian Restaurant</td>\n      <td>Pizza Place</td>\n      <td>Gastropub</td>\n      <td>Portuguese Restaurant</td>\n      <td>Burger Joint</td>\n      <td>Japanese Restaurant</td>\n      <td>Chinese Restaurant</td>\n      <td>Tapas Restaurant</td>\n      <td>Mediterranean Restaurant</td>\n    </tr>\n    <tr>\n      <th>72.0</th>\n      <td>Italian Restaurant</td>\n      <td>French Restaurant</td>\n      <td>Pizza Place</td>\n      <td>Middle Eastern Restaurant</td>\n      <td>Thai Restaurant</td>\n      <td>Gastropub</td>\n      <td>Burger Joint</td>\n      <td>Indian Restaurant</td>\n      <td>Japanese Restaurant</td>\n      <td>Chinese Restaurant</td>\n    </tr>\n    <tr>\n      <th>86.0</th>\n      <td>Pizza Place</td>\n      <td>Italian Restaurant</td>\n      <td>Indian Restaurant</td>\n      <td>Middle Eastern Restaurant</td>\n      <td>Thai Restaurant</td>\n      <td>Japanese Restaurant</td>\n      <td>Fast Food Restaurant</td>\n      <td>French Restaurant</td>\n      <td>Chinese Restaurant</td>\n      <td>Burger Joint</td>\n    </tr>\n    <tr>\n      <th>87.0</th>\n      <td>Pizza Place</td>\n      <td>Italian Restaurant</td>\n      <td>Fried Chicken Joint</td>\n      <td>Burger Joint</td>\n      <td>Chinese Restaurant</td>\n      <td>Indian Restaurant</td>\n      <td>Fast Food Restaurant</td>\n      <td>English Restaurant</td>\n      <td>Turkish Restaurant</td>\n      <td>Portuguese Restaurant</td>\n    </tr>\n    <tr>\n      <th>90.0</th>\n      <td>Chinese Restaurant</td>\n      <td>Pizza Place</td>\n      <td>Gastropub</td>\n      <td>Italian Restaurant</td>\n      <td>Fast Food Restaurant</td>\n      <td>Fried Chicken Joint</td>\n      <td>Indian Restaurant</td>\n      <td>Fish &amp; Chips Shop</td>\n      <td>Burger Joint</td>\n      <td>Middle Eastern Restaurant</td>\n    </tr>\n  </tbody>\n</table>\n</div>"
     },
     "metadata": {},
     "execution_count": 62
    }
   ],
   "source": [
    "# now let's check which are the most common venue types around the centroids of each region\n",
    "\n",
    "# function to return most common venues\n",
    "def return_most_common_venues(row, num_top_venues):\n",
    "    row_categories_sorted = row.sort_values(ascending=False)\n",
    "    return row_categories_sorted.index.values[0:num_top_venues]\n",
    "\n",
    "# top 10 venues for each neighborhood\n",
    "num_top_venues = 10\n",
    "\n",
    "indicators = ['st', 'nd', 'rd']\n",
    "\n",
    "# create columns according to number of top venues\n",
    "columns = []\n",
    "for ind in np.arange(num_top_venues):\n",
    "    try:\n",
    "        columns.append('{}{} Most Popular Venue'.format(ind+1, indicators[ind]))\n",
    "    except:\n",
    "        columns.append('{}th Most Popular Venue'.format(ind+1))\n",
    "\n",
    "top_venues_sorted = pd.DataFrame(columns=columns)\n",
    "top_venues_sorted['Population Cluster'] = venue_crosstab.index\n",
    "\n",
    "# create a new dataframe\n",
    "for ind in np.arange(venue_crosstab.shape[0]):\n",
    "    top_venues_sorted.iloc[ind, :num_top_venues] = return_most_common_venues(venue_crosstab.iloc[ind], num_top_venues)\n",
    "\n",
    "top_venues_sorted.set_index(['Population Cluster'], inplace=True)\n",
    "top_venues_sorted"
   ]
  },
  {
   "cell_type": "code",
   "execution_count": 63,
   "metadata": {},
   "outputs": [
    {
     "output_type": "execute_result",
     "data": {
      "text/plain": [
       "                   1st Most Popular Venue 2nd Most Popular Venue  \\\n",
       "Population Cluster                                                 \n",
       "10.0                   Italian Restaurant            Pizza Place   \n",
       "12.0                   Italian Restaurant            Pizza Place   \n",
       "17.0                   Chinese Restaurant   Fast Food Restaurant   \n",
       "25.0                   Italian Restaurant      French Restaurant   \n",
       "27.0                   Italian Restaurant            Pizza Place   \n",
       "29.0                   Italian Restaurant            Pizza Place   \n",
       "31.0                   Italian Restaurant      Indian Restaurant   \n",
       "54.0                   Italian Restaurant            Pizza Place   \n",
       "58.0                          Pizza Place      Indian Restaurant   \n",
       "59.0                   Italian Restaurant            Pizza Place   \n",
       "61.0                         Burger Joint      French Restaurant   \n",
       "69.0                   Chinese Restaurant            Pizza Place   \n",
       "71.0                   Italian Restaurant      Indian Restaurant   \n",
       "72.0                   Italian Restaurant      French Restaurant   \n",
       "86.0                          Pizza Place     Italian Restaurant   \n",
       "87.0                          Pizza Place     Italian Restaurant   \n",
       "90.0                   Chinese Restaurant            Pizza Place   \n",
       "\n",
       "                   3rd Most Popular Venue     4th Most Popular Venue  \\\n",
       "Population Cluster                                                     \n",
       "10.0                         Burger Joint      Vietnamese Restaurant   \n",
       "12.0                    Indian Restaurant            Thai Restaurant   \n",
       "17.0                    Indian Restaurant          Korean Restaurant   \n",
       "25.0                          Pizza Place               Burger Joint   \n",
       "27.0                 Fast Food Restaurant          Indian Restaurant   \n",
       "29.0                    French Restaurant        Japanese Restaurant   \n",
       "31.0                     Asian Restaurant                Pizza Place   \n",
       "54.0                Vietnamese Restaurant               Burger Joint   \n",
       "58.0                   Italian Restaurant      Vietnamese Restaurant   \n",
       "59.0                    Indian Restaurant                  Gastropub   \n",
       "61.0                   Italian Restaurant                Pizza Place   \n",
       "69.0                Vietnamese Restaurant                  Gastropub   \n",
       "71.0                          Pizza Place                  Gastropub   \n",
       "72.0                          Pizza Place  Middle Eastern Restaurant   \n",
       "86.0                    Indian Restaurant  Middle Eastern Restaurant   \n",
       "87.0                  Fried Chicken Joint               Burger Joint   \n",
       "90.0                            Gastropub         Italian Restaurant   \n",
       "\n",
       "                       5th Most Popular Venue     6th Most Popular Venue  \\\n",
       "Population Cluster                                                         \n",
       "10.0                        Indian Restaurant  Middle Eastern Restaurant   \n",
       "12.0                     Ethiopian Restaurant      Vietnamese Restaurant   \n",
       "17.0                      Japanese Restaurant         Italian Restaurant   \n",
       "25.0                Middle Eastern Restaurant        Lebanese Restaurant   \n",
       "27.0                             Burger Joint      Vietnamese Restaurant   \n",
       "29.0                        Indian Restaurant               Burger Joint   \n",
       "31.0                             Burger Joint         Chinese Restaurant   \n",
       "54.0                        French Restaurant                  Gastropub   \n",
       "58.0                       English Restaurant             Breakfast Spot   \n",
       "59.0                             Burger Joint            Thai Restaurant   \n",
       "61.0                               Steakhouse          Indian Restaurant   \n",
       "69.0                        Indian Restaurant         Italian Restaurant   \n",
       "71.0                    Portuguese Restaurant               Burger Joint   \n",
       "72.0                          Thai Restaurant                  Gastropub   \n",
       "86.0                          Thai Restaurant        Japanese Restaurant   \n",
       "87.0                       Chinese Restaurant          Indian Restaurant   \n",
       "90.0                     Fast Food Restaurant        Fried Chicken Joint   \n",
       "\n",
       "                           7th Most Popular Venue    8th Most Popular Venue  \\\n",
       "Population Cluster                                                            \n",
       "10.0                           Chinese Restaurant            Breakfast Spot   \n",
       "12.0                Vegetarian / Vegan Restaurant          Tapas Restaurant   \n",
       "17.0                             Sushi Restaurant          Asian Restaurant   \n",
       "25.0                           Persian Restaurant        Chinese Restaurant   \n",
       "27.0                           Chinese Restaurant        English Restaurant   \n",
       "29.0                                    Gastropub        English Restaurant   \n",
       "31.0                        Portuguese Restaurant        Seafood Restaurant   \n",
       "54.0                          Japanese Restaurant                Steakhouse   \n",
       "58.0                         Fast Food Restaurant        Chinese Restaurant   \n",
       "59.0                    Middle Eastern Restaurant  Mediterranean Restaurant   \n",
       "61.0                           Seafood Restaurant        Chinese Restaurant   \n",
       "69.0                            Fish & Chips Shop        Turkish Restaurant   \n",
       "71.0                          Japanese Restaurant        Chinese Restaurant   \n",
       "72.0                                 Burger Joint         Indian Restaurant   \n",
       "86.0                         Fast Food Restaurant         French Restaurant   \n",
       "87.0                         Fast Food Restaurant        English Restaurant   \n",
       "90.0                            Indian Restaurant         Fish & Chips Shop   \n",
       "\n",
       "                       9th Most Popular Venue    10th Most Popular Venue  \\\n",
       "Population Cluster                                                         \n",
       "10.0                                Gastropub         Turkish Restaurant   \n",
       "12.0                                   Bistro           Kebab Restaurant   \n",
       "17.0                      Fried Chicken Joint            Thai Restaurant   \n",
       "25.0                         Greek Restaurant                  Gastropub   \n",
       "27.0                         Sushi Restaurant        American Restaurant   \n",
       "29.0                Middle Eastern Restaurant            Thai Restaurant   \n",
       "31.0                        French Restaurant           Sushi Restaurant   \n",
       "54.0                               Food Truck          Indian Restaurant   \n",
       "58.0                        French Restaurant         Turkish Restaurant   \n",
       "59.0                        French Restaurant        Japanese Restaurant   \n",
       "61.0                       English Restaurant         Spanish Restaurant   \n",
       "69.0                     Fast Food Restaurant                 Food Truck   \n",
       "71.0                         Tapas Restaurant   Mediterranean Restaurant   \n",
       "72.0                      Japanese Restaurant         Chinese Restaurant   \n",
       "86.0                       Chinese Restaurant               Burger Joint   \n",
       "87.0                       Turkish Restaurant      Portuguese Restaurant   \n",
       "90.0                             Burger Joint  Middle Eastern Restaurant   \n",
       "\n",
       "                    Venue Cluster  \n",
       "Population Cluster                 \n",
       "10.0                            3  \n",
       "12.0                            3  \n",
       "17.0                            0  \n",
       "25.0                            2  \n",
       "27.0                            3  \n",
       "29.0                            1  \n",
       "31.0                            3  \n",
       "54.0                            1  \n",
       "58.0                            3  \n",
       "59.0                            1  \n",
       "61.0                            2  \n",
       "69.0                            0  \n",
       "71.0                            3  \n",
       "72.0                            3  \n",
       "86.0                            3  \n",
       "87.0                            0  \n",
       "90.0                            0  "
      ],
      "text/html": "<div>\n<style scoped>\n    .dataframe tbody tr th:only-of-type {\n        vertical-align: middle;\n    }\n\n    .dataframe tbody tr th {\n        vertical-align: top;\n    }\n\n    .dataframe thead th {\n        text-align: right;\n    }\n</style>\n<table border=\"1\" class=\"dataframe\">\n  <thead>\n    <tr style=\"text-align: right;\">\n      <th></th>\n      <th>1st Most Popular Venue</th>\n      <th>2nd Most Popular Venue</th>\n      <th>3rd Most Popular Venue</th>\n      <th>4th Most Popular Venue</th>\n      <th>5th Most Popular Venue</th>\n      <th>6th Most Popular Venue</th>\n      <th>7th Most Popular Venue</th>\n      <th>8th Most Popular Venue</th>\n      <th>9th Most Popular Venue</th>\n      <th>10th Most Popular Venue</th>\n      <th>Venue Cluster</th>\n    </tr>\n    <tr>\n      <th>Population Cluster</th>\n      <th></th>\n      <th></th>\n      <th></th>\n      <th></th>\n      <th></th>\n      <th></th>\n      <th></th>\n      <th></th>\n      <th></th>\n      <th></th>\n      <th></th>\n    </tr>\n  </thead>\n  <tbody>\n    <tr>\n      <th>10.0</th>\n      <td>Italian Restaurant</td>\n      <td>Pizza Place</td>\n      <td>Burger Joint</td>\n      <td>Vietnamese Restaurant</td>\n      <td>Indian Restaurant</td>\n      <td>Middle Eastern Restaurant</td>\n      <td>Chinese Restaurant</td>\n      <td>Breakfast Spot</td>\n      <td>Gastropub</td>\n      <td>Turkish Restaurant</td>\n      <td>3</td>\n    </tr>\n    <tr>\n      <th>12.0</th>\n      <td>Italian Restaurant</td>\n      <td>Pizza Place</td>\n      <td>Indian Restaurant</td>\n      <td>Thai Restaurant</td>\n      <td>Ethiopian Restaurant</td>\n      <td>Vietnamese Restaurant</td>\n      <td>Vegetarian / Vegan Restaurant</td>\n      <td>Tapas Restaurant</td>\n      <td>Bistro</td>\n      <td>Kebab Restaurant</td>\n      <td>3</td>\n    </tr>\n    <tr>\n      <th>17.0</th>\n      <td>Chinese Restaurant</td>\n      <td>Fast Food Restaurant</td>\n      <td>Indian Restaurant</td>\n      <td>Korean Restaurant</td>\n      <td>Japanese Restaurant</td>\n      <td>Italian Restaurant</td>\n      <td>Sushi Restaurant</td>\n      <td>Asian Restaurant</td>\n      <td>Fried Chicken Joint</td>\n      <td>Thai Restaurant</td>\n      <td>0</td>\n    </tr>\n    <tr>\n      <th>25.0</th>\n      <td>Italian Restaurant</td>\n      <td>French Restaurant</td>\n      <td>Pizza Place</td>\n      <td>Burger Joint</td>\n      <td>Middle Eastern Restaurant</td>\n      <td>Lebanese Restaurant</td>\n      <td>Persian Restaurant</td>\n      <td>Chinese Restaurant</td>\n      <td>Greek Restaurant</td>\n      <td>Gastropub</td>\n      <td>2</td>\n    </tr>\n    <tr>\n      <th>27.0</th>\n      <td>Italian Restaurant</td>\n      <td>Pizza Place</td>\n      <td>Fast Food Restaurant</td>\n      <td>Indian Restaurant</td>\n      <td>Burger Joint</td>\n      <td>Vietnamese Restaurant</td>\n      <td>Chinese Restaurant</td>\n      <td>English Restaurant</td>\n      <td>Sushi Restaurant</td>\n      <td>American Restaurant</td>\n      <td>3</td>\n    </tr>\n    <tr>\n      <th>29.0</th>\n      <td>Italian Restaurant</td>\n      <td>Pizza Place</td>\n      <td>French Restaurant</td>\n      <td>Japanese Restaurant</td>\n      <td>Indian Restaurant</td>\n      <td>Burger Joint</td>\n      <td>Gastropub</td>\n      <td>English Restaurant</td>\n      <td>Middle Eastern Restaurant</td>\n      <td>Thai Restaurant</td>\n      <td>1</td>\n    </tr>\n    <tr>\n      <th>31.0</th>\n      <td>Italian Restaurant</td>\n      <td>Indian Restaurant</td>\n      <td>Asian Restaurant</td>\n      <td>Pizza Place</td>\n      <td>Burger Joint</td>\n      <td>Chinese Restaurant</td>\n      <td>Portuguese Restaurant</td>\n      <td>Seafood Restaurant</td>\n      <td>French Restaurant</td>\n      <td>Sushi Restaurant</td>\n      <td>3</td>\n    </tr>\n    <tr>\n      <th>54.0</th>\n      <td>Italian Restaurant</td>\n      <td>Pizza Place</td>\n      <td>Vietnamese Restaurant</td>\n      <td>Burger Joint</td>\n      <td>French Restaurant</td>\n      <td>Gastropub</td>\n      <td>Japanese Restaurant</td>\n      <td>Steakhouse</td>\n      <td>Food Truck</td>\n      <td>Indian Restaurant</td>\n      <td>1</td>\n    </tr>\n    <tr>\n      <th>58.0</th>\n      <td>Pizza Place</td>\n      <td>Indian Restaurant</td>\n      <td>Italian Restaurant</td>\n      <td>Vietnamese Restaurant</td>\n      <td>English Restaurant</td>\n      <td>Breakfast Spot</td>\n      <td>Fast Food Restaurant</td>\n      <td>Chinese Restaurant</td>\n      <td>French Restaurant</td>\n      <td>Turkish Restaurant</td>\n      <td>3</td>\n    </tr>\n    <tr>\n      <th>59.0</th>\n      <td>Italian Restaurant</td>\n      <td>Pizza Place</td>\n      <td>Indian Restaurant</td>\n      <td>Gastropub</td>\n      <td>Burger Joint</td>\n      <td>Thai Restaurant</td>\n      <td>Middle Eastern Restaurant</td>\n      <td>Mediterranean Restaurant</td>\n      <td>French Restaurant</td>\n      <td>Japanese Restaurant</td>\n      <td>1</td>\n    </tr>\n    <tr>\n      <th>61.0</th>\n      <td>Burger Joint</td>\n      <td>French Restaurant</td>\n      <td>Italian Restaurant</td>\n      <td>Pizza Place</td>\n      <td>Steakhouse</td>\n      <td>Indian Restaurant</td>\n      <td>Seafood Restaurant</td>\n      <td>Chinese Restaurant</td>\n      <td>English Restaurant</td>\n      <td>Spanish Restaurant</td>\n      <td>2</td>\n    </tr>\n    <tr>\n      <th>69.0</th>\n      <td>Chinese Restaurant</td>\n      <td>Pizza Place</td>\n      <td>Vietnamese Restaurant</td>\n      <td>Gastropub</td>\n      <td>Indian Restaurant</td>\n      <td>Italian Restaurant</td>\n      <td>Fish &amp; Chips Shop</td>\n      <td>Turkish Restaurant</td>\n      <td>Fast Food Restaurant</td>\n      <td>Food Truck</td>\n      <td>0</td>\n    </tr>\n    <tr>\n      <th>71.0</th>\n      <td>Italian Restaurant</td>\n      <td>Indian Restaurant</td>\n      <td>Pizza Place</td>\n      <td>Gastropub</td>\n      <td>Portuguese Restaurant</td>\n      <td>Burger Joint</td>\n      <td>Japanese Restaurant</td>\n      <td>Chinese Restaurant</td>\n      <td>Tapas Restaurant</td>\n      <td>Mediterranean Restaurant</td>\n      <td>3</td>\n    </tr>\n    <tr>\n      <th>72.0</th>\n      <td>Italian Restaurant</td>\n      <td>French Restaurant</td>\n      <td>Pizza Place</td>\n      <td>Middle Eastern Restaurant</td>\n      <td>Thai Restaurant</td>\n      <td>Gastropub</td>\n      <td>Burger Joint</td>\n      <td>Indian Restaurant</td>\n      <td>Japanese Restaurant</td>\n      <td>Chinese Restaurant</td>\n      <td>3</td>\n    </tr>\n    <tr>\n      <th>86.0</th>\n      <td>Pizza Place</td>\n      <td>Italian Restaurant</td>\n      <td>Indian Restaurant</td>\n      <td>Middle Eastern Restaurant</td>\n      <td>Thai Restaurant</td>\n      <td>Japanese Restaurant</td>\n      <td>Fast Food Restaurant</td>\n      <td>French Restaurant</td>\n      <td>Chinese Restaurant</td>\n      <td>Burger Joint</td>\n      <td>3</td>\n    </tr>\n    <tr>\n      <th>87.0</th>\n      <td>Pizza Place</td>\n      <td>Italian Restaurant</td>\n      <td>Fried Chicken Joint</td>\n      <td>Burger Joint</td>\n      <td>Chinese Restaurant</td>\n      <td>Indian Restaurant</td>\n      <td>Fast Food Restaurant</td>\n      <td>English Restaurant</td>\n      <td>Turkish Restaurant</td>\n      <td>Portuguese Restaurant</td>\n      <td>0</td>\n    </tr>\n    <tr>\n      <th>90.0</th>\n      <td>Chinese Restaurant</td>\n      <td>Pizza Place</td>\n      <td>Gastropub</td>\n      <td>Italian Restaurant</td>\n      <td>Fast Food Restaurant</td>\n      <td>Fried Chicken Joint</td>\n      <td>Indian Restaurant</td>\n      <td>Fish &amp; Chips Shop</td>\n      <td>Burger Joint</td>\n      <td>Middle Eastern Restaurant</td>\n      <td>0</td>\n    </tr>\n  </tbody>\n</table>\n</div>"
     },
     "metadata": {},
     "execution_count": 63
    }
   ],
   "source": [
    "# now we are ready to cluster our regions based on the venues\n",
    "X = venue_crosstab.to_numpy()\n",
    "\n",
    "kmeans = KMeans(n_clusters=4, random_state=10).fit(X)\n",
    "\n",
    "# adding back the clusters\n",
    "top_venues_sorted['Venue Cluster'] = kmeans.labels_\n",
    "top_venues_sorted\n"
   ]
  },
  {
   "cell_type": "code",
   "execution_count": 64,
   "metadata": {},
   "outputs": [
    {
     "output_type": "execute_result",
     "data": {
      "text/plain": [
       "    Population Cluster   Latitude  Longitude  Chinese Population  \\\n",
       "16                90.0  51.469918  -0.075850              2175.0   \n",
       "2                 17.0  51.595919  -0.248091              2502.0   \n",
       "15                87.0  51.520744  -0.026784              2486.0   \n",
       "11                69.0  51.475223  -0.035682              3333.0   \n",
       "5                 29.0  51.488689  -0.173916              2542.0   \n",
       "7                 54.0  51.531389  -0.102945              3189.0   \n",
       "9                 59.0  51.491664  -0.201069              4004.0   \n",
       "3                 25.0  51.519614  -0.174481              2401.0   \n",
       "10                61.0  51.523149  -0.132522              4703.0   \n",
       "14                86.0  51.534714  -0.196027              2253.0   \n",
       "13                72.0  51.547940  -0.166490              2036.0   \n",
       "12                71.0  51.478497  -0.130790              2707.0   \n",
       "0                 10.0  51.531015  -0.070671              2272.0   \n",
       "4                 27.0  51.496689  -0.019123              4815.0   \n",
       "1                 12.0  51.557027  -0.118661              2858.0   \n",
       "6                 31.0  51.492763  -0.100181              4130.0   \n",
       "8                 58.0  51.502225  -0.058651              3555.0   \n",
       "\n",
       "   1st Most Popular Venue 2nd Most Popular Venue 3rd Most Popular Venue  \\\n",
       "16     Chinese Restaurant            Pizza Place              Gastropub   \n",
       "2      Chinese Restaurant   Fast Food Restaurant      Indian Restaurant   \n",
       "15            Pizza Place     Italian Restaurant    Fried Chicken Joint   \n",
       "11     Chinese Restaurant            Pizza Place  Vietnamese Restaurant   \n",
       "5      Italian Restaurant            Pizza Place      French Restaurant   \n",
       "7      Italian Restaurant            Pizza Place  Vietnamese Restaurant   \n",
       "9      Italian Restaurant            Pizza Place      Indian Restaurant   \n",
       "3      Italian Restaurant      French Restaurant            Pizza Place   \n",
       "10           Burger Joint      French Restaurant     Italian Restaurant   \n",
       "14            Pizza Place     Italian Restaurant      Indian Restaurant   \n",
       "13     Italian Restaurant      French Restaurant            Pizza Place   \n",
       "12     Italian Restaurant      Indian Restaurant            Pizza Place   \n",
       "0      Italian Restaurant            Pizza Place           Burger Joint   \n",
       "4      Italian Restaurant            Pizza Place   Fast Food Restaurant   \n",
       "1      Italian Restaurant            Pizza Place      Indian Restaurant   \n",
       "6      Italian Restaurant      Indian Restaurant       Asian Restaurant   \n",
       "8             Pizza Place      Indian Restaurant     Italian Restaurant   \n",
       "\n",
       "       4th Most Popular Venue     5th Most Popular Venue  \\\n",
       "16         Italian Restaurant       Fast Food Restaurant   \n",
       "2           Korean Restaurant        Japanese Restaurant   \n",
       "15               Burger Joint         Chinese Restaurant   \n",
       "11                  Gastropub          Indian Restaurant   \n",
       "5         Japanese Restaurant          Indian Restaurant   \n",
       "7                Burger Joint          French Restaurant   \n",
       "9                   Gastropub               Burger Joint   \n",
       "3                Burger Joint  Middle Eastern Restaurant   \n",
       "10                Pizza Place                 Steakhouse   \n",
       "14  Middle Eastern Restaurant            Thai Restaurant   \n",
       "13  Middle Eastern Restaurant            Thai Restaurant   \n",
       "12                  Gastropub      Portuguese Restaurant   \n",
       "0       Vietnamese Restaurant          Indian Restaurant   \n",
       "4           Indian Restaurant               Burger Joint   \n",
       "1             Thai Restaurant       Ethiopian Restaurant   \n",
       "6                 Pizza Place               Burger Joint   \n",
       "8       Vietnamese Restaurant         English Restaurant   \n",
       "\n",
       "       6th Most Popular Venue         7th Most Popular Venue  \\\n",
       "16        Fried Chicken Joint              Indian Restaurant   \n",
       "2          Italian Restaurant               Sushi Restaurant   \n",
       "15          Indian Restaurant           Fast Food Restaurant   \n",
       "11         Italian Restaurant              Fish & Chips Shop   \n",
       "5                Burger Joint                      Gastropub   \n",
       "7                   Gastropub            Japanese Restaurant   \n",
       "9             Thai Restaurant      Middle Eastern Restaurant   \n",
       "3         Lebanese Restaurant             Persian Restaurant   \n",
       "10          Indian Restaurant             Seafood Restaurant   \n",
       "14        Japanese Restaurant           Fast Food Restaurant   \n",
       "13                  Gastropub                   Burger Joint   \n",
       "12               Burger Joint            Japanese Restaurant   \n",
       "0   Middle Eastern Restaurant             Chinese Restaurant   \n",
       "4       Vietnamese Restaurant             Chinese Restaurant   \n",
       "1       Vietnamese Restaurant  Vegetarian / Vegan Restaurant   \n",
       "6          Chinese Restaurant          Portuguese Restaurant   \n",
       "8              Breakfast Spot           Fast Food Restaurant   \n",
       "\n",
       "      8th Most Popular Venue     9th Most Popular Venue  \\\n",
       "16         Fish & Chips Shop               Burger Joint   \n",
       "2           Asian Restaurant        Fried Chicken Joint   \n",
       "15        English Restaurant         Turkish Restaurant   \n",
       "11        Turkish Restaurant       Fast Food Restaurant   \n",
       "5         English Restaurant  Middle Eastern Restaurant   \n",
       "7                 Steakhouse                 Food Truck   \n",
       "9   Mediterranean Restaurant          French Restaurant   \n",
       "3         Chinese Restaurant           Greek Restaurant   \n",
       "10        Chinese Restaurant         English Restaurant   \n",
       "14         French Restaurant         Chinese Restaurant   \n",
       "13         Indian Restaurant        Japanese Restaurant   \n",
       "12        Chinese Restaurant           Tapas Restaurant   \n",
       "0             Breakfast Spot                  Gastropub   \n",
       "4         English Restaurant           Sushi Restaurant   \n",
       "1           Tapas Restaurant                     Bistro   \n",
       "6         Seafood Restaurant          French Restaurant   \n",
       "8         Chinese Restaurant          French Restaurant   \n",
       "\n",
       "      10th Most Popular Venue  Venue Cluster  Chinese Restaurant  \n",
       "16  Middle Eastern Restaurant              0                  11  \n",
       "2             Thai Restaurant              0                   5  \n",
       "15      Portuguese Restaurant              0                   6  \n",
       "11                 Food Truck              0                   7  \n",
       "5             Thai Restaurant              1                   5  \n",
       "7           Indian Restaurant              1                   2  \n",
       "9         Japanese Restaurant              1                   1  \n",
       "3                   Gastropub              2                   6  \n",
       "10         Spanish Restaurant              2                   8  \n",
       "14               Burger Joint              3                   5  \n",
       "13         Chinese Restaurant              3                   4  \n",
       "12   Mediterranean Restaurant              3                   4  \n",
       "0          Turkish Restaurant              3                   6  \n",
       "4         American Restaurant              3                   7  \n",
       "1            Kebab Restaurant              3                   2  \n",
       "6            Sushi Restaurant              3                   6  \n",
       "8          Turkish Restaurant              3                   5  "
      ],
      "text/html": "<div>\n<style scoped>\n    .dataframe tbody tr th:only-of-type {\n        vertical-align: middle;\n    }\n\n    .dataframe tbody tr th {\n        vertical-align: top;\n    }\n\n    .dataframe thead th {\n        text-align: right;\n    }\n</style>\n<table border=\"1\" class=\"dataframe\">\n  <thead>\n    <tr style=\"text-align: right;\">\n      <th></th>\n      <th>Population Cluster</th>\n      <th>Latitude</th>\n      <th>Longitude</th>\n      <th>Chinese Population</th>\n      <th>1st Most Popular Venue</th>\n      <th>2nd Most Popular Venue</th>\n      <th>3rd Most Popular Venue</th>\n      <th>4th Most Popular Venue</th>\n      <th>5th Most Popular Venue</th>\n      <th>6th Most Popular Venue</th>\n      <th>7th Most Popular Venue</th>\n      <th>8th Most Popular Venue</th>\n      <th>9th Most Popular Venue</th>\n      <th>10th Most Popular Venue</th>\n      <th>Venue Cluster</th>\n      <th>Chinese Restaurant</th>\n    </tr>\n  </thead>\n  <tbody>\n    <tr>\n      <th>16</th>\n      <td>90.0</td>\n      <td>51.469918</td>\n      <td>-0.075850</td>\n      <td>2175.0</td>\n      <td>Chinese Restaurant</td>\n      <td>Pizza Place</td>\n      <td>Gastropub</td>\n      <td>Italian Restaurant</td>\n      <td>Fast Food Restaurant</td>\n      <td>Fried Chicken Joint</td>\n      <td>Indian Restaurant</td>\n      <td>Fish &amp; Chips Shop</td>\n      <td>Burger Joint</td>\n      <td>Middle Eastern Restaurant</td>\n      <td>0</td>\n      <td>11</td>\n    </tr>\n    <tr>\n      <th>2</th>\n      <td>17.0</td>\n      <td>51.595919</td>\n      <td>-0.248091</td>\n      <td>2502.0</td>\n      <td>Chinese Restaurant</td>\n      <td>Fast Food Restaurant</td>\n      <td>Indian Restaurant</td>\n      <td>Korean Restaurant</td>\n      <td>Japanese Restaurant</td>\n      <td>Italian Restaurant</td>\n      <td>Sushi Restaurant</td>\n      <td>Asian Restaurant</td>\n      <td>Fried Chicken Joint</td>\n      <td>Thai Restaurant</td>\n      <td>0</td>\n      <td>5</td>\n    </tr>\n    <tr>\n      <th>15</th>\n      <td>87.0</td>\n      <td>51.520744</td>\n      <td>-0.026784</td>\n      <td>2486.0</td>\n      <td>Pizza Place</td>\n      <td>Italian Restaurant</td>\n      <td>Fried Chicken Joint</td>\n      <td>Burger Joint</td>\n      <td>Chinese Restaurant</td>\n      <td>Indian Restaurant</td>\n      <td>Fast Food Restaurant</td>\n      <td>English Restaurant</td>\n      <td>Turkish Restaurant</td>\n      <td>Portuguese Restaurant</td>\n      <td>0</td>\n      <td>6</td>\n    </tr>\n    <tr>\n      <th>11</th>\n      <td>69.0</td>\n      <td>51.475223</td>\n      <td>-0.035682</td>\n      <td>3333.0</td>\n      <td>Chinese Restaurant</td>\n      <td>Pizza Place</td>\n      <td>Vietnamese Restaurant</td>\n      <td>Gastropub</td>\n      <td>Indian Restaurant</td>\n      <td>Italian Restaurant</td>\n      <td>Fish &amp; Chips Shop</td>\n      <td>Turkish Restaurant</td>\n      <td>Fast Food Restaurant</td>\n      <td>Food Truck</td>\n      <td>0</td>\n      <td>7</td>\n    </tr>\n    <tr>\n      <th>5</th>\n      <td>29.0</td>\n      <td>51.488689</td>\n      <td>-0.173916</td>\n      <td>2542.0</td>\n      <td>Italian Restaurant</td>\n      <td>Pizza Place</td>\n      <td>French Restaurant</td>\n      <td>Japanese Restaurant</td>\n      <td>Indian Restaurant</td>\n      <td>Burger Joint</td>\n      <td>Gastropub</td>\n      <td>English Restaurant</td>\n      <td>Middle Eastern Restaurant</td>\n      <td>Thai Restaurant</td>\n      <td>1</td>\n      <td>5</td>\n    </tr>\n    <tr>\n      <th>7</th>\n      <td>54.0</td>\n      <td>51.531389</td>\n      <td>-0.102945</td>\n      <td>3189.0</td>\n      <td>Italian Restaurant</td>\n      <td>Pizza Place</td>\n      <td>Vietnamese Restaurant</td>\n      <td>Burger Joint</td>\n      <td>French Restaurant</td>\n      <td>Gastropub</td>\n      <td>Japanese Restaurant</td>\n      <td>Steakhouse</td>\n      <td>Food Truck</td>\n      <td>Indian Restaurant</td>\n      <td>1</td>\n      <td>2</td>\n    </tr>\n    <tr>\n      <th>9</th>\n      <td>59.0</td>\n      <td>51.491664</td>\n      <td>-0.201069</td>\n      <td>4004.0</td>\n      <td>Italian Restaurant</td>\n      <td>Pizza Place</td>\n      <td>Indian Restaurant</td>\n      <td>Gastropub</td>\n      <td>Burger Joint</td>\n      <td>Thai Restaurant</td>\n      <td>Middle Eastern Restaurant</td>\n      <td>Mediterranean Restaurant</td>\n      <td>French Restaurant</td>\n      <td>Japanese Restaurant</td>\n      <td>1</td>\n      <td>1</td>\n    </tr>\n    <tr>\n      <th>3</th>\n      <td>25.0</td>\n      <td>51.519614</td>\n      <td>-0.174481</td>\n      <td>2401.0</td>\n      <td>Italian Restaurant</td>\n      <td>French Restaurant</td>\n      <td>Pizza Place</td>\n      <td>Burger Joint</td>\n      <td>Middle Eastern Restaurant</td>\n      <td>Lebanese Restaurant</td>\n      <td>Persian Restaurant</td>\n      <td>Chinese Restaurant</td>\n      <td>Greek Restaurant</td>\n      <td>Gastropub</td>\n      <td>2</td>\n      <td>6</td>\n    </tr>\n    <tr>\n      <th>10</th>\n      <td>61.0</td>\n      <td>51.523149</td>\n      <td>-0.132522</td>\n      <td>4703.0</td>\n      <td>Burger Joint</td>\n      <td>French Restaurant</td>\n      <td>Italian Restaurant</td>\n      <td>Pizza Place</td>\n      <td>Steakhouse</td>\n      <td>Indian Restaurant</td>\n      <td>Seafood Restaurant</td>\n      <td>Chinese Restaurant</td>\n      <td>English Restaurant</td>\n      <td>Spanish Restaurant</td>\n      <td>2</td>\n      <td>8</td>\n    </tr>\n    <tr>\n      <th>14</th>\n      <td>86.0</td>\n      <td>51.534714</td>\n      <td>-0.196027</td>\n      <td>2253.0</td>\n      <td>Pizza Place</td>\n      <td>Italian Restaurant</td>\n      <td>Indian Restaurant</td>\n      <td>Middle Eastern Restaurant</td>\n      <td>Thai Restaurant</td>\n      <td>Japanese Restaurant</td>\n      <td>Fast Food Restaurant</td>\n      <td>French Restaurant</td>\n      <td>Chinese Restaurant</td>\n      <td>Burger Joint</td>\n      <td>3</td>\n      <td>5</td>\n    </tr>\n    <tr>\n      <th>13</th>\n      <td>72.0</td>\n      <td>51.547940</td>\n      <td>-0.166490</td>\n      <td>2036.0</td>\n      <td>Italian Restaurant</td>\n      <td>French Restaurant</td>\n      <td>Pizza Place</td>\n      <td>Middle Eastern Restaurant</td>\n      <td>Thai Restaurant</td>\n      <td>Gastropub</td>\n      <td>Burger Joint</td>\n      <td>Indian Restaurant</td>\n      <td>Japanese Restaurant</td>\n      <td>Chinese Restaurant</td>\n      <td>3</td>\n      <td>4</td>\n    </tr>\n    <tr>\n      <th>12</th>\n      <td>71.0</td>\n      <td>51.478497</td>\n      <td>-0.130790</td>\n      <td>2707.0</td>\n      <td>Italian Restaurant</td>\n      <td>Indian Restaurant</td>\n      <td>Pizza Place</td>\n      <td>Gastropub</td>\n      <td>Portuguese Restaurant</td>\n      <td>Burger Joint</td>\n      <td>Japanese Restaurant</td>\n      <td>Chinese Restaurant</td>\n      <td>Tapas Restaurant</td>\n      <td>Mediterranean Restaurant</td>\n      <td>3</td>\n      <td>4</td>\n    </tr>\n    <tr>\n      <th>0</th>\n      <td>10.0</td>\n      <td>51.531015</td>\n      <td>-0.070671</td>\n      <td>2272.0</td>\n      <td>Italian Restaurant</td>\n      <td>Pizza Place</td>\n      <td>Burger Joint</td>\n      <td>Vietnamese Restaurant</td>\n      <td>Indian Restaurant</td>\n      <td>Middle Eastern Restaurant</td>\n      <td>Chinese Restaurant</td>\n      <td>Breakfast Spot</td>\n      <td>Gastropub</td>\n      <td>Turkish Restaurant</td>\n      <td>3</td>\n      <td>6</td>\n    </tr>\n    <tr>\n      <th>4</th>\n      <td>27.0</td>\n      <td>51.496689</td>\n      <td>-0.019123</td>\n      <td>4815.0</td>\n      <td>Italian Restaurant</td>\n      <td>Pizza Place</td>\n      <td>Fast Food Restaurant</td>\n      <td>Indian Restaurant</td>\n      <td>Burger Joint</td>\n      <td>Vietnamese Restaurant</td>\n      <td>Chinese Restaurant</td>\n      <td>English Restaurant</td>\n      <td>Sushi Restaurant</td>\n      <td>American Restaurant</td>\n      <td>3</td>\n      <td>7</td>\n    </tr>\n    <tr>\n      <th>1</th>\n      <td>12.0</td>\n      <td>51.557027</td>\n      <td>-0.118661</td>\n      <td>2858.0</td>\n      <td>Italian Restaurant</td>\n      <td>Pizza Place</td>\n      <td>Indian Restaurant</td>\n      <td>Thai Restaurant</td>\n      <td>Ethiopian Restaurant</td>\n      <td>Vietnamese Restaurant</td>\n      <td>Vegetarian / Vegan Restaurant</td>\n      <td>Tapas Restaurant</td>\n      <td>Bistro</td>\n      <td>Kebab Restaurant</td>\n      <td>3</td>\n      <td>2</td>\n    </tr>\n    <tr>\n      <th>6</th>\n      <td>31.0</td>\n      <td>51.492763</td>\n      <td>-0.100181</td>\n      <td>4130.0</td>\n      <td>Italian Restaurant</td>\n      <td>Indian Restaurant</td>\n      <td>Asian Restaurant</td>\n      <td>Pizza Place</td>\n      <td>Burger Joint</td>\n      <td>Chinese Restaurant</td>\n      <td>Portuguese Restaurant</td>\n      <td>Seafood Restaurant</td>\n      <td>French Restaurant</td>\n      <td>Sushi Restaurant</td>\n      <td>3</td>\n      <td>6</td>\n    </tr>\n    <tr>\n      <th>8</th>\n      <td>58.0</td>\n      <td>51.502225</td>\n      <td>-0.058651</td>\n      <td>3555.0</td>\n      <td>Pizza Place</td>\n      <td>Indian Restaurant</td>\n      <td>Italian Restaurant</td>\n      <td>Vietnamese Restaurant</td>\n      <td>English Restaurant</td>\n      <td>Breakfast Spot</td>\n      <td>Fast Food Restaurant</td>\n      <td>Chinese Restaurant</td>\n      <td>French Restaurant</td>\n      <td>Turkish Restaurant</td>\n      <td>3</td>\n      <td>5</td>\n    </tr>\n  </tbody>\n</table>\n</div>"
     },
     "metadata": {},
     "execution_count": 64
    }
   ],
   "source": [
    "# let's create our final dataframe by adding the coordinates of the centroids, the number of Chinese restaurants and the Chinese population\n",
    "final_table = pd.merge(clusters_df, top_venues_sorted, on='Population Cluster') \\\n",
    "    .merge(venue_crosstab['Chinese Restaurant'], on='Population Cluster') \\\n",
    "    .sort_values(by=['Venue Cluster'])\n",
    "\n",
    "final_table"
   ]
  },
  {
   "cell_type": "code",
   "execution_count": 65,
   "metadata": {},
   "outputs": [
    {
     "output_type": "execute_result",
     "data": {
      "text/plain": [
       "<pandas.io.formats.style.Styler at 0x1b452b126d0>"
      ],
      "text/html": "<style  type=\"text/css\" >\n#T_ab6ea670_1097_11eb_85c6_309c239bd47frow0_col0,#T_ab6ea670_1097_11eb_85c6_309c239bd47frow0_col1,#T_ab6ea670_1097_11eb_85c6_309c239bd47frow0_col2,#T_ab6ea670_1097_11eb_85c6_309c239bd47frow0_col3,#T_ab6ea670_1097_11eb_85c6_309c239bd47frow0_col5,#T_ab6ea670_1097_11eb_85c6_309c239bd47frow0_col6,#T_ab6ea670_1097_11eb_85c6_309c239bd47frow0_col7,#T_ab6ea670_1097_11eb_85c6_309c239bd47frow0_col8,#T_ab6ea670_1097_11eb_85c6_309c239bd47frow0_col9,#T_ab6ea670_1097_11eb_85c6_309c239bd47frow0_col10,#T_ab6ea670_1097_11eb_85c6_309c239bd47frow0_col11,#T_ab6ea670_1097_11eb_85c6_309c239bd47frow0_col12,#T_ab6ea670_1097_11eb_85c6_309c239bd47frow0_col13,#T_ab6ea670_1097_11eb_85c6_309c239bd47frow0_col14,#T_ab6ea670_1097_11eb_85c6_309c239bd47frow0_col15,#T_ab6ea670_1097_11eb_85c6_309c239bd47frow1_col0,#T_ab6ea670_1097_11eb_85c6_309c239bd47frow1_col1,#T_ab6ea670_1097_11eb_85c6_309c239bd47frow1_col2,#T_ab6ea670_1097_11eb_85c6_309c239bd47frow1_col3,#T_ab6ea670_1097_11eb_85c6_309c239bd47frow1_col5,#T_ab6ea670_1097_11eb_85c6_309c239bd47frow1_col6,#T_ab6ea670_1097_11eb_85c6_309c239bd47frow1_col7,#T_ab6ea670_1097_11eb_85c6_309c239bd47frow1_col8,#T_ab6ea670_1097_11eb_85c6_309c239bd47frow1_col9,#T_ab6ea670_1097_11eb_85c6_309c239bd47frow1_col10,#T_ab6ea670_1097_11eb_85c6_309c239bd47frow1_col11,#T_ab6ea670_1097_11eb_85c6_309c239bd47frow1_col12,#T_ab6ea670_1097_11eb_85c6_309c239bd47frow1_col13,#T_ab6ea670_1097_11eb_85c6_309c239bd47frow1_col14,#T_ab6ea670_1097_11eb_85c6_309c239bd47frow1_col15,#T_ab6ea670_1097_11eb_85c6_309c239bd47frow2_col0,#T_ab6ea670_1097_11eb_85c6_309c239bd47frow2_col1,#T_ab6ea670_1097_11eb_85c6_309c239bd47frow2_col2,#T_ab6ea670_1097_11eb_85c6_309c239bd47frow2_col3,#T_ab6ea670_1097_11eb_85c6_309c239bd47frow2_col4,#T_ab6ea670_1097_11eb_85c6_309c239bd47frow2_col5,#T_ab6ea670_1097_11eb_85c6_309c239bd47frow2_col6,#T_ab6ea670_1097_11eb_85c6_309c239bd47frow2_col7,#T_ab6ea670_1097_11eb_85c6_309c239bd47frow2_col9,#T_ab6ea670_1097_11eb_85c6_309c239bd47frow2_col10,#T_ab6ea670_1097_11eb_85c6_309c239bd47frow2_col11,#T_ab6ea670_1097_11eb_85c6_309c239bd47frow2_col12,#T_ab6ea670_1097_11eb_85c6_309c239bd47frow2_col13,#T_ab6ea670_1097_11eb_85c6_309c239bd47frow2_col14,#T_ab6ea670_1097_11eb_85c6_309c239bd47frow2_col15,#T_ab6ea670_1097_11eb_85c6_309c239bd47frow3_col0,#T_ab6ea670_1097_11eb_85c6_309c239bd47frow3_col1,#T_ab6ea670_1097_11eb_85c6_309c239bd47frow3_col2,#T_ab6ea670_1097_11eb_85c6_309c239bd47frow3_col3,#T_ab6ea670_1097_11eb_85c6_309c239bd47frow3_col5,#T_ab6ea670_1097_11eb_85c6_309c239bd47frow3_col6,#T_ab6ea670_1097_11eb_85c6_309c239bd47frow3_col7,#T_ab6ea670_1097_11eb_85c6_309c239bd47frow3_col8,#T_ab6ea670_1097_11eb_85c6_309c239bd47frow3_col9,#T_ab6ea670_1097_11eb_85c6_309c239bd47frow3_col10,#T_ab6ea670_1097_11eb_85c6_309c239bd47frow3_col11,#T_ab6ea670_1097_11eb_85c6_309c239bd47frow3_col12,#T_ab6ea670_1097_11eb_85c6_309c239bd47frow3_col13,#T_ab6ea670_1097_11eb_85c6_309c239bd47frow3_col14,#T_ab6ea670_1097_11eb_85c6_309c239bd47frow3_col15,#T_ab6ea670_1097_11eb_85c6_309c239bd47frow4_col0,#T_ab6ea670_1097_11eb_85c6_309c239bd47frow4_col1,#T_ab6ea670_1097_11eb_85c6_309c239bd47frow4_col2,#T_ab6ea670_1097_11eb_85c6_309c239bd47frow4_col3,#T_ab6ea670_1097_11eb_85c6_309c239bd47frow4_col4,#T_ab6ea670_1097_11eb_85c6_309c239bd47frow4_col5,#T_ab6ea670_1097_11eb_85c6_309c239bd47frow4_col6,#T_ab6ea670_1097_11eb_85c6_309c239bd47frow4_col7,#T_ab6ea670_1097_11eb_85c6_309c239bd47frow4_col8,#T_ab6ea670_1097_11eb_85c6_309c239bd47frow4_col9,#T_ab6ea670_1097_11eb_85c6_309c239bd47frow4_col10,#T_ab6ea670_1097_11eb_85c6_309c239bd47frow4_col11,#T_ab6ea670_1097_11eb_85c6_309c239bd47frow4_col12,#T_ab6ea670_1097_11eb_85c6_309c239bd47frow4_col13,#T_ab6ea670_1097_11eb_85c6_309c239bd47frow4_col14,#T_ab6ea670_1097_11eb_85c6_309c239bd47frow4_col15,#T_ab6ea670_1097_11eb_85c6_309c239bd47frow5_col0,#T_ab6ea670_1097_11eb_85c6_309c239bd47frow5_col1,#T_ab6ea670_1097_11eb_85c6_309c239bd47frow5_col2,#T_ab6ea670_1097_11eb_85c6_309c239bd47frow5_col3,#T_ab6ea670_1097_11eb_85c6_309c239bd47frow5_col4,#T_ab6ea670_1097_11eb_85c6_309c239bd47frow5_col5,#T_ab6ea670_1097_11eb_85c6_309c239bd47frow5_col6,#T_ab6ea670_1097_11eb_85c6_309c239bd47frow5_col7,#T_ab6ea670_1097_11eb_85c6_309c239bd47frow5_col8,#T_ab6ea670_1097_11eb_85c6_309c239bd47frow5_col9,#T_ab6ea670_1097_11eb_85c6_309c239bd47frow5_col10,#T_ab6ea670_1097_11eb_85c6_309c239bd47frow5_col11,#T_ab6ea670_1097_11eb_85c6_309c239bd47frow5_col12,#T_ab6ea670_1097_11eb_85c6_309c239bd47frow5_col13,#T_ab6ea670_1097_11eb_85c6_309c239bd47frow5_col14,#T_ab6ea670_1097_11eb_85c6_309c239bd47frow5_col15,#T_ab6ea670_1097_11eb_85c6_309c239bd47frow6_col0,#T_ab6ea670_1097_11eb_85c6_309c239bd47frow6_col1,#T_ab6ea670_1097_11eb_85c6_309c239bd47frow6_col2,#T_ab6ea670_1097_11eb_85c6_309c239bd47frow6_col3,#T_ab6ea670_1097_11eb_85c6_309c239bd47frow6_col4,#T_ab6ea670_1097_11eb_85c6_309c239bd47frow6_col5,#T_ab6ea670_1097_11eb_85c6_309c239bd47frow6_col6,#T_ab6ea670_1097_11eb_85c6_309c239bd47frow6_col7,#T_ab6ea670_1097_11eb_85c6_309c239bd47frow6_col8,#T_ab6ea670_1097_11eb_85c6_309c239bd47frow6_col9,#T_ab6ea670_1097_11eb_85c6_309c239bd47frow6_col10,#T_ab6ea670_1097_11eb_85c6_309c239bd47frow6_col11,#T_ab6ea670_1097_11eb_85c6_309c239bd47frow6_col12,#T_ab6ea670_1097_11eb_85c6_309c239bd47frow6_col13,#T_ab6ea670_1097_11eb_85c6_309c239bd47frow6_col14,#T_ab6ea670_1097_11eb_85c6_309c239bd47frow6_col15,#T_ab6ea670_1097_11eb_85c6_309c239bd47frow7_col0,#T_ab6ea670_1097_11eb_85c6_309c239bd47frow7_col1,#T_ab6ea670_1097_11eb_85c6_309c239bd47frow7_col2,#T_ab6ea670_1097_11eb_85c6_309c239bd47frow7_col3,#T_ab6ea670_1097_11eb_85c6_309c239bd47frow7_col4,#T_ab6ea670_1097_11eb_85c6_309c239bd47frow7_col5,#T_ab6ea670_1097_11eb_85c6_309c239bd47frow7_col6,#T_ab6ea670_1097_11eb_85c6_309c239bd47frow7_col7,#T_ab6ea670_1097_11eb_85c6_309c239bd47frow7_col8,#T_ab6ea670_1097_11eb_85c6_309c239bd47frow7_col9,#T_ab6ea670_1097_11eb_85c6_309c239bd47frow7_col10,#T_ab6ea670_1097_11eb_85c6_309c239bd47frow7_col12,#T_ab6ea670_1097_11eb_85c6_309c239bd47frow7_col13,#T_ab6ea670_1097_11eb_85c6_309c239bd47frow7_col14,#T_ab6ea670_1097_11eb_85c6_309c239bd47frow7_col15,#T_ab6ea670_1097_11eb_85c6_309c239bd47frow8_col0,#T_ab6ea670_1097_11eb_85c6_309c239bd47frow8_col1,#T_ab6ea670_1097_11eb_85c6_309c239bd47frow8_col2,#T_ab6ea670_1097_11eb_85c6_309c239bd47frow8_col3,#T_ab6ea670_1097_11eb_85c6_309c239bd47frow8_col4,#T_ab6ea670_1097_11eb_85c6_309c239bd47frow8_col5,#T_ab6ea670_1097_11eb_85c6_309c239bd47frow8_col6,#T_ab6ea670_1097_11eb_85c6_309c239bd47frow8_col7,#T_ab6ea670_1097_11eb_85c6_309c239bd47frow8_col8,#T_ab6ea670_1097_11eb_85c6_309c239bd47frow8_col9,#T_ab6ea670_1097_11eb_85c6_309c239bd47frow8_col10,#T_ab6ea670_1097_11eb_85c6_309c239bd47frow8_col12,#T_ab6ea670_1097_11eb_85c6_309c239bd47frow8_col13,#T_ab6ea670_1097_11eb_85c6_309c239bd47frow8_col14,#T_ab6ea670_1097_11eb_85c6_309c239bd47frow8_col15,#T_ab6ea670_1097_11eb_85c6_309c239bd47frow9_col0,#T_ab6ea670_1097_11eb_85c6_309c239bd47frow9_col1,#T_ab6ea670_1097_11eb_85c6_309c239bd47frow9_col2,#T_ab6ea670_1097_11eb_85c6_309c239bd47frow9_col3,#T_ab6ea670_1097_11eb_85c6_309c239bd47frow9_col4,#T_ab6ea670_1097_11eb_85c6_309c239bd47frow9_col5,#T_ab6ea670_1097_11eb_85c6_309c239bd47frow9_col6,#T_ab6ea670_1097_11eb_85c6_309c239bd47frow9_col7,#T_ab6ea670_1097_11eb_85c6_309c239bd47frow9_col8,#T_ab6ea670_1097_11eb_85c6_309c239bd47frow9_col9,#T_ab6ea670_1097_11eb_85c6_309c239bd47frow9_col10,#T_ab6ea670_1097_11eb_85c6_309c239bd47frow9_col11,#T_ab6ea670_1097_11eb_85c6_309c239bd47frow9_col13,#T_ab6ea670_1097_11eb_85c6_309c239bd47frow9_col14,#T_ab6ea670_1097_11eb_85c6_309c239bd47frow9_col15,#T_ab6ea670_1097_11eb_85c6_309c239bd47frow10_col0,#T_ab6ea670_1097_11eb_85c6_309c239bd47frow10_col1,#T_ab6ea670_1097_11eb_85c6_309c239bd47frow10_col2,#T_ab6ea670_1097_11eb_85c6_309c239bd47frow10_col3,#T_ab6ea670_1097_11eb_85c6_309c239bd47frow10_col4,#T_ab6ea670_1097_11eb_85c6_309c239bd47frow10_col5,#T_ab6ea670_1097_11eb_85c6_309c239bd47frow10_col6,#T_ab6ea670_1097_11eb_85c6_309c239bd47frow10_col7,#T_ab6ea670_1097_11eb_85c6_309c239bd47frow10_col8,#T_ab6ea670_1097_11eb_85c6_309c239bd47frow10_col9,#T_ab6ea670_1097_11eb_85c6_309c239bd47frow10_col10,#T_ab6ea670_1097_11eb_85c6_309c239bd47frow10_col11,#T_ab6ea670_1097_11eb_85c6_309c239bd47frow10_col12,#T_ab6ea670_1097_11eb_85c6_309c239bd47frow10_col14,#T_ab6ea670_1097_11eb_85c6_309c239bd47frow10_col15,#T_ab6ea670_1097_11eb_85c6_309c239bd47frow11_col0,#T_ab6ea670_1097_11eb_85c6_309c239bd47frow11_col1,#T_ab6ea670_1097_11eb_85c6_309c239bd47frow11_col2,#T_ab6ea670_1097_11eb_85c6_309c239bd47frow11_col3,#T_ab6ea670_1097_11eb_85c6_309c239bd47frow11_col4,#T_ab6ea670_1097_11eb_85c6_309c239bd47frow11_col5,#T_ab6ea670_1097_11eb_85c6_309c239bd47frow11_col6,#T_ab6ea670_1097_11eb_85c6_309c239bd47frow11_col7,#T_ab6ea670_1097_11eb_85c6_309c239bd47frow11_col8,#T_ab6ea670_1097_11eb_85c6_309c239bd47frow11_col9,#T_ab6ea670_1097_11eb_85c6_309c239bd47frow11_col10,#T_ab6ea670_1097_11eb_85c6_309c239bd47frow11_col12,#T_ab6ea670_1097_11eb_85c6_309c239bd47frow11_col13,#T_ab6ea670_1097_11eb_85c6_309c239bd47frow11_col14,#T_ab6ea670_1097_11eb_85c6_309c239bd47frow11_col15,#T_ab6ea670_1097_11eb_85c6_309c239bd47frow12_col0,#T_ab6ea670_1097_11eb_85c6_309c239bd47frow12_col1,#T_ab6ea670_1097_11eb_85c6_309c239bd47frow12_col2,#T_ab6ea670_1097_11eb_85c6_309c239bd47frow12_col3,#T_ab6ea670_1097_11eb_85c6_309c239bd47frow12_col4,#T_ab6ea670_1097_11eb_85c6_309c239bd47frow12_col5,#T_ab6ea670_1097_11eb_85c6_309c239bd47frow12_col6,#T_ab6ea670_1097_11eb_85c6_309c239bd47frow12_col7,#T_ab6ea670_1097_11eb_85c6_309c239bd47frow12_col8,#T_ab6ea670_1097_11eb_85c6_309c239bd47frow12_col9,#T_ab6ea670_1097_11eb_85c6_309c239bd47frow12_col11,#T_ab6ea670_1097_11eb_85c6_309c239bd47frow12_col12,#T_ab6ea670_1097_11eb_85c6_309c239bd47frow12_col13,#T_ab6ea670_1097_11eb_85c6_309c239bd47frow12_col14,#T_ab6ea670_1097_11eb_85c6_309c239bd47frow12_col15,#T_ab6ea670_1097_11eb_85c6_309c239bd47frow13_col0,#T_ab6ea670_1097_11eb_85c6_309c239bd47frow13_col1,#T_ab6ea670_1097_11eb_85c6_309c239bd47frow13_col2,#T_ab6ea670_1097_11eb_85c6_309c239bd47frow13_col3,#T_ab6ea670_1097_11eb_85c6_309c239bd47frow13_col4,#T_ab6ea670_1097_11eb_85c6_309c239bd47frow13_col5,#T_ab6ea670_1097_11eb_85c6_309c239bd47frow13_col6,#T_ab6ea670_1097_11eb_85c6_309c239bd47frow13_col7,#T_ab6ea670_1097_11eb_85c6_309c239bd47frow13_col8,#T_ab6ea670_1097_11eb_85c6_309c239bd47frow13_col9,#T_ab6ea670_1097_11eb_85c6_309c239bd47frow13_col11,#T_ab6ea670_1097_11eb_85c6_309c239bd47frow13_col12,#T_ab6ea670_1097_11eb_85c6_309c239bd47frow13_col13,#T_ab6ea670_1097_11eb_85c6_309c239bd47frow13_col14,#T_ab6ea670_1097_11eb_85c6_309c239bd47frow13_col15,#T_ab6ea670_1097_11eb_85c6_309c239bd47frow14_col0,#T_ab6ea670_1097_11eb_85c6_309c239bd47frow14_col1,#T_ab6ea670_1097_11eb_85c6_309c239bd47frow14_col2,#T_ab6ea670_1097_11eb_85c6_309c239bd47frow14_col3,#T_ab6ea670_1097_11eb_85c6_309c239bd47frow14_col4,#T_ab6ea670_1097_11eb_85c6_309c239bd47frow14_col5,#T_ab6ea670_1097_11eb_85c6_309c239bd47frow14_col6,#T_ab6ea670_1097_11eb_85c6_309c239bd47frow14_col7,#T_ab6ea670_1097_11eb_85c6_309c239bd47frow14_col8,#T_ab6ea670_1097_11eb_85c6_309c239bd47frow14_col9,#T_ab6ea670_1097_11eb_85c6_309c239bd47frow14_col10,#T_ab6ea670_1097_11eb_85c6_309c239bd47frow14_col11,#T_ab6ea670_1097_11eb_85c6_309c239bd47frow14_col12,#T_ab6ea670_1097_11eb_85c6_309c239bd47frow14_col13,#T_ab6ea670_1097_11eb_85c6_309c239bd47frow14_col14,#T_ab6ea670_1097_11eb_85c6_309c239bd47frow14_col15,#T_ab6ea670_1097_11eb_85c6_309c239bd47frow15_col0,#T_ab6ea670_1097_11eb_85c6_309c239bd47frow15_col1,#T_ab6ea670_1097_11eb_85c6_309c239bd47frow15_col2,#T_ab6ea670_1097_11eb_85c6_309c239bd47frow15_col3,#T_ab6ea670_1097_11eb_85c6_309c239bd47frow15_col4,#T_ab6ea670_1097_11eb_85c6_309c239bd47frow15_col5,#T_ab6ea670_1097_11eb_85c6_309c239bd47frow15_col6,#T_ab6ea670_1097_11eb_85c6_309c239bd47frow15_col7,#T_ab6ea670_1097_11eb_85c6_309c239bd47frow15_col8,#T_ab6ea670_1097_11eb_85c6_309c239bd47frow15_col10,#T_ab6ea670_1097_11eb_85c6_309c239bd47frow15_col11,#T_ab6ea670_1097_11eb_85c6_309c239bd47frow15_col12,#T_ab6ea670_1097_11eb_85c6_309c239bd47frow15_col13,#T_ab6ea670_1097_11eb_85c6_309c239bd47frow15_col14,#T_ab6ea670_1097_11eb_85c6_309c239bd47frow15_col15,#T_ab6ea670_1097_11eb_85c6_309c239bd47frow16_col0,#T_ab6ea670_1097_11eb_85c6_309c239bd47frow16_col1,#T_ab6ea670_1097_11eb_85c6_309c239bd47frow16_col2,#T_ab6ea670_1097_11eb_85c6_309c239bd47frow16_col3,#T_ab6ea670_1097_11eb_85c6_309c239bd47frow16_col4,#T_ab6ea670_1097_11eb_85c6_309c239bd47frow16_col5,#T_ab6ea670_1097_11eb_85c6_309c239bd47frow16_col6,#T_ab6ea670_1097_11eb_85c6_309c239bd47frow16_col7,#T_ab6ea670_1097_11eb_85c6_309c239bd47frow16_col8,#T_ab6ea670_1097_11eb_85c6_309c239bd47frow16_col9,#T_ab6ea670_1097_11eb_85c6_309c239bd47frow16_col10,#T_ab6ea670_1097_11eb_85c6_309c239bd47frow16_col12,#T_ab6ea670_1097_11eb_85c6_309c239bd47frow16_col13,#T_ab6ea670_1097_11eb_85c6_309c239bd47frow16_col14,#T_ab6ea670_1097_11eb_85c6_309c239bd47frow16_col15{\n            color:  ;\n        }#T_ab6ea670_1097_11eb_85c6_309c239bd47frow0_col4,#T_ab6ea670_1097_11eb_85c6_309c239bd47frow1_col4,#T_ab6ea670_1097_11eb_85c6_309c239bd47frow2_col8,#T_ab6ea670_1097_11eb_85c6_309c239bd47frow3_col4,#T_ab6ea670_1097_11eb_85c6_309c239bd47frow7_col11,#T_ab6ea670_1097_11eb_85c6_309c239bd47frow8_col11,#T_ab6ea670_1097_11eb_85c6_309c239bd47frow9_col12,#T_ab6ea670_1097_11eb_85c6_309c239bd47frow10_col13,#T_ab6ea670_1097_11eb_85c6_309c239bd47frow11_col11,#T_ab6ea670_1097_11eb_85c6_309c239bd47frow12_col10,#T_ab6ea670_1097_11eb_85c6_309c239bd47frow13_col10,#T_ab6ea670_1097_11eb_85c6_309c239bd47frow15_col9,#T_ab6ea670_1097_11eb_85c6_309c239bd47frow16_col11{\n            color:  magenta;\n        }</style><table id=\"T_ab6ea670_1097_11eb_85c6_309c239bd47f\" ><thead>    <tr>        <th class=\"blank level0\" ></th>        <th class=\"col_heading level0 col0\" >Population Cluster</th>        <th class=\"col_heading level0 col1\" >Latitude</th>        <th class=\"col_heading level0 col2\" >Longitude</th>        <th class=\"col_heading level0 col3\" >Chinese Population</th>        <th class=\"col_heading level0 col4\" >1st Most Popular Venue</th>        <th class=\"col_heading level0 col5\" >2nd Most Popular Venue</th>        <th class=\"col_heading level0 col6\" >3rd Most Popular Venue</th>        <th class=\"col_heading level0 col7\" >4th Most Popular Venue</th>        <th class=\"col_heading level0 col8\" >5th Most Popular Venue</th>        <th class=\"col_heading level0 col9\" >6th Most Popular Venue</th>        <th class=\"col_heading level0 col10\" >7th Most Popular Venue</th>        <th class=\"col_heading level0 col11\" >8th Most Popular Venue</th>        <th class=\"col_heading level0 col12\" >9th Most Popular Venue</th>        <th class=\"col_heading level0 col13\" >10th Most Popular Venue</th>        <th class=\"col_heading level0 col14\" >Venue Cluster</th>        <th class=\"col_heading level0 col15\" >Chinese Restaurant</th>    </tr></thead><tbody>\n                <tr>\n                        <th id=\"T_ab6ea670_1097_11eb_85c6_309c239bd47flevel0_row0\" class=\"row_heading level0 row0\" >16</th>\n                        <td id=\"T_ab6ea670_1097_11eb_85c6_309c239bd47frow0_col0\" class=\"data row0 col0\" >90.000000</td>\n                        <td id=\"T_ab6ea670_1097_11eb_85c6_309c239bd47frow0_col1\" class=\"data row0 col1\" >51.469918</td>\n                        <td id=\"T_ab6ea670_1097_11eb_85c6_309c239bd47frow0_col2\" class=\"data row0 col2\" >-0.075850</td>\n                        <td id=\"T_ab6ea670_1097_11eb_85c6_309c239bd47frow0_col3\" class=\"data row0 col3\" >2175.000000</td>\n                        <td id=\"T_ab6ea670_1097_11eb_85c6_309c239bd47frow0_col4\" class=\"data row0 col4\" >Chinese Restaurant</td>\n                        <td id=\"T_ab6ea670_1097_11eb_85c6_309c239bd47frow0_col5\" class=\"data row0 col5\" >Pizza Place</td>\n                        <td id=\"T_ab6ea670_1097_11eb_85c6_309c239bd47frow0_col6\" class=\"data row0 col6\" >Gastropub</td>\n                        <td id=\"T_ab6ea670_1097_11eb_85c6_309c239bd47frow0_col7\" class=\"data row0 col7\" >Italian Restaurant</td>\n                        <td id=\"T_ab6ea670_1097_11eb_85c6_309c239bd47frow0_col8\" class=\"data row0 col8\" >Fast Food Restaurant</td>\n                        <td id=\"T_ab6ea670_1097_11eb_85c6_309c239bd47frow0_col9\" class=\"data row0 col9\" >Fried Chicken Joint</td>\n                        <td id=\"T_ab6ea670_1097_11eb_85c6_309c239bd47frow0_col10\" class=\"data row0 col10\" >Indian Restaurant</td>\n                        <td id=\"T_ab6ea670_1097_11eb_85c6_309c239bd47frow0_col11\" class=\"data row0 col11\" >Fish & Chips Shop</td>\n                        <td id=\"T_ab6ea670_1097_11eb_85c6_309c239bd47frow0_col12\" class=\"data row0 col12\" >Burger Joint</td>\n                        <td id=\"T_ab6ea670_1097_11eb_85c6_309c239bd47frow0_col13\" class=\"data row0 col13\" >Middle Eastern Restaurant</td>\n                        <td id=\"T_ab6ea670_1097_11eb_85c6_309c239bd47frow0_col14\" class=\"data row0 col14\" >0</td>\n                        <td id=\"T_ab6ea670_1097_11eb_85c6_309c239bd47frow0_col15\" class=\"data row0 col15\" >11</td>\n            </tr>\n            <tr>\n                        <th id=\"T_ab6ea670_1097_11eb_85c6_309c239bd47flevel0_row1\" class=\"row_heading level0 row1\" >2</th>\n                        <td id=\"T_ab6ea670_1097_11eb_85c6_309c239bd47frow1_col0\" class=\"data row1 col0\" >17.000000</td>\n                        <td id=\"T_ab6ea670_1097_11eb_85c6_309c239bd47frow1_col1\" class=\"data row1 col1\" >51.595919</td>\n                        <td id=\"T_ab6ea670_1097_11eb_85c6_309c239bd47frow1_col2\" class=\"data row1 col2\" >-0.248091</td>\n                        <td id=\"T_ab6ea670_1097_11eb_85c6_309c239bd47frow1_col3\" class=\"data row1 col3\" >2502.000000</td>\n                        <td id=\"T_ab6ea670_1097_11eb_85c6_309c239bd47frow1_col4\" class=\"data row1 col4\" >Chinese Restaurant</td>\n                        <td id=\"T_ab6ea670_1097_11eb_85c6_309c239bd47frow1_col5\" class=\"data row1 col5\" >Fast Food Restaurant</td>\n                        <td id=\"T_ab6ea670_1097_11eb_85c6_309c239bd47frow1_col6\" class=\"data row1 col6\" >Indian Restaurant</td>\n                        <td id=\"T_ab6ea670_1097_11eb_85c6_309c239bd47frow1_col7\" class=\"data row1 col7\" >Korean Restaurant</td>\n                        <td id=\"T_ab6ea670_1097_11eb_85c6_309c239bd47frow1_col8\" class=\"data row1 col8\" >Japanese Restaurant</td>\n                        <td id=\"T_ab6ea670_1097_11eb_85c6_309c239bd47frow1_col9\" class=\"data row1 col9\" >Italian Restaurant</td>\n                        <td id=\"T_ab6ea670_1097_11eb_85c6_309c239bd47frow1_col10\" class=\"data row1 col10\" >Sushi Restaurant</td>\n                        <td id=\"T_ab6ea670_1097_11eb_85c6_309c239bd47frow1_col11\" class=\"data row1 col11\" >Asian Restaurant</td>\n                        <td id=\"T_ab6ea670_1097_11eb_85c6_309c239bd47frow1_col12\" class=\"data row1 col12\" >Fried Chicken Joint</td>\n                        <td id=\"T_ab6ea670_1097_11eb_85c6_309c239bd47frow1_col13\" class=\"data row1 col13\" >Thai Restaurant</td>\n                        <td id=\"T_ab6ea670_1097_11eb_85c6_309c239bd47frow1_col14\" class=\"data row1 col14\" >0</td>\n                        <td id=\"T_ab6ea670_1097_11eb_85c6_309c239bd47frow1_col15\" class=\"data row1 col15\" >5</td>\n            </tr>\n            <tr>\n                        <th id=\"T_ab6ea670_1097_11eb_85c6_309c239bd47flevel0_row2\" class=\"row_heading level0 row2\" >15</th>\n                        <td id=\"T_ab6ea670_1097_11eb_85c6_309c239bd47frow2_col0\" class=\"data row2 col0\" >87.000000</td>\n                        <td id=\"T_ab6ea670_1097_11eb_85c6_309c239bd47frow2_col1\" class=\"data row2 col1\" >51.520744</td>\n                        <td id=\"T_ab6ea670_1097_11eb_85c6_309c239bd47frow2_col2\" class=\"data row2 col2\" >-0.026784</td>\n                        <td id=\"T_ab6ea670_1097_11eb_85c6_309c239bd47frow2_col3\" class=\"data row2 col3\" >2486.000000</td>\n                        <td id=\"T_ab6ea670_1097_11eb_85c6_309c239bd47frow2_col4\" class=\"data row2 col4\" >Pizza Place</td>\n                        <td id=\"T_ab6ea670_1097_11eb_85c6_309c239bd47frow2_col5\" class=\"data row2 col5\" >Italian Restaurant</td>\n                        <td id=\"T_ab6ea670_1097_11eb_85c6_309c239bd47frow2_col6\" class=\"data row2 col6\" >Fried Chicken Joint</td>\n                        <td id=\"T_ab6ea670_1097_11eb_85c6_309c239bd47frow2_col7\" class=\"data row2 col7\" >Burger Joint</td>\n                        <td id=\"T_ab6ea670_1097_11eb_85c6_309c239bd47frow2_col8\" class=\"data row2 col8\" >Chinese Restaurant</td>\n                        <td id=\"T_ab6ea670_1097_11eb_85c6_309c239bd47frow2_col9\" class=\"data row2 col9\" >Indian Restaurant</td>\n                        <td id=\"T_ab6ea670_1097_11eb_85c6_309c239bd47frow2_col10\" class=\"data row2 col10\" >Fast Food Restaurant</td>\n                        <td id=\"T_ab6ea670_1097_11eb_85c6_309c239bd47frow2_col11\" class=\"data row2 col11\" >English Restaurant</td>\n                        <td id=\"T_ab6ea670_1097_11eb_85c6_309c239bd47frow2_col12\" class=\"data row2 col12\" >Turkish Restaurant</td>\n                        <td id=\"T_ab6ea670_1097_11eb_85c6_309c239bd47frow2_col13\" class=\"data row2 col13\" >Portuguese Restaurant</td>\n                        <td id=\"T_ab6ea670_1097_11eb_85c6_309c239bd47frow2_col14\" class=\"data row2 col14\" >0</td>\n                        <td id=\"T_ab6ea670_1097_11eb_85c6_309c239bd47frow2_col15\" class=\"data row2 col15\" >6</td>\n            </tr>\n            <tr>\n                        <th id=\"T_ab6ea670_1097_11eb_85c6_309c239bd47flevel0_row3\" class=\"row_heading level0 row3\" >11</th>\n                        <td id=\"T_ab6ea670_1097_11eb_85c6_309c239bd47frow3_col0\" class=\"data row3 col0\" >69.000000</td>\n                        <td id=\"T_ab6ea670_1097_11eb_85c6_309c239bd47frow3_col1\" class=\"data row3 col1\" >51.475223</td>\n                        <td id=\"T_ab6ea670_1097_11eb_85c6_309c239bd47frow3_col2\" class=\"data row3 col2\" >-0.035682</td>\n                        <td id=\"T_ab6ea670_1097_11eb_85c6_309c239bd47frow3_col3\" class=\"data row3 col3\" >3333.000000</td>\n                        <td id=\"T_ab6ea670_1097_11eb_85c6_309c239bd47frow3_col4\" class=\"data row3 col4\" >Chinese Restaurant</td>\n                        <td id=\"T_ab6ea670_1097_11eb_85c6_309c239bd47frow3_col5\" class=\"data row3 col5\" >Pizza Place</td>\n                        <td id=\"T_ab6ea670_1097_11eb_85c6_309c239bd47frow3_col6\" class=\"data row3 col6\" >Vietnamese Restaurant</td>\n                        <td id=\"T_ab6ea670_1097_11eb_85c6_309c239bd47frow3_col7\" class=\"data row3 col7\" >Gastropub</td>\n                        <td id=\"T_ab6ea670_1097_11eb_85c6_309c239bd47frow3_col8\" class=\"data row3 col8\" >Indian Restaurant</td>\n                        <td id=\"T_ab6ea670_1097_11eb_85c6_309c239bd47frow3_col9\" class=\"data row3 col9\" >Italian Restaurant</td>\n                        <td id=\"T_ab6ea670_1097_11eb_85c6_309c239bd47frow3_col10\" class=\"data row3 col10\" >Fish & Chips Shop</td>\n                        <td id=\"T_ab6ea670_1097_11eb_85c6_309c239bd47frow3_col11\" class=\"data row3 col11\" >Turkish Restaurant</td>\n                        <td id=\"T_ab6ea670_1097_11eb_85c6_309c239bd47frow3_col12\" class=\"data row3 col12\" >Fast Food Restaurant</td>\n                        <td id=\"T_ab6ea670_1097_11eb_85c6_309c239bd47frow3_col13\" class=\"data row3 col13\" >Food Truck</td>\n                        <td id=\"T_ab6ea670_1097_11eb_85c6_309c239bd47frow3_col14\" class=\"data row3 col14\" >0</td>\n                        <td id=\"T_ab6ea670_1097_11eb_85c6_309c239bd47frow3_col15\" class=\"data row3 col15\" >7</td>\n            </tr>\n            <tr>\n                        <th id=\"T_ab6ea670_1097_11eb_85c6_309c239bd47flevel0_row4\" class=\"row_heading level0 row4\" >5</th>\n                        <td id=\"T_ab6ea670_1097_11eb_85c6_309c239bd47frow4_col0\" class=\"data row4 col0\" >29.000000</td>\n                        <td id=\"T_ab6ea670_1097_11eb_85c6_309c239bd47frow4_col1\" class=\"data row4 col1\" >51.488689</td>\n                        <td id=\"T_ab6ea670_1097_11eb_85c6_309c239bd47frow4_col2\" class=\"data row4 col2\" >-0.173916</td>\n                        <td id=\"T_ab6ea670_1097_11eb_85c6_309c239bd47frow4_col3\" class=\"data row4 col3\" >2542.000000</td>\n                        <td id=\"T_ab6ea670_1097_11eb_85c6_309c239bd47frow4_col4\" class=\"data row4 col4\" >Italian Restaurant</td>\n                        <td id=\"T_ab6ea670_1097_11eb_85c6_309c239bd47frow4_col5\" class=\"data row4 col5\" >Pizza Place</td>\n                        <td id=\"T_ab6ea670_1097_11eb_85c6_309c239bd47frow4_col6\" class=\"data row4 col6\" >French Restaurant</td>\n                        <td id=\"T_ab6ea670_1097_11eb_85c6_309c239bd47frow4_col7\" class=\"data row4 col7\" >Japanese Restaurant</td>\n                        <td id=\"T_ab6ea670_1097_11eb_85c6_309c239bd47frow4_col8\" class=\"data row4 col8\" >Indian Restaurant</td>\n                        <td id=\"T_ab6ea670_1097_11eb_85c6_309c239bd47frow4_col9\" class=\"data row4 col9\" >Burger Joint</td>\n                        <td id=\"T_ab6ea670_1097_11eb_85c6_309c239bd47frow4_col10\" class=\"data row4 col10\" >Gastropub</td>\n                        <td id=\"T_ab6ea670_1097_11eb_85c6_309c239bd47frow4_col11\" class=\"data row4 col11\" >English Restaurant</td>\n                        <td id=\"T_ab6ea670_1097_11eb_85c6_309c239bd47frow4_col12\" class=\"data row4 col12\" >Middle Eastern Restaurant</td>\n                        <td id=\"T_ab6ea670_1097_11eb_85c6_309c239bd47frow4_col13\" class=\"data row4 col13\" >Thai Restaurant</td>\n                        <td id=\"T_ab6ea670_1097_11eb_85c6_309c239bd47frow4_col14\" class=\"data row4 col14\" >1</td>\n                        <td id=\"T_ab6ea670_1097_11eb_85c6_309c239bd47frow4_col15\" class=\"data row4 col15\" >5</td>\n            </tr>\n            <tr>\n                        <th id=\"T_ab6ea670_1097_11eb_85c6_309c239bd47flevel0_row5\" class=\"row_heading level0 row5\" >7</th>\n                        <td id=\"T_ab6ea670_1097_11eb_85c6_309c239bd47frow5_col0\" class=\"data row5 col0\" >54.000000</td>\n                        <td id=\"T_ab6ea670_1097_11eb_85c6_309c239bd47frow5_col1\" class=\"data row5 col1\" >51.531389</td>\n                        <td id=\"T_ab6ea670_1097_11eb_85c6_309c239bd47frow5_col2\" class=\"data row5 col2\" >-0.102945</td>\n                        <td id=\"T_ab6ea670_1097_11eb_85c6_309c239bd47frow5_col3\" class=\"data row5 col3\" >3189.000000</td>\n                        <td id=\"T_ab6ea670_1097_11eb_85c6_309c239bd47frow5_col4\" class=\"data row5 col4\" >Italian Restaurant</td>\n                        <td id=\"T_ab6ea670_1097_11eb_85c6_309c239bd47frow5_col5\" class=\"data row5 col5\" >Pizza Place</td>\n                        <td id=\"T_ab6ea670_1097_11eb_85c6_309c239bd47frow5_col6\" class=\"data row5 col6\" >Vietnamese Restaurant</td>\n                        <td id=\"T_ab6ea670_1097_11eb_85c6_309c239bd47frow5_col7\" class=\"data row5 col7\" >Burger Joint</td>\n                        <td id=\"T_ab6ea670_1097_11eb_85c6_309c239bd47frow5_col8\" class=\"data row5 col8\" >French Restaurant</td>\n                        <td id=\"T_ab6ea670_1097_11eb_85c6_309c239bd47frow5_col9\" class=\"data row5 col9\" >Gastropub</td>\n                        <td id=\"T_ab6ea670_1097_11eb_85c6_309c239bd47frow5_col10\" class=\"data row5 col10\" >Japanese Restaurant</td>\n                        <td id=\"T_ab6ea670_1097_11eb_85c6_309c239bd47frow5_col11\" class=\"data row5 col11\" >Steakhouse</td>\n                        <td id=\"T_ab6ea670_1097_11eb_85c6_309c239bd47frow5_col12\" class=\"data row5 col12\" >Food Truck</td>\n                        <td id=\"T_ab6ea670_1097_11eb_85c6_309c239bd47frow5_col13\" class=\"data row5 col13\" >Indian Restaurant</td>\n                        <td id=\"T_ab6ea670_1097_11eb_85c6_309c239bd47frow5_col14\" class=\"data row5 col14\" >1</td>\n                        <td id=\"T_ab6ea670_1097_11eb_85c6_309c239bd47frow5_col15\" class=\"data row5 col15\" >2</td>\n            </tr>\n            <tr>\n                        <th id=\"T_ab6ea670_1097_11eb_85c6_309c239bd47flevel0_row6\" class=\"row_heading level0 row6\" >9</th>\n                        <td id=\"T_ab6ea670_1097_11eb_85c6_309c239bd47frow6_col0\" class=\"data row6 col0\" >59.000000</td>\n                        <td id=\"T_ab6ea670_1097_11eb_85c6_309c239bd47frow6_col1\" class=\"data row6 col1\" >51.491664</td>\n                        <td id=\"T_ab6ea670_1097_11eb_85c6_309c239bd47frow6_col2\" class=\"data row6 col2\" >-0.201069</td>\n                        <td id=\"T_ab6ea670_1097_11eb_85c6_309c239bd47frow6_col3\" class=\"data row6 col3\" >4004.000000</td>\n                        <td id=\"T_ab6ea670_1097_11eb_85c6_309c239bd47frow6_col4\" class=\"data row6 col4\" >Italian Restaurant</td>\n                        <td id=\"T_ab6ea670_1097_11eb_85c6_309c239bd47frow6_col5\" class=\"data row6 col5\" >Pizza Place</td>\n                        <td id=\"T_ab6ea670_1097_11eb_85c6_309c239bd47frow6_col6\" class=\"data row6 col6\" >Indian Restaurant</td>\n                        <td id=\"T_ab6ea670_1097_11eb_85c6_309c239bd47frow6_col7\" class=\"data row6 col7\" >Gastropub</td>\n                        <td id=\"T_ab6ea670_1097_11eb_85c6_309c239bd47frow6_col8\" class=\"data row6 col8\" >Burger Joint</td>\n                        <td id=\"T_ab6ea670_1097_11eb_85c6_309c239bd47frow6_col9\" class=\"data row6 col9\" >Thai Restaurant</td>\n                        <td id=\"T_ab6ea670_1097_11eb_85c6_309c239bd47frow6_col10\" class=\"data row6 col10\" >Middle Eastern Restaurant</td>\n                        <td id=\"T_ab6ea670_1097_11eb_85c6_309c239bd47frow6_col11\" class=\"data row6 col11\" >Mediterranean Restaurant</td>\n                        <td id=\"T_ab6ea670_1097_11eb_85c6_309c239bd47frow6_col12\" class=\"data row6 col12\" >French Restaurant</td>\n                        <td id=\"T_ab6ea670_1097_11eb_85c6_309c239bd47frow6_col13\" class=\"data row6 col13\" >Japanese Restaurant</td>\n                        <td id=\"T_ab6ea670_1097_11eb_85c6_309c239bd47frow6_col14\" class=\"data row6 col14\" >1</td>\n                        <td id=\"T_ab6ea670_1097_11eb_85c6_309c239bd47frow6_col15\" class=\"data row6 col15\" >1</td>\n            </tr>\n            <tr>\n                        <th id=\"T_ab6ea670_1097_11eb_85c6_309c239bd47flevel0_row7\" class=\"row_heading level0 row7\" >3</th>\n                        <td id=\"T_ab6ea670_1097_11eb_85c6_309c239bd47frow7_col0\" class=\"data row7 col0\" >25.000000</td>\n                        <td id=\"T_ab6ea670_1097_11eb_85c6_309c239bd47frow7_col1\" class=\"data row7 col1\" >51.519614</td>\n                        <td id=\"T_ab6ea670_1097_11eb_85c6_309c239bd47frow7_col2\" class=\"data row7 col2\" >-0.174481</td>\n                        <td id=\"T_ab6ea670_1097_11eb_85c6_309c239bd47frow7_col3\" class=\"data row7 col3\" >2401.000000</td>\n                        <td id=\"T_ab6ea670_1097_11eb_85c6_309c239bd47frow7_col4\" class=\"data row7 col4\" >Italian Restaurant</td>\n                        <td id=\"T_ab6ea670_1097_11eb_85c6_309c239bd47frow7_col5\" class=\"data row7 col5\" >French Restaurant</td>\n                        <td id=\"T_ab6ea670_1097_11eb_85c6_309c239bd47frow7_col6\" class=\"data row7 col6\" >Pizza Place</td>\n                        <td id=\"T_ab6ea670_1097_11eb_85c6_309c239bd47frow7_col7\" class=\"data row7 col7\" >Burger Joint</td>\n                        <td id=\"T_ab6ea670_1097_11eb_85c6_309c239bd47frow7_col8\" class=\"data row7 col8\" >Middle Eastern Restaurant</td>\n                        <td id=\"T_ab6ea670_1097_11eb_85c6_309c239bd47frow7_col9\" class=\"data row7 col9\" >Lebanese Restaurant</td>\n                        <td id=\"T_ab6ea670_1097_11eb_85c6_309c239bd47frow7_col10\" class=\"data row7 col10\" >Persian Restaurant</td>\n                        <td id=\"T_ab6ea670_1097_11eb_85c6_309c239bd47frow7_col11\" class=\"data row7 col11\" >Chinese Restaurant</td>\n                        <td id=\"T_ab6ea670_1097_11eb_85c6_309c239bd47frow7_col12\" class=\"data row7 col12\" >Greek Restaurant</td>\n                        <td id=\"T_ab6ea670_1097_11eb_85c6_309c239bd47frow7_col13\" class=\"data row7 col13\" >Gastropub</td>\n                        <td id=\"T_ab6ea670_1097_11eb_85c6_309c239bd47frow7_col14\" class=\"data row7 col14\" >2</td>\n                        <td id=\"T_ab6ea670_1097_11eb_85c6_309c239bd47frow7_col15\" class=\"data row7 col15\" >6</td>\n            </tr>\n            <tr>\n                        <th id=\"T_ab6ea670_1097_11eb_85c6_309c239bd47flevel0_row8\" class=\"row_heading level0 row8\" >10</th>\n                        <td id=\"T_ab6ea670_1097_11eb_85c6_309c239bd47frow8_col0\" class=\"data row8 col0\" >61.000000</td>\n                        <td id=\"T_ab6ea670_1097_11eb_85c6_309c239bd47frow8_col1\" class=\"data row8 col1\" >51.523149</td>\n                        <td id=\"T_ab6ea670_1097_11eb_85c6_309c239bd47frow8_col2\" class=\"data row8 col2\" >-0.132522</td>\n                        <td id=\"T_ab6ea670_1097_11eb_85c6_309c239bd47frow8_col3\" class=\"data row8 col3\" >4703.000000</td>\n                        <td id=\"T_ab6ea670_1097_11eb_85c6_309c239bd47frow8_col4\" class=\"data row8 col4\" >Burger Joint</td>\n                        <td id=\"T_ab6ea670_1097_11eb_85c6_309c239bd47frow8_col5\" class=\"data row8 col5\" >French Restaurant</td>\n                        <td id=\"T_ab6ea670_1097_11eb_85c6_309c239bd47frow8_col6\" class=\"data row8 col6\" >Italian Restaurant</td>\n                        <td id=\"T_ab6ea670_1097_11eb_85c6_309c239bd47frow8_col7\" class=\"data row8 col7\" >Pizza Place</td>\n                        <td id=\"T_ab6ea670_1097_11eb_85c6_309c239bd47frow8_col8\" class=\"data row8 col8\" >Steakhouse</td>\n                        <td id=\"T_ab6ea670_1097_11eb_85c6_309c239bd47frow8_col9\" class=\"data row8 col9\" >Indian Restaurant</td>\n                        <td id=\"T_ab6ea670_1097_11eb_85c6_309c239bd47frow8_col10\" class=\"data row8 col10\" >Seafood Restaurant</td>\n                        <td id=\"T_ab6ea670_1097_11eb_85c6_309c239bd47frow8_col11\" class=\"data row8 col11\" >Chinese Restaurant</td>\n                        <td id=\"T_ab6ea670_1097_11eb_85c6_309c239bd47frow8_col12\" class=\"data row8 col12\" >English Restaurant</td>\n                        <td id=\"T_ab6ea670_1097_11eb_85c6_309c239bd47frow8_col13\" class=\"data row8 col13\" >Spanish Restaurant</td>\n                        <td id=\"T_ab6ea670_1097_11eb_85c6_309c239bd47frow8_col14\" class=\"data row8 col14\" >2</td>\n                        <td id=\"T_ab6ea670_1097_11eb_85c6_309c239bd47frow8_col15\" class=\"data row8 col15\" >8</td>\n            </tr>\n            <tr>\n                        <th id=\"T_ab6ea670_1097_11eb_85c6_309c239bd47flevel0_row9\" class=\"row_heading level0 row9\" >14</th>\n                        <td id=\"T_ab6ea670_1097_11eb_85c6_309c239bd47frow9_col0\" class=\"data row9 col0\" >86.000000</td>\n                        <td id=\"T_ab6ea670_1097_11eb_85c6_309c239bd47frow9_col1\" class=\"data row9 col1\" >51.534714</td>\n                        <td id=\"T_ab6ea670_1097_11eb_85c6_309c239bd47frow9_col2\" class=\"data row9 col2\" >-0.196027</td>\n                        <td id=\"T_ab6ea670_1097_11eb_85c6_309c239bd47frow9_col3\" class=\"data row9 col3\" >2253.000000</td>\n                        <td id=\"T_ab6ea670_1097_11eb_85c6_309c239bd47frow9_col4\" class=\"data row9 col4\" >Pizza Place</td>\n                        <td id=\"T_ab6ea670_1097_11eb_85c6_309c239bd47frow9_col5\" class=\"data row9 col5\" >Italian Restaurant</td>\n                        <td id=\"T_ab6ea670_1097_11eb_85c6_309c239bd47frow9_col6\" class=\"data row9 col6\" >Indian Restaurant</td>\n                        <td id=\"T_ab6ea670_1097_11eb_85c6_309c239bd47frow9_col7\" class=\"data row9 col7\" >Middle Eastern Restaurant</td>\n                        <td id=\"T_ab6ea670_1097_11eb_85c6_309c239bd47frow9_col8\" class=\"data row9 col8\" >Thai Restaurant</td>\n                        <td id=\"T_ab6ea670_1097_11eb_85c6_309c239bd47frow9_col9\" class=\"data row9 col9\" >Japanese Restaurant</td>\n                        <td id=\"T_ab6ea670_1097_11eb_85c6_309c239bd47frow9_col10\" class=\"data row9 col10\" >Fast Food Restaurant</td>\n                        <td id=\"T_ab6ea670_1097_11eb_85c6_309c239bd47frow9_col11\" class=\"data row9 col11\" >French Restaurant</td>\n                        <td id=\"T_ab6ea670_1097_11eb_85c6_309c239bd47frow9_col12\" class=\"data row9 col12\" >Chinese Restaurant</td>\n                        <td id=\"T_ab6ea670_1097_11eb_85c6_309c239bd47frow9_col13\" class=\"data row9 col13\" >Burger Joint</td>\n                        <td id=\"T_ab6ea670_1097_11eb_85c6_309c239bd47frow9_col14\" class=\"data row9 col14\" >3</td>\n                        <td id=\"T_ab6ea670_1097_11eb_85c6_309c239bd47frow9_col15\" class=\"data row9 col15\" >5</td>\n            </tr>\n            <tr>\n                        <th id=\"T_ab6ea670_1097_11eb_85c6_309c239bd47flevel0_row10\" class=\"row_heading level0 row10\" >13</th>\n                        <td id=\"T_ab6ea670_1097_11eb_85c6_309c239bd47frow10_col0\" class=\"data row10 col0\" >72.000000</td>\n                        <td id=\"T_ab6ea670_1097_11eb_85c6_309c239bd47frow10_col1\" class=\"data row10 col1\" >51.547940</td>\n                        <td id=\"T_ab6ea670_1097_11eb_85c6_309c239bd47frow10_col2\" class=\"data row10 col2\" >-0.166490</td>\n                        <td id=\"T_ab6ea670_1097_11eb_85c6_309c239bd47frow10_col3\" class=\"data row10 col3\" >2036.000000</td>\n                        <td id=\"T_ab6ea670_1097_11eb_85c6_309c239bd47frow10_col4\" class=\"data row10 col4\" >Italian Restaurant</td>\n                        <td id=\"T_ab6ea670_1097_11eb_85c6_309c239bd47frow10_col5\" class=\"data row10 col5\" >French Restaurant</td>\n                        <td id=\"T_ab6ea670_1097_11eb_85c6_309c239bd47frow10_col6\" class=\"data row10 col6\" >Pizza Place</td>\n                        <td id=\"T_ab6ea670_1097_11eb_85c6_309c239bd47frow10_col7\" class=\"data row10 col7\" >Middle Eastern Restaurant</td>\n                        <td id=\"T_ab6ea670_1097_11eb_85c6_309c239bd47frow10_col8\" class=\"data row10 col8\" >Thai Restaurant</td>\n                        <td id=\"T_ab6ea670_1097_11eb_85c6_309c239bd47frow10_col9\" class=\"data row10 col9\" >Gastropub</td>\n                        <td id=\"T_ab6ea670_1097_11eb_85c6_309c239bd47frow10_col10\" class=\"data row10 col10\" >Burger Joint</td>\n                        <td id=\"T_ab6ea670_1097_11eb_85c6_309c239bd47frow10_col11\" class=\"data row10 col11\" >Indian Restaurant</td>\n                        <td id=\"T_ab6ea670_1097_11eb_85c6_309c239bd47frow10_col12\" class=\"data row10 col12\" >Japanese Restaurant</td>\n                        <td id=\"T_ab6ea670_1097_11eb_85c6_309c239bd47frow10_col13\" class=\"data row10 col13\" >Chinese Restaurant</td>\n                        <td id=\"T_ab6ea670_1097_11eb_85c6_309c239bd47frow10_col14\" class=\"data row10 col14\" >3</td>\n                        <td id=\"T_ab6ea670_1097_11eb_85c6_309c239bd47frow10_col15\" class=\"data row10 col15\" >4</td>\n            </tr>\n            <tr>\n                        <th id=\"T_ab6ea670_1097_11eb_85c6_309c239bd47flevel0_row11\" class=\"row_heading level0 row11\" >12</th>\n                        <td id=\"T_ab6ea670_1097_11eb_85c6_309c239bd47frow11_col0\" class=\"data row11 col0\" >71.000000</td>\n                        <td id=\"T_ab6ea670_1097_11eb_85c6_309c239bd47frow11_col1\" class=\"data row11 col1\" >51.478497</td>\n                        <td id=\"T_ab6ea670_1097_11eb_85c6_309c239bd47frow11_col2\" class=\"data row11 col2\" >-0.130790</td>\n                        <td id=\"T_ab6ea670_1097_11eb_85c6_309c239bd47frow11_col3\" class=\"data row11 col3\" >2707.000000</td>\n                        <td id=\"T_ab6ea670_1097_11eb_85c6_309c239bd47frow11_col4\" class=\"data row11 col4\" >Italian Restaurant</td>\n                        <td id=\"T_ab6ea670_1097_11eb_85c6_309c239bd47frow11_col5\" class=\"data row11 col5\" >Indian Restaurant</td>\n                        <td id=\"T_ab6ea670_1097_11eb_85c6_309c239bd47frow11_col6\" class=\"data row11 col6\" >Pizza Place</td>\n                        <td id=\"T_ab6ea670_1097_11eb_85c6_309c239bd47frow11_col7\" class=\"data row11 col7\" >Gastropub</td>\n                        <td id=\"T_ab6ea670_1097_11eb_85c6_309c239bd47frow11_col8\" class=\"data row11 col8\" >Portuguese Restaurant</td>\n                        <td id=\"T_ab6ea670_1097_11eb_85c6_309c239bd47frow11_col9\" class=\"data row11 col9\" >Burger Joint</td>\n                        <td id=\"T_ab6ea670_1097_11eb_85c6_309c239bd47frow11_col10\" class=\"data row11 col10\" >Japanese Restaurant</td>\n                        <td id=\"T_ab6ea670_1097_11eb_85c6_309c239bd47frow11_col11\" class=\"data row11 col11\" >Chinese Restaurant</td>\n                        <td id=\"T_ab6ea670_1097_11eb_85c6_309c239bd47frow11_col12\" class=\"data row11 col12\" >Tapas Restaurant</td>\n                        <td id=\"T_ab6ea670_1097_11eb_85c6_309c239bd47frow11_col13\" class=\"data row11 col13\" >Mediterranean Restaurant</td>\n                        <td id=\"T_ab6ea670_1097_11eb_85c6_309c239bd47frow11_col14\" class=\"data row11 col14\" >3</td>\n                        <td id=\"T_ab6ea670_1097_11eb_85c6_309c239bd47frow11_col15\" class=\"data row11 col15\" >4</td>\n            </tr>\n            <tr>\n                        <th id=\"T_ab6ea670_1097_11eb_85c6_309c239bd47flevel0_row12\" class=\"row_heading level0 row12\" >0</th>\n                        <td id=\"T_ab6ea670_1097_11eb_85c6_309c239bd47frow12_col0\" class=\"data row12 col0\" >10.000000</td>\n                        <td id=\"T_ab6ea670_1097_11eb_85c6_309c239bd47frow12_col1\" class=\"data row12 col1\" >51.531015</td>\n                        <td id=\"T_ab6ea670_1097_11eb_85c6_309c239bd47frow12_col2\" class=\"data row12 col2\" >-0.070671</td>\n                        <td id=\"T_ab6ea670_1097_11eb_85c6_309c239bd47frow12_col3\" class=\"data row12 col3\" >2272.000000</td>\n                        <td id=\"T_ab6ea670_1097_11eb_85c6_309c239bd47frow12_col4\" class=\"data row12 col4\" >Italian Restaurant</td>\n                        <td id=\"T_ab6ea670_1097_11eb_85c6_309c239bd47frow12_col5\" class=\"data row12 col5\" >Pizza Place</td>\n                        <td id=\"T_ab6ea670_1097_11eb_85c6_309c239bd47frow12_col6\" class=\"data row12 col6\" >Burger Joint</td>\n                        <td id=\"T_ab6ea670_1097_11eb_85c6_309c239bd47frow12_col7\" class=\"data row12 col7\" >Vietnamese Restaurant</td>\n                        <td id=\"T_ab6ea670_1097_11eb_85c6_309c239bd47frow12_col8\" class=\"data row12 col8\" >Indian Restaurant</td>\n                        <td id=\"T_ab6ea670_1097_11eb_85c6_309c239bd47frow12_col9\" class=\"data row12 col9\" >Middle Eastern Restaurant</td>\n                        <td id=\"T_ab6ea670_1097_11eb_85c6_309c239bd47frow12_col10\" class=\"data row12 col10\" >Chinese Restaurant</td>\n                        <td id=\"T_ab6ea670_1097_11eb_85c6_309c239bd47frow12_col11\" class=\"data row12 col11\" >Breakfast Spot</td>\n                        <td id=\"T_ab6ea670_1097_11eb_85c6_309c239bd47frow12_col12\" class=\"data row12 col12\" >Gastropub</td>\n                        <td id=\"T_ab6ea670_1097_11eb_85c6_309c239bd47frow12_col13\" class=\"data row12 col13\" >Turkish Restaurant</td>\n                        <td id=\"T_ab6ea670_1097_11eb_85c6_309c239bd47frow12_col14\" class=\"data row12 col14\" >3</td>\n                        <td id=\"T_ab6ea670_1097_11eb_85c6_309c239bd47frow12_col15\" class=\"data row12 col15\" >6</td>\n            </tr>\n            <tr>\n                        <th id=\"T_ab6ea670_1097_11eb_85c6_309c239bd47flevel0_row13\" class=\"row_heading level0 row13\" >4</th>\n                        <td id=\"T_ab6ea670_1097_11eb_85c6_309c239bd47frow13_col0\" class=\"data row13 col0\" >27.000000</td>\n                        <td id=\"T_ab6ea670_1097_11eb_85c6_309c239bd47frow13_col1\" class=\"data row13 col1\" >51.496689</td>\n                        <td id=\"T_ab6ea670_1097_11eb_85c6_309c239bd47frow13_col2\" class=\"data row13 col2\" >-0.019123</td>\n                        <td id=\"T_ab6ea670_1097_11eb_85c6_309c239bd47frow13_col3\" class=\"data row13 col3\" >4815.000000</td>\n                        <td id=\"T_ab6ea670_1097_11eb_85c6_309c239bd47frow13_col4\" class=\"data row13 col4\" >Italian Restaurant</td>\n                        <td id=\"T_ab6ea670_1097_11eb_85c6_309c239bd47frow13_col5\" class=\"data row13 col5\" >Pizza Place</td>\n                        <td id=\"T_ab6ea670_1097_11eb_85c6_309c239bd47frow13_col6\" class=\"data row13 col6\" >Fast Food Restaurant</td>\n                        <td id=\"T_ab6ea670_1097_11eb_85c6_309c239bd47frow13_col7\" class=\"data row13 col7\" >Indian Restaurant</td>\n                        <td id=\"T_ab6ea670_1097_11eb_85c6_309c239bd47frow13_col8\" class=\"data row13 col8\" >Burger Joint</td>\n                        <td id=\"T_ab6ea670_1097_11eb_85c6_309c239bd47frow13_col9\" class=\"data row13 col9\" >Vietnamese Restaurant</td>\n                        <td id=\"T_ab6ea670_1097_11eb_85c6_309c239bd47frow13_col10\" class=\"data row13 col10\" >Chinese Restaurant</td>\n                        <td id=\"T_ab6ea670_1097_11eb_85c6_309c239bd47frow13_col11\" class=\"data row13 col11\" >English Restaurant</td>\n                        <td id=\"T_ab6ea670_1097_11eb_85c6_309c239bd47frow13_col12\" class=\"data row13 col12\" >Sushi Restaurant</td>\n                        <td id=\"T_ab6ea670_1097_11eb_85c6_309c239bd47frow13_col13\" class=\"data row13 col13\" >American Restaurant</td>\n                        <td id=\"T_ab6ea670_1097_11eb_85c6_309c239bd47frow13_col14\" class=\"data row13 col14\" >3</td>\n                        <td id=\"T_ab6ea670_1097_11eb_85c6_309c239bd47frow13_col15\" class=\"data row13 col15\" >7</td>\n            </tr>\n            <tr>\n                        <th id=\"T_ab6ea670_1097_11eb_85c6_309c239bd47flevel0_row14\" class=\"row_heading level0 row14\" >1</th>\n                        <td id=\"T_ab6ea670_1097_11eb_85c6_309c239bd47frow14_col0\" class=\"data row14 col0\" >12.000000</td>\n                        <td id=\"T_ab6ea670_1097_11eb_85c6_309c239bd47frow14_col1\" class=\"data row14 col1\" >51.557027</td>\n                        <td id=\"T_ab6ea670_1097_11eb_85c6_309c239bd47frow14_col2\" class=\"data row14 col2\" >-0.118661</td>\n                        <td id=\"T_ab6ea670_1097_11eb_85c6_309c239bd47frow14_col3\" class=\"data row14 col3\" >2858.000000</td>\n                        <td id=\"T_ab6ea670_1097_11eb_85c6_309c239bd47frow14_col4\" class=\"data row14 col4\" >Italian Restaurant</td>\n                        <td id=\"T_ab6ea670_1097_11eb_85c6_309c239bd47frow14_col5\" class=\"data row14 col5\" >Pizza Place</td>\n                        <td id=\"T_ab6ea670_1097_11eb_85c6_309c239bd47frow14_col6\" class=\"data row14 col6\" >Indian Restaurant</td>\n                        <td id=\"T_ab6ea670_1097_11eb_85c6_309c239bd47frow14_col7\" class=\"data row14 col7\" >Thai Restaurant</td>\n                        <td id=\"T_ab6ea670_1097_11eb_85c6_309c239bd47frow14_col8\" class=\"data row14 col8\" >Ethiopian Restaurant</td>\n                        <td id=\"T_ab6ea670_1097_11eb_85c6_309c239bd47frow14_col9\" class=\"data row14 col9\" >Vietnamese Restaurant</td>\n                        <td id=\"T_ab6ea670_1097_11eb_85c6_309c239bd47frow14_col10\" class=\"data row14 col10\" >Vegetarian / Vegan Restaurant</td>\n                        <td id=\"T_ab6ea670_1097_11eb_85c6_309c239bd47frow14_col11\" class=\"data row14 col11\" >Tapas Restaurant</td>\n                        <td id=\"T_ab6ea670_1097_11eb_85c6_309c239bd47frow14_col12\" class=\"data row14 col12\" >Bistro</td>\n                        <td id=\"T_ab6ea670_1097_11eb_85c6_309c239bd47frow14_col13\" class=\"data row14 col13\" >Kebab Restaurant</td>\n                        <td id=\"T_ab6ea670_1097_11eb_85c6_309c239bd47frow14_col14\" class=\"data row14 col14\" >3</td>\n                        <td id=\"T_ab6ea670_1097_11eb_85c6_309c239bd47frow14_col15\" class=\"data row14 col15\" >2</td>\n            </tr>\n            <tr>\n                        <th id=\"T_ab6ea670_1097_11eb_85c6_309c239bd47flevel0_row15\" class=\"row_heading level0 row15\" >6</th>\n                        <td id=\"T_ab6ea670_1097_11eb_85c6_309c239bd47frow15_col0\" class=\"data row15 col0\" >31.000000</td>\n                        <td id=\"T_ab6ea670_1097_11eb_85c6_309c239bd47frow15_col1\" class=\"data row15 col1\" >51.492763</td>\n                        <td id=\"T_ab6ea670_1097_11eb_85c6_309c239bd47frow15_col2\" class=\"data row15 col2\" >-0.100181</td>\n                        <td id=\"T_ab6ea670_1097_11eb_85c6_309c239bd47frow15_col3\" class=\"data row15 col3\" >4130.000000</td>\n                        <td id=\"T_ab6ea670_1097_11eb_85c6_309c239bd47frow15_col4\" class=\"data row15 col4\" >Italian Restaurant</td>\n                        <td id=\"T_ab6ea670_1097_11eb_85c6_309c239bd47frow15_col5\" class=\"data row15 col5\" >Indian Restaurant</td>\n                        <td id=\"T_ab6ea670_1097_11eb_85c6_309c239bd47frow15_col6\" class=\"data row15 col6\" >Asian Restaurant</td>\n                        <td id=\"T_ab6ea670_1097_11eb_85c6_309c239bd47frow15_col7\" class=\"data row15 col7\" >Pizza Place</td>\n                        <td id=\"T_ab6ea670_1097_11eb_85c6_309c239bd47frow15_col8\" class=\"data row15 col8\" >Burger Joint</td>\n                        <td id=\"T_ab6ea670_1097_11eb_85c6_309c239bd47frow15_col9\" class=\"data row15 col9\" >Chinese Restaurant</td>\n                        <td id=\"T_ab6ea670_1097_11eb_85c6_309c239bd47frow15_col10\" class=\"data row15 col10\" >Portuguese Restaurant</td>\n                        <td id=\"T_ab6ea670_1097_11eb_85c6_309c239bd47frow15_col11\" class=\"data row15 col11\" >Seafood Restaurant</td>\n                        <td id=\"T_ab6ea670_1097_11eb_85c6_309c239bd47frow15_col12\" class=\"data row15 col12\" >French Restaurant</td>\n                        <td id=\"T_ab6ea670_1097_11eb_85c6_309c239bd47frow15_col13\" class=\"data row15 col13\" >Sushi Restaurant</td>\n                        <td id=\"T_ab6ea670_1097_11eb_85c6_309c239bd47frow15_col14\" class=\"data row15 col14\" >3</td>\n                        <td id=\"T_ab6ea670_1097_11eb_85c6_309c239bd47frow15_col15\" class=\"data row15 col15\" >6</td>\n            </tr>\n            <tr>\n                        <th id=\"T_ab6ea670_1097_11eb_85c6_309c239bd47flevel0_row16\" class=\"row_heading level0 row16\" >8</th>\n                        <td id=\"T_ab6ea670_1097_11eb_85c6_309c239bd47frow16_col0\" class=\"data row16 col0\" >58.000000</td>\n                        <td id=\"T_ab6ea670_1097_11eb_85c6_309c239bd47frow16_col1\" class=\"data row16 col1\" >51.502225</td>\n                        <td id=\"T_ab6ea670_1097_11eb_85c6_309c239bd47frow16_col2\" class=\"data row16 col2\" >-0.058651</td>\n                        <td id=\"T_ab6ea670_1097_11eb_85c6_309c239bd47frow16_col3\" class=\"data row16 col3\" >3555.000000</td>\n                        <td id=\"T_ab6ea670_1097_11eb_85c6_309c239bd47frow16_col4\" class=\"data row16 col4\" >Pizza Place</td>\n                        <td id=\"T_ab6ea670_1097_11eb_85c6_309c239bd47frow16_col5\" class=\"data row16 col5\" >Indian Restaurant</td>\n                        <td id=\"T_ab6ea670_1097_11eb_85c6_309c239bd47frow16_col6\" class=\"data row16 col6\" >Italian Restaurant</td>\n                        <td id=\"T_ab6ea670_1097_11eb_85c6_309c239bd47frow16_col7\" class=\"data row16 col7\" >Vietnamese Restaurant</td>\n                        <td id=\"T_ab6ea670_1097_11eb_85c6_309c239bd47frow16_col8\" class=\"data row16 col8\" >English Restaurant</td>\n                        <td id=\"T_ab6ea670_1097_11eb_85c6_309c239bd47frow16_col9\" class=\"data row16 col9\" >Breakfast Spot</td>\n                        <td id=\"T_ab6ea670_1097_11eb_85c6_309c239bd47frow16_col10\" class=\"data row16 col10\" >Fast Food Restaurant</td>\n                        <td id=\"T_ab6ea670_1097_11eb_85c6_309c239bd47frow16_col11\" class=\"data row16 col11\" >Chinese Restaurant</td>\n                        <td id=\"T_ab6ea670_1097_11eb_85c6_309c239bd47frow16_col12\" class=\"data row16 col12\" >French Restaurant</td>\n                        <td id=\"T_ab6ea670_1097_11eb_85c6_309c239bd47frow16_col13\" class=\"data row16 col13\" >Turkish Restaurant</td>\n                        <td id=\"T_ab6ea670_1097_11eb_85c6_309c239bd47frow16_col14\" class=\"data row16 col14\" >3</td>\n                        <td id=\"T_ab6ea670_1097_11eb_85c6_309c239bd47frow16_col15\" class=\"data row16 col15\" >5</td>\n            </tr>\n    </tbody></table>"
     },
     "metadata": {},
     "execution_count": 65
    }
   ],
   "source": [
    "# to highlight the Chinese restaurants in our table\n",
    "\n",
    "def highlight_cn(val):\n",
    "    color = 'magenta' if val == 'Chinese Restaurant' else ''\n",
    "    return 'color: %s' % color\n",
    "\n",
    "final_table.style.applymap(highlight_cn)"
   ]
  },
  {
   "cell_type": "code",
   "execution_count": 66,
   "metadata": {},
   "outputs": [
    {
     "output_type": "execute_result",
     "data": {
      "text/plain": [
       "   Population Cluster   Latitude  Longitude  Chinese Population  \\\n",
       "5                29.0  51.488689  -0.173916              2542.0   \n",
       "7                54.0  51.531389  -0.102945              3189.0   \n",
       "9                59.0  51.491664  -0.201069              4004.0   \n",
       "\n",
       "  1st Most Popular Venue 2nd Most Popular Venue 3rd Most Popular Venue  \\\n",
       "5     Italian Restaurant            Pizza Place      French Restaurant   \n",
       "7     Italian Restaurant            Pizza Place  Vietnamese Restaurant   \n",
       "9     Italian Restaurant            Pizza Place      Indian Restaurant   \n",
       "\n",
       "  4th Most Popular Venue 5th Most Popular Venue 6th Most Popular Venue  \\\n",
       "5    Japanese Restaurant      Indian Restaurant           Burger Joint   \n",
       "7           Burger Joint      French Restaurant              Gastropub   \n",
       "9              Gastropub           Burger Joint        Thai Restaurant   \n",
       "\n",
       "      7th Most Popular Venue    8th Most Popular Venue  \\\n",
       "5                  Gastropub        English Restaurant   \n",
       "7        Japanese Restaurant                Steakhouse   \n",
       "9  Middle Eastern Restaurant  Mediterranean Restaurant   \n",
       "\n",
       "      9th Most Popular Venue 10th Most Popular Venue  Venue Cluster  \\\n",
       "5  Middle Eastern Restaurant         Thai Restaurant              1   \n",
       "7                 Food Truck       Indian Restaurant              1   \n",
       "9          French Restaurant     Japanese Restaurant              1   \n",
       "\n",
       "   Chinese Restaurant  \n",
       "5                   5  \n",
       "7                   2  \n",
       "9                   1  "
      ],
      "text/html": "<div>\n<style scoped>\n    .dataframe tbody tr th:only-of-type {\n        vertical-align: middle;\n    }\n\n    .dataframe tbody tr th {\n        vertical-align: top;\n    }\n\n    .dataframe thead th {\n        text-align: right;\n    }\n</style>\n<table border=\"1\" class=\"dataframe\">\n  <thead>\n    <tr style=\"text-align: right;\">\n      <th></th>\n      <th>Population Cluster</th>\n      <th>Latitude</th>\n      <th>Longitude</th>\n      <th>Chinese Population</th>\n      <th>1st Most Popular Venue</th>\n      <th>2nd Most Popular Venue</th>\n      <th>3rd Most Popular Venue</th>\n      <th>4th Most Popular Venue</th>\n      <th>5th Most Popular Venue</th>\n      <th>6th Most Popular Venue</th>\n      <th>7th Most Popular Venue</th>\n      <th>8th Most Popular Venue</th>\n      <th>9th Most Popular Venue</th>\n      <th>10th Most Popular Venue</th>\n      <th>Venue Cluster</th>\n      <th>Chinese Restaurant</th>\n    </tr>\n  </thead>\n  <tbody>\n    <tr>\n      <th>5</th>\n      <td>29.0</td>\n      <td>51.488689</td>\n      <td>-0.173916</td>\n      <td>2542.0</td>\n      <td>Italian Restaurant</td>\n      <td>Pizza Place</td>\n      <td>French Restaurant</td>\n      <td>Japanese Restaurant</td>\n      <td>Indian Restaurant</td>\n      <td>Burger Joint</td>\n      <td>Gastropub</td>\n      <td>English Restaurant</td>\n      <td>Middle Eastern Restaurant</td>\n      <td>Thai Restaurant</td>\n      <td>1</td>\n      <td>5</td>\n    </tr>\n    <tr>\n      <th>7</th>\n      <td>54.0</td>\n      <td>51.531389</td>\n      <td>-0.102945</td>\n      <td>3189.0</td>\n      <td>Italian Restaurant</td>\n      <td>Pizza Place</td>\n      <td>Vietnamese Restaurant</td>\n      <td>Burger Joint</td>\n      <td>French Restaurant</td>\n      <td>Gastropub</td>\n      <td>Japanese Restaurant</td>\n      <td>Steakhouse</td>\n      <td>Food Truck</td>\n      <td>Indian Restaurant</td>\n      <td>1</td>\n      <td>2</td>\n    </tr>\n    <tr>\n      <th>9</th>\n      <td>59.0</td>\n      <td>51.491664</td>\n      <td>-0.201069</td>\n      <td>4004.0</td>\n      <td>Italian Restaurant</td>\n      <td>Pizza Place</td>\n      <td>Indian Restaurant</td>\n      <td>Gastropub</td>\n      <td>Burger Joint</td>\n      <td>Thai Restaurant</td>\n      <td>Middle Eastern Restaurant</td>\n      <td>Mediterranean Restaurant</td>\n      <td>French Restaurant</td>\n      <td>Japanese Restaurant</td>\n      <td>1</td>\n      <td>1</td>\n    </tr>\n  </tbody>\n</table>\n</div>"
     },
     "metadata": {},
     "execution_count": 66
    }
   ],
   "source": [
    "# filter for cluster 1\n",
    "cluster_1 = final_table[(final_table['Venue Cluster'] == 1)]\n",
    "cluster_1"
   ]
  },
  {
   "cell_type": "code",
   "execution_count": null,
   "metadata": {},
   "outputs": [],
   "source": [
    "# show\n",
    "# creating map\n",
    "m = folium.Map(location=[location.latitude, location.longitude],\n",
    "              tiles='cartodbpositron',\n",
    "              zoom_start=12)\n",
    "\n",
    "# show MSOAs\n",
    "folium.GeoJson(\n",
    "    lon_geojson.to_json(),\n",
    "    name='MOAs',\n",
    "    style_function = lambda x: \n",
    "        {'color': '#000000',\n",
    "         'weight': 0.3,\n",
    "         'opacity': 0.5,\n",
    "         'fillColor': 'lightgrey',\n",
    "         'fillOpacity': 0.2}\n",
    ").add_to(m)\n",
    "\n",
    "# choropleth map for population density in MSOAs\n",
    "folium.Choropleth(\n",
    "    geo_data=lon_geojson_dissolved.to_json(),\n",
    "    name='Choropleth',\n",
    "    data=filtered_sum_df,\n",
    "    columns=['Population Cluster', 'Chinese Population'],\n",
    "    key_on='feature.properties.cluster',\n",
    "    fill_color='YlGn',\n",
    "    fill_opacity=0.8,\n",
    "    line_opacity=0.2,\n",
    "    legend_name='Population'\n",
    ").add_to(m)\n",
    "    \n",
    "fg=folium.FeatureGroup(name='Low Chinese restaurant popularity', show=True).add_to(m)\n",
    "\n",
    "for point in cluster_1[['Latitude', 'Longitude', 'Chinese Restaurant', 'Chinese Population', 'Population Cluster']].to_numpy():\n",
    "    folium.Circle(\n",
    "        location=[point[0], point[1]],\n",
    "        radius=point[2]*100,\n",
    "        color='crimson',\n",
    "        fill=True,\n",
    "        fill_color='crimson', \n",
    "        tooltip=f'''Chinese Population: {int(point[3])}<br>\n",
    "                Chinese Resaturants: {int(point[2])}<br>\n",
    "                Cluster Number: {int(point[4])}'''\n",
    "    ).add_to(fg)\n",
    "m"
   ]
  },
  {
   "source": [
    "<img src=\"maps/Result.png\">"
   ],
   "cell_type": "markdown",
   "metadata": {}
  },
  {
   "cell_type": "code",
   "execution_count": 67,
   "metadata": {},
   "outputs": [
    {
     "output_type": "execute_result",
     "data": {
      "text/plain": [
       "                    Chinese Population Rank  Chinese Restaurant Rank  \\\n",
       "Population Cluster                                                     \n",
       "29.0                                    3.0                      3.0   \n",
       "54.0                                    2.0                      2.0   \n",
       "59.0                                    1.0                      1.0   \n",
       "\n",
       "                          Suburb  \n",
       "Population Cluster                \n",
       "29.0                     Chelsea  \n",
       "54.0                    Finsbury  \n",
       "59.0                Earl's Court  "
      ],
      "text/html": "<div>\n<style scoped>\n    .dataframe tbody tr th:only-of-type {\n        vertical-align: middle;\n    }\n\n    .dataframe tbody tr th {\n        vertical-align: top;\n    }\n\n    .dataframe thead th {\n        text-align: right;\n    }\n</style>\n<table border=\"1\" class=\"dataframe\">\n  <thead>\n    <tr style=\"text-align: right;\">\n      <th></th>\n      <th>Chinese Population Rank</th>\n      <th>Chinese Restaurant Rank</th>\n      <th>Suburb</th>\n    </tr>\n    <tr>\n      <th>Population Cluster</th>\n      <th></th>\n      <th></th>\n      <th></th>\n    </tr>\n  </thead>\n  <tbody>\n    <tr>\n      <th>29.0</th>\n      <td>3.0</td>\n      <td>3.0</td>\n      <td>Chelsea</td>\n    </tr>\n    <tr>\n      <th>54.0</th>\n      <td>2.0</td>\n      <td>2.0</td>\n      <td>Finsbury</td>\n    </tr>\n    <tr>\n      <th>59.0</th>\n      <td>1.0</td>\n      <td>1.0</td>\n      <td>Earl's Court</td>\n    </tr>\n  </tbody>\n</table>\n</div>"
     },
     "metadata": {},
     "execution_count": 67
    }
   ],
   "source": [
    "# let's rank the features\n",
    "pd.DataFrame({'Population Cluster': cluster_1['Population Cluster'], \n",
    "            'Chinese Population Rank' : cluster_1['Chinese Population'].rank(ascending=False),\n",
    "            'Chinese Restaurant Rank' : cluster_1['Chinese Restaurant'].rank(),\n",
    "            'Suburb' : cluster_1.apply(lambda x: geolocator.reverse((x['Latitude'], x['Longitude'])).raw['address']['suburb'], axis=1)}).set_index('Population Cluster')\n"
   ]
  },
  {
   "source": [
    "### Our winner is Earl's Court!"
   ],
   "cell_type": "markdown",
   "metadata": {}
  },
  {
   "cell_type": "code",
   "execution_count": null,
   "metadata": {},
   "outputs": [],
   "source": []
  }
 ],
 "metadata": {
  "kernelspec": {
   "name": "Python 3.8.5 64-bit ('base': conda)",
   "display_name": "Python 3.8.5 64-bit ('base': conda)",
   "metadata": {
    "interpreter": {
     "hash": "e11a1724023a889864101f08b5a86ba073dd501b2e24b08f268814c4b4d1d251"
    }
   }
  },
  "language_info": {
   "codemirror_mode": {
    "name": "ipython",
    "version": 3
   },
   "file_extension": ".py",
   "mimetype": "text/x-python",
   "name": "python",
   "nbconvert_exporter": "python",
   "pygments_lexer": "ipython3",
   "version": "3.8.5-final"
  }
 },
 "nbformat": 4,
 "nbformat_minor": 4
}